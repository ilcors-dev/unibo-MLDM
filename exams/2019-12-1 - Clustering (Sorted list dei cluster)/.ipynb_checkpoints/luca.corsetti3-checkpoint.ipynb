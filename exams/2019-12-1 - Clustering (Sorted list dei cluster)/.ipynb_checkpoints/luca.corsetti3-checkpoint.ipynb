{
 "cells": [
  {
   "cell_type": "markdown",
   "id": "a1742520-7c98-44ec-8574-c464037f2d05",
   "metadata": {},
   "source": [
    "# Lab Activity 17-12-2019 - Simulation of lab exam"
   ]
  },
  {
   "cell_type": "markdown",
   "id": "a1cec820-6818-472e-b70a-2a5aec262a54",
   "metadata": {},
   "source": [
    "Find the clusters in the included dataset.\n",
    "\n",
    "## 1. the boxplots of the attributes and a comment on remarkable situations, if any (2pt)"
   ]
  },
  {
   "cell_type": "code",
   "execution_count": 5,
   "id": "4c1453f1-212f-4a35-bab8-328f98d5c0ae",
   "metadata": {},
   "outputs": [
    {
     "data": {
      "text/html": [
       "<div>\n",
       "<style scoped>\n",
       "    .dataframe tbody tr th:only-of-type {\n",
       "        vertical-align: middle;\n",
       "    }\n",
       "\n",
       "    .dataframe tbody tr th {\n",
       "        vertical-align: top;\n",
       "    }\n",
       "\n",
       "    .dataframe thead th {\n",
       "        text-align: right;\n",
       "    }\n",
       "</style>\n",
       "<table border=\"1\" class=\"dataframe\">\n",
       "  <thead>\n",
       "    <tr style=\"text-align: right;\">\n",
       "      <th></th>\n",
       "      <th>0</th>\n",
       "      <th>1</th>\n",
       "      <th>2</th>\n",
       "      <th>3</th>\n",
       "    </tr>\n",
       "  </thead>\n",
       "  <tbody>\n",
       "    <tr>\n",
       "      <th>0</th>\n",
       "      <td>0.548814</td>\n",
       "      <td>-4.893751</td>\n",
       "      <td>0.365316</td>\n",
       "      <td>0.715189</td>\n",
       "    </tr>\n",
       "    <tr>\n",
       "      <th>1</th>\n",
       "      <td>0.602763</td>\n",
       "      <td>-0.387057</td>\n",
       "      <td>1.164867</td>\n",
       "      <td>0.544883</td>\n",
       "    </tr>\n",
       "    <tr>\n",
       "      <th>2</th>\n",
       "      <td>0.423655</td>\n",
       "      <td>-10.844898</td>\n",
       "      <td>-7.553523</td>\n",
       "      <td>0.645894</td>\n",
       "    </tr>\n",
       "    <tr>\n",
       "      <th>3</th>\n",
       "      <td>0.437587</td>\n",
       "      <td>1.975564</td>\n",
       "      <td>-1.274422</td>\n",
       "      <td>0.891773</td>\n",
       "    </tr>\n",
       "    <tr>\n",
       "      <th>4</th>\n",
       "      <td>0.963663</td>\n",
       "      <td>-4.054276</td>\n",
       "      <td>0.064053</td>\n",
       "      <td>0.383442</td>\n",
       "    </tr>\n",
       "  </tbody>\n",
       "</table>\n",
       "</div>"
      ],
      "text/plain": [
       "          0          1         2         3\n",
       "0  0.548814  -4.893751  0.365316  0.715189\n",
       "1  0.602763  -0.387057  1.164867  0.544883\n",
       "2  0.423655 -10.844898 -7.553523  0.645894\n",
       "3  0.437587   1.975564 -1.274422  0.891773\n",
       "4  0.963663  -4.054276  0.064053  0.383442"
      ]
     },
     "execution_count": 5,
     "metadata": {},
     "output_type": "execute_result"
    }
   ],
   "source": [
    "import pandas as pd\n",
    "import numpy as np\n",
    "import seaborn as sns\n",
    "\n",
    "random_state=234\n",
    "np.random.seed(random_state)\n",
    "\n",
    "df = pd.read_csv('./lab_exercise.csv', header=None)\n",
    "\n",
    "df.head()"
   ]
  },
  {
   "cell_type": "code",
   "execution_count": 2,
   "id": "1a071a02-8146-4671-878b-5894c1d716a1",
   "metadata": {},
   "outputs": [
    {
     "data": {
      "text/plain": [
       "<Axes: >"
      ]
     },
     "execution_count": 2,
     "metadata": {},
     "output_type": "execute_result"
    },
    {
     "data": {
      "image/png": "[encoded data removed]",
      "text/plain": [
       "<Figure size 640x480 with 1 Axes>"
      ]
     },
     "metadata": {},
     "output_type": "display_data"
    }
   ],
   "source": [
    "df.boxplot()"
   ]
  },
  {
   "cell_type": "markdown",
   "id": "e4e71c9f-6d38-41ba-8d00-28e13fb26202",
   "metadata": {},
   "source": [
    "The boxplots show that there are no outliers, the distribution of 0 and 3 is very similar. 1 and\n",
    "2 have a similar median value but different distribution of values. There doesn’t seem to be any\n",
    "particular situaion showing"
   ]
  },
  {
   "cell_type": "markdown",
   "id": "9691af5d-dfa9-4245-9865-30e34001531b",
   "metadata": {},
   "source": [
    "## 2. a pairplot of the data (see Seaborn pairplot) and a comment on remarkable situations, if any (2pt)"
   ]
  },
  {
   "cell_type": "code",
   "execution_count": 4,
   "id": "a9b19932-8419-46d8-b960-3ac746ad2f86",
   "metadata": {},
   "outputs": [
    {
     "data": {
      "text/plain": [
       "<seaborn.axisgrid.PairGrid at 0x1172e9810>"
      ]
     },
     "execution_count": 4,
     "metadata": {},
     "output_type": "execute_result"
    }
   ],
   "source": [
    "sns.pairplot(df)"
   ]
  }
 ],
 "metadata": {
  "kernelspec": {
   "display_name": "Python 3 (ipykernel)",
   "language": "python",
   "name": "python3"
  },
  "language_info": {
   "codemirror_mode": {
    "name": "ipython",
    "version": 3
   },
   "file_extension": ".py",
   "mimetype": "text/x-python",
   "name": "python",
   "nbconvert_exporter": "python",
   "pygments_lexer": "ipython3",
   "version": "3.13.1"
  }
 },
 "nbformat": 4,
 "nbformat_minor": 5
}
