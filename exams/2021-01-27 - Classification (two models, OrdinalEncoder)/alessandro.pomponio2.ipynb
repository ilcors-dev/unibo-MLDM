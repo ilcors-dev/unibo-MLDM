{
 "cells": [
  {
   "cell_type": "markdown",
   "metadata": {},
   "source": [
    "# Alessandro Pomponio - alessandro.pomponio2@studio.unibo.it"
   ]
  },
  {
   "cell_type": "code",
   "execution_count": 52,
   "metadata": {},
   "outputs": [],
   "source": [
    "# Imports\n",
    "import pandas as pd\n",
    "import numpy as np\n",
    "import matplotlib.pyplot as plt\n",
    "from sklearn.preprocessing import OrdinalEncoder\n",
    "from sklearn.model_selection import train_test_split\n",
    "from sklearn.tree import DecisionTreeClassifier\n",
    "from sklearn.neighbors import KNeighborsClassifier\n",
    "from sklearn.model_selection import GridSearchCV\n",
    "from sklearn.metrics import accuracy_score, confusion_matrix, plot_confusion_matrix\n",
    "\n",
    "# Variables\n",
    "file_name = 'exam_2021_01_27.csv'\n",
    "separator = ','\n",
    "random_state = 42\n",
    "\n",
    "# Directives\n",
    "%matplotlib inline\n",
    "np.random.seed(random_state)\n"
   ]
  },
  {
   "cell_type": "markdown",
   "metadata": {},
   "source": [
    "1. Load the data from the file and show: the\n",
    "first few rows, the output of the\n",
    ".describe() function, the number of rows\n",
    "and columns (4pt)\n",
    "2. Since the data contain nulls, eliminate the\n",
    "rows with nulls\n",
    "3. Since one of the predicting attributes is\n",
    "ordinal, it must be converted into numeric,\n",
    "you can use the OrdinalEncoder\n",
    "4. Split the data into train and test\n",
    "5. Use two classification models of your\n",
    "choice (say: model 1 and model 2) execute\n",
    "the tasks below\n",
    "6. Model 1: find and show the best\n",
    "hyperparameter setting with cross validation\n",
    "on the training set, optimise for the best\n",
    "accuracy\n",
    "7. Model 1: show the accuracy of\n",
    "classification and the confusion matrix on\n",
    "the test set\n",
    "For the confusion matrix use\n",
    "plot_confusion_matrix normalized in order\n",
    "to show for each class the precision (read\n",
    "carefully the documentation)\n",
    "8. Model 2: find and show the best\n",
    "hyperparameter setting with cross validation\n",
    "on the training set, optimise for the best\n",
    "accuracy\n",
    "9. Model 2: show the accuracy of\n",
    "classification and the confusion matrix on\n",
    "the test set\n",
    "For the confusion matrix use\n",
    "plot_confusion_matrix normalized in order\n",
    "to show for each class the precision (read\n",
    "carefully the documentation)\n"
   ]
  },
  {
   "cell_type": "markdown",
   "metadata": {},
   "source": [
    "## 1. Load the data from the file and show: the first few rows, the output of the .describe() function, the number of rows and columns (4pt)"
   ]
  },
  {
   "cell_type": "code",
   "execution_count": 53,
   "metadata": {},
   "outputs": [],
   "source": [
    "# Load the data from the file\n",
    "df = pd.read_csv(file_name, sep = separator, header = None)"
   ]
  },
  {
   "cell_type": "code",
   "execution_count": 54,
   "metadata": {},
   "outputs": [
    {
     "data": {
      "text/html": [
       "<div>\n",
       "<style scoped>\n",
       "    .dataframe tbody tr th:only-of-type {\n",
       "        vertical-align: middle;\n",
       "    }\n",
       "\n",
       "    .dataframe tbody tr th {\n",
       "        vertical-align: top;\n",
       "    }\n",
       "\n",
       "    .dataframe thead th {\n",
       "        text-align: right;\n",
       "    }\n",
       "</style>\n",
       "<table border=\"1\" class=\"dataframe\">\n",
       "  <thead>\n",
       "    <tr style=\"text-align: right;\">\n",
       "      <th></th>\n",
       "      <th>0</th>\n",
       "      <th>1</th>\n",
       "      <th>2</th>\n",
       "      <th>3</th>\n",
       "      <th>4</th>\n",
       "    </tr>\n",
       "  </thead>\n",
       "  <tbody>\n",
       "    <tr>\n",
       "      <th>0</th>\n",
       "      <td>5.1</td>\n",
       "      <td>3.5</td>\n",
       "      <td>a</td>\n",
       "      <td>NaN</td>\n",
       "      <td>0</td>\n",
       "    </tr>\n",
       "    <tr>\n",
       "      <th>1</th>\n",
       "      <td>4.9</td>\n",
       "      <td>3.0</td>\n",
       "      <td>a</td>\n",
       "      <td>NaN</td>\n",
       "      <td>0</td>\n",
       "    </tr>\n",
       "    <tr>\n",
       "      <th>2</th>\n",
       "      <td>NaN</td>\n",
       "      <td>3.2</td>\n",
       "      <td>a</td>\n",
       "      <td>NaN</td>\n",
       "      <td>0</td>\n",
       "    </tr>\n",
       "    <tr>\n",
       "      <th>3</th>\n",
       "      <td>4.6</td>\n",
       "      <td>NaN</td>\n",
       "      <td>a</td>\n",
       "      <td>0.2</td>\n",
       "      <td>0</td>\n",
       "    </tr>\n",
       "    <tr>\n",
       "      <th>4</th>\n",
       "      <td>5.0</td>\n",
       "      <td>3.6</td>\n",
       "      <td>a</td>\n",
       "      <td>0.2</td>\n",
       "      <td>0</td>\n",
       "    </tr>\n",
       "  </tbody>\n",
       "</table>\n",
       "</div>"
      ],
      "text/plain": [
       "     0    1  2    3  4\n",
       "0  5.1  3.5  a  NaN  0\n",
       "1  4.9  3.0  a  NaN  0\n",
       "2  NaN  3.2  a  NaN  0\n",
       "3  4.6  NaN  a  0.2  0\n",
       "4  5.0  3.6  a  0.2  0"
      ]
     },
     "execution_count": 54,
     "metadata": {},
     "output_type": "execute_result"
    }
   ],
   "source": [
    "# Show the first few rows\n",
    "df.head()"
   ]
  },
  {
   "cell_type": "code",
   "execution_count": 55,
   "metadata": {},
   "outputs": [
    {
     "data": {
      "text/html": [
       "<div>\n",
       "<style scoped>\n",
       "    .dataframe tbody tr th:only-of-type {\n",
       "        vertical-align: middle;\n",
       "    }\n",
       "\n",
       "    .dataframe tbody tr th {\n",
       "        vertical-align: top;\n",
       "    }\n",
       "\n",
       "    .dataframe thead th {\n",
       "        text-align: right;\n",
       "    }\n",
       "</style>\n",
       "<table border=\"1\" class=\"dataframe\">\n",
       "  <thead>\n",
       "    <tr style=\"text-align: right;\">\n",
       "      <th></th>\n",
       "      <th>0</th>\n",
       "      <th>1</th>\n",
       "      <th>3</th>\n",
       "      <th>4</th>\n",
       "    </tr>\n",
       "  </thead>\n",
       "  <tbody>\n",
       "    <tr>\n",
       "      <th>count</th>\n",
       "      <td>141.000000</td>\n",
       "      <td>140.000000</td>\n",
       "      <td>137.000000</td>\n",
       "      <td>150.000000</td>\n",
       "    </tr>\n",
       "    <tr>\n",
       "      <th>mean</th>\n",
       "      <td>5.897872</td>\n",
       "      <td>3.036429</td>\n",
       "      <td>1.290511</td>\n",
       "      <td>1.000000</td>\n",
       "    </tr>\n",
       "    <tr>\n",
       "      <th>std</th>\n",
       "      <td>0.820232</td>\n",
       "      <td>0.437654</td>\n",
       "      <td>0.733934</td>\n",
       "      <td>0.819232</td>\n",
       "    </tr>\n",
       "    <tr>\n",
       "      <th>min</th>\n",
       "      <td>4.300000</td>\n",
       "      <td>2.000000</td>\n",
       "      <td>0.100000</td>\n",
       "      <td>0.000000</td>\n",
       "    </tr>\n",
       "    <tr>\n",
       "      <th>25%</th>\n",
       "      <td>5.200000</td>\n",
       "      <td>2.800000</td>\n",
       "      <td>0.400000</td>\n",
       "      <td>0.000000</td>\n",
       "    </tr>\n",
       "    <tr>\n",
       "      <th>50%</th>\n",
       "      <td>5.800000</td>\n",
       "      <td>3.000000</td>\n",
       "      <td>1.400000</td>\n",
       "      <td>1.000000</td>\n",
       "    </tr>\n",
       "    <tr>\n",
       "      <th>75%</th>\n",
       "      <td>6.400000</td>\n",
       "      <td>3.300000</td>\n",
       "      <td>1.800000</td>\n",
       "      <td>2.000000</td>\n",
       "    </tr>\n",
       "    <tr>\n",
       "      <th>max</th>\n",
       "      <td>7.900000</td>\n",
       "      <td>4.400000</td>\n",
       "      <td>2.500000</td>\n",
       "      <td>2.000000</td>\n",
       "    </tr>\n",
       "  </tbody>\n",
       "</table>\n",
       "</div>"
      ],
      "text/plain": [
       "                0           1           3           4\n",
       "count  141.000000  140.000000  137.000000  150.000000\n",
       "mean     5.897872    3.036429    1.290511    1.000000\n",
       "std      0.820232    0.437654    0.733934    0.819232\n",
       "min      4.300000    2.000000    0.100000    0.000000\n",
       "25%      5.200000    2.800000    0.400000    0.000000\n",
       "50%      5.800000    3.000000    1.400000    1.000000\n",
       "75%      6.400000    3.300000    1.800000    2.000000\n",
       "max      7.900000    4.400000    2.500000    2.000000"
      ]
     },
     "execution_count": 55,
     "metadata": {},
     "output_type": "execute_result"
    }
   ],
   "source": [
    "# Show the output of the describe() function\n",
    "df.describe()"
   ]
  },
  {
   "cell_type": "code",
   "execution_count": 56,
   "metadata": {},
   "outputs": [
    {
     "name": "stdout",
     "output_type": "stream",
     "text": [
      "There are 150 rows and 5 columns in this dataset\n"
     ]
    }
   ],
   "source": [
    "# Show the number of rows and columns\n",
    "print(f\"There are {df.shape[0]} rows and {df.shape[1]} columns in this dataset\")"
   ]
  },
  {
   "cell_type": "markdown",
   "metadata": {},
   "source": [
    "## 2. Since the data contain nulls, eliminate the rows with nulls"
   ]
  },
  {
   "cell_type": "code",
   "execution_count": 57,
   "metadata": {},
   "outputs": [],
   "source": [
    "# We will use Pandas's `dropna` function to eliminate the rows with nulls\n",
    "df = df.dropna()\n",
    "#df.shape                       #aggiunto"
   ]
  },
  {
   "cell_type": "markdown",
   "metadata": {},
   "source": [
    "## 3. Since one of the predicting attributes is ordinal, it must be converted into numeric, you can use the OrdinalEncoder"
   ]
  },
  {
   "cell_type": "markdown",
   "metadata": {},
   "source": [
    "The ordinal attribute is '2'"
   ]
  },
  {
   "cell_type": "code",
   "execution_count": 58,
   "metadata": {},
   "outputs": [],
   "source": [
    "# Set the transformer data type\n",
    "transf_dtype = np.int32\n",
    "\n",
    "# Instantiate the encoder and perform `fit_transform`\n",
    "encoder = OrdinalEncoder(dtype = transf_dtype)\n",
    "transformed = encoder.fit_transform(df)"
   ]
  },
  {
   "cell_type": "markdown",
   "metadata": {},
   "source": [
    "Since `fit_transform` returns an `ndarray`, we will turn it back into a dataframe for convenience"
   ]
  },
  {
   "cell_type": "code",
   "execution_count": 59,
   "metadata": {},
   "outputs": [
    {
     "data": {
      "text/html": [
       "<div>\n",
       "<style scoped>\n",
       "    .dataframe tbody tr th:only-of-type {\n",
       "        vertical-align: middle;\n",
       "    }\n",
       "\n",
       "    .dataframe tbody tr th {\n",
       "        vertical-align: top;\n",
       "    }\n",
       "\n",
       "    .dataframe thead th {\n",
       "        text-align: right;\n",
       "    }\n",
       "</style>\n",
       "<table border=\"1\" class=\"dataframe\">\n",
       "  <thead>\n",
       "    <tr style=\"text-align: right;\">\n",
       "      <th></th>\n",
       "      <th>0</th>\n",
       "      <th>1</th>\n",
       "      <th>2</th>\n",
       "      <th>3</th>\n",
       "      <th>4</th>\n",
       "    </tr>\n",
       "  </thead>\n",
       "  <tbody>\n",
       "    <tr>\n",
       "      <th>0</th>\n",
       "      <td>5</td>\n",
       "      <td>15</td>\n",
       "      <td>0</td>\n",
       "      <td>1</td>\n",
       "      <td>0</td>\n",
       "    </tr>\n",
       "    <tr>\n",
       "      <th>1</th>\n",
       "      <td>5</td>\n",
       "      <td>13</td>\n",
       "      <td>0</td>\n",
       "      <td>1</td>\n",
       "      <td>0</td>\n",
       "    </tr>\n",
       "    <tr>\n",
       "      <th>2</th>\n",
       "      <td>8</td>\n",
       "      <td>16</td>\n",
       "      <td>0</td>\n",
       "      <td>1</td>\n",
       "      <td>0</td>\n",
       "    </tr>\n",
       "    <tr>\n",
       "      <th>3</th>\n",
       "      <td>3</td>\n",
       "      <td>13</td>\n",
       "      <td>0</td>\n",
       "      <td>1</td>\n",
       "      <td>0</td>\n",
       "    </tr>\n",
       "    <tr>\n",
       "      <th>4</th>\n",
       "      <td>0</td>\n",
       "      <td>9</td>\n",
       "      <td>0</td>\n",
       "      <td>0</td>\n",
       "      <td>0</td>\n",
       "    </tr>\n",
       "    <tr>\n",
       "      <th>...</th>\n",
       "      <td>...</td>\n",
       "      <td>...</td>\n",
       "      <td>...</td>\n",
       "      <td>...</td>\n",
       "      <td>...</td>\n",
       "    </tr>\n",
       "    <tr>\n",
       "      <th>117</th>\n",
       "      <td>21</td>\n",
       "      <td>9</td>\n",
       "      <td>3</td>\n",
       "      <td>18</td>\n",
       "      <td>2</td>\n",
       "    </tr>\n",
       "    <tr>\n",
       "      <th>118</th>\n",
       "      <td>17</td>\n",
       "      <td>4</td>\n",
       "      <td>3</td>\n",
       "      <td>14</td>\n",
       "      <td>2</td>\n",
       "    </tr>\n",
       "    <tr>\n",
       "      <th>119</th>\n",
       "      <td>19</td>\n",
       "      <td>9</td>\n",
       "      <td>3</td>\n",
       "      <td>15</td>\n",
       "      <td>2</td>\n",
       "    </tr>\n",
       "    <tr>\n",
       "      <th>120</th>\n",
       "      <td>16</td>\n",
       "      <td>13</td>\n",
       "      <td>3</td>\n",
       "      <td>18</td>\n",
       "      <td>2</td>\n",
       "    </tr>\n",
       "    <tr>\n",
       "      <th>121</th>\n",
       "      <td>13</td>\n",
       "      <td>9</td>\n",
       "      <td>3</td>\n",
       "      <td>13</td>\n",
       "      <td>2</td>\n",
       "    </tr>\n",
       "  </tbody>\n",
       "</table>\n",
       "<p>122 rows × 5 columns</p>\n",
       "</div>"
      ],
      "text/plain": [
       "      0   1  2   3  4\n",
       "0     5  15  0   1  0\n",
       "1     5  13  0   1  0\n",
       "2     8  16  0   1  0\n",
       "3     3  13  0   1  0\n",
       "4     0   9  0   0  0\n",
       "..   ..  .. ..  .. ..\n",
       "117  21   9  3  18  2\n",
       "118  17   4  3  14  2\n",
       "119  19   9  3  15  2\n",
       "120  16  13  3  18  2\n",
       "121  13   9  3  13  2\n",
       "\n",
       "[122 rows x 5 columns]"
      ]
     },
     "execution_count": 59,
     "metadata": {},
     "output_type": "execute_result"
    }
   ],
   "source": [
    "df = pd.DataFrame(transformed)\n",
    "df"
   ]
  },
  {
   "cell_type": "markdown",
   "metadata": {},
   "source": [
    "## 4. Split the data into train and test"
   ]
  },
  {
   "cell_type": "markdown",
   "metadata": {},
   "source": [
    "I assume the column '4' is our target class."
   ]
  },
  {
   "cell_type": "code",
   "execution_count": 69,
   "metadata": {},
   "outputs": [],
   "source": [
    "target = 4"
   ]
  },
  {
   "cell_type": "markdown",
   "metadata": {},
   "source": [
    "Before splitting the data into the training and test sets, we need to divide the feature matrix from the class."
   ]
  },
  {
   "cell_type": "code",
   "execution_count": 61,
   "metadata": {},
   "outputs": [],
   "source": [
    "X = df.drop(target, axis = 1)\n",
    "y = df[target]"
   ]
  },
  {
   "cell_type": "code",
   "execution_count": 62,
   "metadata": {},
   "outputs": [],
   "source": [
    "Xtrain, Xtest, ytrain, ytest = train_test_split(X, y, random_state = random_state)"
   ]
  },
  {
   "cell_type": "markdown",
   "metadata": {},
   "source": [
    "## 5. Use two classification models of your choice (say: model 1 and model 2) execute the tasks below"
   ]
  },
  {
   "cell_type": "markdown",
   "metadata": {},
   "source": [
    "We will use Decision Trees (model 1) and K-Nearest Neighbors (model 2)"
   ]
  },
  {
   "cell_type": "markdown",
   "metadata": {},
   "source": [
    "## 6. Model 1: find and show the best hyperparameter setting with cross validation on the training set, optimise for the best accuracy"
   ]
  },
  {
   "cell_type": "code",
   "execution_count": 63,
   "metadata": {},
   "outputs": [
    {
     "name": "stderr",
     "output_type": "stream",
     "text": [
      "c:\\Users\\hhitm\\AppData\\Local\\Programs\\Python\\Python310\\lib\\site-packages\\sklearn\\model_selection\\_split.py:676: UserWarning: The least populated class in y has only 2 members, which is less than n_splits=5.\n",
      "  warnings.warn(\n"
     ]
    },
    {
     "name": "stdout",
     "output_type": "stream",
     "text": [
      "The best parameter found for the Decision Tree was {'max_depth': 2, 'random_state': 42}\n"
     ]
    }
   ],
   "source": [
    "# Instantiate the DecisionTree Classifier\n",
    "dt = DecisionTreeClassifier(random_state = random_state)\n",
    "\n",
    "# Fit it to the training data\n",
    "dt.fit(Xtrain, ytrain)\n",
    "\n",
    "# Create the range of parameters to try during cross-validation\n",
    "dt_depths = range(1, dt.get_depth() + 1)\n",
    "\n",
    "# We will use GridSearchCV to perform cross-validation\n",
    "# we need to create the parameter list in a specific way\n",
    "# for it to work\n",
    "dt_params = [{'max_depth': list(dt_depths), 'random_state': [random_state]}]\n",
    "\n",
    "# Instantiate GridSearchCV\n",
    "dt_gs = GridSearchCV(   dt,\n",
    "                        dt_params,\n",
    "                        cv=5,\n",
    "                        scoring='accuracy',             # as required\n",
    "                        return_train_score = False,\n",
    "                        n_jobs = 2,\n",
    "                    )\n",
    "\n",
    "# Fit it to the training data\n",
    "dt_gs.fit(Xtrain, ytrain)\n",
    "\n",
    "# Print the best parameters found\n",
    "print(f\"The best parameter found for the Decision Tree was {dt_gs.best_params_}\")\n"
   ]
  },
  {
   "cell_type": "markdown",
   "metadata": {},
   "source": [
    "## 7. Model 1: show the accuracy of classification and the confusion matrix on the test set. For the confusion matrix use plot_confusion_matrix normalized in order to show for each class the  precision (read carefully the documentation)"
   ]
  },
  {
   "cell_type": "markdown",
   "metadata": {},
   "source": [
    "In order to show the correct results, we will instantiate our Decision Tree with the best parameters we found and fit it to the data."
   ]
  },
  {
   "cell_type": "code",
   "execution_count": 64,
   "metadata": {},
   "outputs": [
    {
     "data": {
      "text/plain": [
       "DecisionTreeClassifier(max_depth=2, random_state=42)"
      ]
     },
     "execution_count": 64,
     "metadata": {},
     "output_type": "execute_result"
    }
   ],
   "source": [
    "dt = DecisionTreeClassifier(max_depth = dt_gs.best_params_[\"max_depth\"], random_state = random_state)\n",
    "dt.fit(Xtrain, ytrain)"
   ]
  },
  {
   "cell_type": "code",
   "execution_count": 65,
   "metadata": {},
   "outputs": [
    {
     "name": "stdout",
     "output_type": "stream",
     "text": [
      "The accuracy score for the Decision Tree with the optimized hyperparameters was: 83.87%\n",
      "The confusion matrix normalized to show precision is:\n"
     ]
    },
    {
     "name": "stderr",
     "output_type": "stream",
     "text": [
      "c:\\Users\\hhitm\\AppData\\Local\\Programs\\Python\\Python310\\lib\\site-packages\\sklearn\\utils\\deprecation.py:87: FutureWarning: Function plot_confusion_matrix is deprecated; Function `plot_confusion_matrix` is deprecated in 1.0 and will be removed in 1.2. Use one of the class methods: ConfusionMatrixDisplay.from_predictions or ConfusionMatrixDisplay.from_estimator.\n",
      "  warnings.warn(msg, category=FutureWarning)\n"
     ]
    },
    {
     "data": {
      "image/png": "[encoded data removed]",
      "text/plain": [
       "<Figure size 432x288 with 2 Axes>"
      ]
     },
     "metadata": {
      "needs_background": "light"
     },
     "output_type": "display_data"
    }
   ],
   "source": [
    "# Predict the test set in order to be able to compute the metrics later on\n",
    "dt_ypred = dt.predict(Xtest)\n",
    "\n",
    "# Accuracy score\n",
    "dt_accuracy = accuracy_score(ytest, dt_ypred) * 100\n",
    "print(f\"The accuracy score for the Decision Tree with the optimized hyperparameters was: {dt_accuracy:.2f}%\")\n",
    "\n",
    "# Confusion matrix normalized to show precision\n",
    "print(\"The confusion matrix normalized to show precision is:\")\n",
    "plot_confusion_matrix(dt, Xtest, ytest,normalize = 'true');                 #per avere le percentuali e non i numeri"
   ]
  },
  {
   "cell_type": "markdown",
   "metadata": {},
   "source": [
    "## 8. Model 2: find and show the best hyperparameter setting with cross validation on the training set, optimise for the best accuracy"
   ]
  },
  {
   "cell_type": "code",
   "execution_count": 66,
   "metadata": {},
   "outputs": [
    {
     "name": "stderr",
     "output_type": "stream",
     "text": [
      "c:\\Users\\hhitm\\AppData\\Local\\Programs\\Python\\Python310\\lib\\site-packages\\sklearn\\model_selection\\_split.py:676: UserWarning: The least populated class in y has only 2 members, which is less than n_splits=5.\n",
      "  warnings.warn(\n"
     ]
    },
    {
     "name": "stdout",
     "output_type": "stream",
     "text": [
      "The best parameter found for the Decision Tree was {'n_neighbors': 7}\n"
     ]
    }
   ],
   "source": [
    "# Instantiate the KNN Classifier\n",
    "knn = KNeighborsClassifier()\n",
    "\n",
    "# Create the range of parameters to try during cross-validation\n",
    "knn_neighbors = [1, 2, 3, 4, 5, 6, 7, 8, 9, 10]\n",
    "\n",
    "# We will use GridSearchCV to perform cross-validation\n",
    "# we need to create the parameter list in a specific way\n",
    "# for it to work\n",
    "knn_params = [{'n_neighbors': knn_neighbors}]\n",
    "\n",
    "# Instantiate GridSearchCV\n",
    "knn_gs = GridSearchCV(  knn,\n",
    "                        knn_params,\n",
    "                        cv=5,\n",
    "                        scoring='accuracy',             # as required\n",
    "                        return_train_score = False,\n",
    "                        n_jobs = 2,\n",
    "                )\n",
    "\n",
    "# Fit it to the training data\n",
    "knn_gs.fit(Xtrain, ytrain)\n",
    "\n",
    "# Print the best parameters found\n",
    "print(f\"The best parameter found for the Decision Tree was {knn_gs.best_params_}\")"
   ]
  },
  {
   "cell_type": "markdown",
   "metadata": {},
   "source": [
    "## 9. Model 2: show the accuracy of classification and the confusion matrix on the test set. For the confusion matrix use plot_confusion_matrix normalized in order to show for each class the precision (read carefully the documentation)"
   ]
  },
  {
   "cell_type": "markdown",
   "metadata": {},
   "source": [
    "In order to show the correct results, we will instantiate our K-Nearest Neighbors classifier with the best parameters we found and fit it to the data."
   ]
  },
  {
   "cell_type": "code",
   "execution_count": 67,
   "metadata": {},
   "outputs": [
    {
     "data": {
      "text/plain": [
       "KNeighborsClassifier(n_neighbors=4)"
      ]
     },
     "execution_count": 67,
     "metadata": {},
     "output_type": "execute_result"
    }
   ],
   "source": [
    "# Instantiate the KNN Classifier\n",
    "knn = KNeighborsClassifier(n_neighbors = 4)\n",
    "knn.fit(Xtrain, ytrain)"
   ]
  },
  {
   "cell_type": "code",
   "execution_count": 68,
   "metadata": {},
   "outputs": [
    {
     "name": "stdout",
     "output_type": "stream",
     "text": [
      "The accuracy score for the K-Nearest Neighbors classifier with the optimized hyperparameters was: 74.19%\n",
      "The confusion matrix normalized to show precision is:\n"
     ]
    },
    {
     "name": "stderr",
     "output_type": "stream",
     "text": [
      "c:\\Users\\hhitm\\AppData\\Local\\Programs\\Python\\Python310\\lib\\site-packages\\sklearn\\utils\\deprecation.py:87: FutureWarning: Function plot_confusion_matrix is deprecated; Function `plot_confusion_matrix` is deprecated in 1.0 and will be removed in 1.2. Use one of the class methods: ConfusionMatrixDisplay.from_predictions or ConfusionMatrixDisplay.from_estimator.\n",
      "  warnings.warn(msg, category=FutureWarning)\n"
     ]
    },
    {
     "data": {
      "image/png": "[encoded data removed]",
      "text/plain": [
       "<Figure size 432x288 with 2 Axes>"
      ]
     },
     "metadata": {
      "needs_background": "light"
     },
     "output_type": "display_data"
    }
   ],
   "source": [
    "# Predict the test set in order to be able to compute the metrics later on\n",
    "knn_ypred = knn.predict(Xtest)\n",
    "\n",
    "# Accuracy score\n",
    "knn_accuracy = accuracy_score(ytest, knn_ypred) * 100\n",
    "print(f\"The accuracy score for the K-Nearest Neighbors classifier with the optimized hyperparameters was: {knn_accuracy:.2f}%\")\n",
    "\n",
    "# Confusion matrix normalized to show precision\n",
    "print(\"The confusion matrix normalized to show precision is:\")\n",
    "plot_confusion_matrix(knn, Xtest, ytest, normalize = 'true');"
   ]
  }
 ],
 "metadata": {
  "kernelspec": {
   "display_name": "Python 3",
   "language": "python",
   "name": "python3"
  },
  "language_info": {
   "codemirror_mode": {
    "name": "ipython",
    "version": 3
   },
   "file_extension": ".py",
   "mimetype": "text/x-python",
   "name": "python",
   "nbconvert_exporter": "python",
   "pygments_lexer": "ipython3",
   "version": "3.10.0 (tags/v3.10.0:b494f59, Oct  4 2021, 19:00:18) [MSC v.1929 64 bit (AMD64)]"
  },
  "orig_nbformat": 2,
  "vscode": {
   "interpreter": {
    "hash": "b1708fff10be9fb692d7fda4b87bbb8793f7d6a3cb1c2c80debaadfcc2f4e575"
   }
  }
 },
 "nbformat": 4,
 "nbformat_minor": 2
}
