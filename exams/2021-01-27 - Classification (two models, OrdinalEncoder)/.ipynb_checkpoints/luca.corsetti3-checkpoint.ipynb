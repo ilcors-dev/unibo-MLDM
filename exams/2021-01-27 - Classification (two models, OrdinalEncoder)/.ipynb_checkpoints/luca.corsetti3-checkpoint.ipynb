{
 "cells": [
  {
   "cell_type": "markdown",
   "id": "1ef4e7d5-c1ed-43c9-b47f-2b414adb811a",
   "metadata": {},
   "source": [
    "# Luca Corsetti 0001131095"
   ]
  },
  {
   "cell_type": "code",
   "execution_count": 62,
   "id": "5f16eb9b-c061-4219-9a1b-286a5249b6ad",
   "metadata": {},
   "outputs": [],
   "source": [
    "import numpy as np\n",
    "import pandas as pd\n",
    "import seaborn as sns\n",
    "import matplotlib.pyplot as plt\n",
    "from sklearn.preprocessing import OrdinalEncoder\n",
    "from sklearn.model_selection import train_test_split, GridSearchCV\n",
    "from sklearn.tree import DecisionTreeClassifier\n",
    "from sklearn.naive_bayes import GaussianNB\n",
    "from sklearn.metrics import accuracy_score, confusion_matrix\n",
    "\n",
    "%matplotlib inline\n",
    "\n",
    "random_state = 777\n",
    "\n",
    "np.random.seed(random_state)"
   ]
  },
  {
   "cell_type": "markdown",
   "id": "7b1af3a5-2b7d-4fbf-9585-6bcb724aece7",
   "metadata": {},
   "source": [
    "1. Load the data from the file and show: the\n",
    "first few rows, the output of the\n",
    ".describe() function, the number of rows\n",
    "and columns (4pt)\n",
    "2. Since the data contain nulls, eliminate the\n",
    "rows with nulls\n",
    "3. Since one of the predicting attributes is\n",
    "ordinal, it must be converted into numeric,\n",
    "you can use the OrdinalEncoder\n",
    "4. Split the data into train and test\n",
    "5. Use two classification models of your\n",
    "choice (say: model 1 and model 2) execute\n",
    "the tasks below\n",
    "6. Model 1: find and show the best\n",
    "hyperparameter setting with cross validation\n",
    "on the training set, optimise for the best\n",
    "accuracy\n",
    "7. Model 1: show the accuracy of\n",
    "classification and the confusion matrix on\n",
    "the test set\n",
    "For the confusion matrix use\n",
    "plot_confusion_matrix normalized in order\n",
    "to show for each class the precision (read\n",
    "carefully the documentation)\n",
    "8. Model 2: find and show the best\n",
    "hyperparameter setting with cross validation\n",
    "on the training set, optimise for the best\n",
    "accuracy\n",
    "9. Model 2: show the accuracy of\n",
    "classification and the confusion matrix on\n",
    "the test set\n",
    "For the confusion matrix use\n",
    "plot_confusion_matrix normalized in order\n",
    "to show for each class the precision (read\n",
    "carefully the documentation)"
   ]
  },
  {
   "cell_type": "markdown",
   "id": "4757c9dd-a32a-4374-af09-63a7649f05b9",
   "metadata": {},
   "source": [
    "### 1. Load the data from the file and show: the first few rows, the output of the .describe() function, the number of rows and columns (4pt)"
   ]
  },
  {
   "cell_type": "markdown",
   "id": "6e69dc6e-dcae-4ac9-aa71-0a250554d904",
   "metadata": {},
   "source": [
    "let's load the dataset provided and display it for inspection of the data"
   ]
  },
  {
   "cell_type": "code",
   "execution_count": 2,
   "id": "9a53e696-2f28-4f98-938a-f7ccb471e407",
   "metadata": {},
   "outputs": [
    {
     "data": {
      "text/html": [
       "<div>\n",
       "<style scoped>\n",
       "    .dataframe tbody tr th:only-of-type {\n",
       "        vertical-align: middle;\n",
       "    }\n",
       "\n",
       "    .dataframe tbody tr th {\n",
       "        vertical-align: top;\n",
       "    }\n",
       "\n",
       "    .dataframe thead th {\n",
       "        text-align: right;\n",
       "    }\n",
       "</style>\n",
       "<table border=\"1\" class=\"dataframe\">\n",
       "  <thead>\n",
       "    <tr style=\"text-align: right;\">\n",
       "      <th></th>\n",
       "      <th>0</th>\n",
       "      <th>1</th>\n",
       "      <th>2</th>\n",
       "      <th>3</th>\n",
       "      <th>4</th>\n",
       "    </tr>\n",
       "  </thead>\n",
       "  <tbody>\n",
       "    <tr>\n",
       "      <th>0</th>\n",
       "      <td>5.1</td>\n",
       "      <td>3.5</td>\n",
       "      <td>a</td>\n",
       "      <td>NaN</td>\n",
       "      <td>0</td>\n",
       "    </tr>\n",
       "    <tr>\n",
       "      <th>1</th>\n",
       "      <td>4.9</td>\n",
       "      <td>3.0</td>\n",
       "      <td>a</td>\n",
       "      <td>NaN</td>\n",
       "      <td>0</td>\n",
       "    </tr>\n",
       "    <tr>\n",
       "      <th>2</th>\n",
       "      <td>NaN</td>\n",
       "      <td>3.2</td>\n",
       "      <td>a</td>\n",
       "      <td>NaN</td>\n",
       "      <td>0</td>\n",
       "    </tr>\n",
       "    <tr>\n",
       "      <th>3</th>\n",
       "      <td>4.6</td>\n",
       "      <td>NaN</td>\n",
       "      <td>a</td>\n",
       "      <td>0.2</td>\n",
       "      <td>0</td>\n",
       "    </tr>\n",
       "    <tr>\n",
       "      <th>4</th>\n",
       "      <td>5.0</td>\n",
       "      <td>3.6</td>\n",
       "      <td>a</td>\n",
       "      <td>0.2</td>\n",
       "      <td>0</td>\n",
       "    </tr>\n",
       "  </tbody>\n",
       "</table>\n",
       "</div>"
      ],
      "text/plain": [
       "     0    1  2    3  4\n",
       "0  5.1  3.5  a  NaN  0\n",
       "1  4.9  3.0  a  NaN  0\n",
       "2  NaN  3.2  a  NaN  0\n",
       "3  4.6  NaN  a  0.2  0\n",
       "4  5.0  3.6  a  0.2  0"
      ]
     },
     "execution_count": 2,
     "metadata": {},
     "output_type": "execute_result"
    }
   ],
   "source": [
    "df = pd.read_csv('./exam_2021_01_27.csv', header=None)\n",
    "\n",
    "df.head()"
   ]
  },
  {
   "cell_type": "code",
   "execution_count": 3,
   "id": "1c997487-e75b-4412-9c4a-48e68cbe77bb",
   "metadata": {},
   "outputs": [
    {
     "data": {
      "text/html": [
       "<div>\n",
       "<style scoped>\n",
       "    .dataframe tbody tr th:only-of-type {\n",
       "        vertical-align: middle;\n",
       "    }\n",
       "\n",
       "    .dataframe tbody tr th {\n",
       "        vertical-align: top;\n",
       "    }\n",
       "\n",
       "    .dataframe thead th {\n",
       "        text-align: right;\n",
       "    }\n",
       "</style>\n",
       "<table border=\"1\" class=\"dataframe\">\n",
       "  <thead>\n",
       "    <tr style=\"text-align: right;\">\n",
       "      <th></th>\n",
       "      <th>0</th>\n",
       "      <th>1</th>\n",
       "      <th>3</th>\n",
       "      <th>4</th>\n",
       "    </tr>\n",
       "  </thead>\n",
       "  <tbody>\n",
       "    <tr>\n",
       "      <th>count</th>\n",
       "      <td>141.000000</td>\n",
       "      <td>140.000000</td>\n",
       "      <td>137.000000</td>\n",
       "      <td>150.000000</td>\n",
       "    </tr>\n",
       "    <tr>\n",
       "      <th>mean</th>\n",
       "      <td>5.897872</td>\n",
       "      <td>3.036429</td>\n",
       "      <td>1.290511</td>\n",
       "      <td>1.000000</td>\n",
       "    </tr>\n",
       "    <tr>\n",
       "      <th>std</th>\n",
       "      <td>0.820232</td>\n",
       "      <td>0.437654</td>\n",
       "      <td>0.733934</td>\n",
       "      <td>0.819232</td>\n",
       "    </tr>\n",
       "    <tr>\n",
       "      <th>min</th>\n",
       "      <td>4.300000</td>\n",
       "      <td>2.000000</td>\n",
       "      <td>0.100000</td>\n",
       "      <td>0.000000</td>\n",
       "    </tr>\n",
       "    <tr>\n",
       "      <th>25%</th>\n",
       "      <td>5.200000</td>\n",
       "      <td>2.800000</td>\n",
       "      <td>0.400000</td>\n",
       "      <td>0.000000</td>\n",
       "    </tr>\n",
       "    <tr>\n",
       "      <th>50%</th>\n",
       "      <td>5.800000</td>\n",
       "      <td>3.000000</td>\n",
       "      <td>1.400000</td>\n",
       "      <td>1.000000</td>\n",
       "    </tr>\n",
       "    <tr>\n",
       "      <th>75%</th>\n",
       "      <td>6.400000</td>\n",
       "      <td>3.300000</td>\n",
       "      <td>1.800000</td>\n",
       "      <td>2.000000</td>\n",
       "    </tr>\n",
       "    <tr>\n",
       "      <th>max</th>\n",
       "      <td>7.900000</td>\n",
       "      <td>4.400000</td>\n",
       "      <td>2.500000</td>\n",
       "      <td>2.000000</td>\n",
       "    </tr>\n",
       "  </tbody>\n",
       "</table>\n",
       "</div>"
      ],
      "text/plain": [
       "                0           1           3           4\n",
       "count  141.000000  140.000000  137.000000  150.000000\n",
       "mean     5.897872    3.036429    1.290511    1.000000\n",
       "std      0.820232    0.437654    0.733934    0.819232\n",
       "min      4.300000    2.000000    0.100000    0.000000\n",
       "25%      5.200000    2.800000    0.400000    0.000000\n",
       "50%      5.800000    3.000000    1.400000    1.000000\n",
       "75%      6.400000    3.300000    1.800000    2.000000\n",
       "max      7.900000    4.400000    2.500000    2.000000"
      ]
     },
     "execution_count": 3,
     "metadata": {},
     "output_type": "execute_result"
    }
   ],
   "source": [
    "df.describe()"
   ]
  },
  {
   "cell_type": "markdown",
   "id": "6480e9dc-230f-48db-9573-48cba297444f",
   "metadata": {},
   "source": [
    "### 2. Since the data contain nulls, eliminate the rows with nulls"
   ]
  },
  {
   "cell_type": "markdown",
   "id": "e1a821b0-1ff6-40ad-9814-6171ed0a89c2",
   "metadata": {},
   "source": [
    "let's clean the data by removing rows with partial data"
   ]
  },
  {
   "cell_type": "code",
   "execution_count": 4,
   "id": "ad68a5d5-9359-47a8-b320-d55facec0ea9",
   "metadata": {},
   "outputs": [
    {
     "data": {
      "text/html": [
       "<div>\n",
       "<style scoped>\n",
       "    .dataframe tbody tr th:only-of-type {\n",
       "        vertical-align: middle;\n",
       "    }\n",
       "\n",
       "    .dataframe tbody tr th {\n",
       "        vertical-align: top;\n",
       "    }\n",
       "\n",
       "    .dataframe thead th {\n",
       "        text-align: right;\n",
       "    }\n",
       "</style>\n",
       "<table border=\"1\" class=\"dataframe\">\n",
       "  <thead>\n",
       "    <tr style=\"text-align: right;\">\n",
       "      <th></th>\n",
       "      <th>0</th>\n",
       "      <th>1</th>\n",
       "      <th>2</th>\n",
       "      <th>3</th>\n",
       "      <th>4</th>\n",
       "    </tr>\n",
       "  </thead>\n",
       "  <tbody>\n",
       "    <tr>\n",
       "      <th>4</th>\n",
       "      <td>5.0</td>\n",
       "      <td>3.6</td>\n",
       "      <td>a</td>\n",
       "      <td>0.2</td>\n",
       "      <td>0</td>\n",
       "    </tr>\n",
       "    <tr>\n",
       "      <th>7</th>\n",
       "      <td>5.0</td>\n",
       "      <td>3.4</td>\n",
       "      <td>a</td>\n",
       "      <td>0.2</td>\n",
       "      <td>0</td>\n",
       "    </tr>\n",
       "    <tr>\n",
       "      <th>10</th>\n",
       "      <td>5.4</td>\n",
       "      <td>3.7</td>\n",
       "      <td>a</td>\n",
       "      <td>0.2</td>\n",
       "      <td>0</td>\n",
       "    </tr>\n",
       "    <tr>\n",
       "      <th>11</th>\n",
       "      <td>4.8</td>\n",
       "      <td>3.4</td>\n",
       "      <td>a</td>\n",
       "      <td>0.2</td>\n",
       "      <td>0</td>\n",
       "    </tr>\n",
       "    <tr>\n",
       "      <th>13</th>\n",
       "      <td>4.3</td>\n",
       "      <td>3.0</td>\n",
       "      <td>a</td>\n",
       "      <td>0.1</td>\n",
       "      <td>0</td>\n",
       "    </tr>\n",
       "  </tbody>\n",
       "</table>\n",
       "</div>"
      ],
      "text/plain": [
       "      0    1  2    3  4\n",
       "4   5.0  3.6  a  0.2  0\n",
       "7   5.0  3.4  a  0.2  0\n",
       "10  5.4  3.7  a  0.2  0\n",
       "11  4.8  3.4  a  0.2  0\n",
       "13  4.3  3.0  a  0.1  0"
      ]
     },
     "execution_count": 4,
     "metadata": {},
     "output_type": "execute_result"
    }
   ],
   "source": [
    "df.dropna(inplace=True)\n",
    "\n",
    "df.head()"
   ]
  },
  {
   "cell_type": "code",
   "execution_count": 5,
   "id": "0225653f-f44b-48fd-bf29-929639d2f009",
   "metadata": {},
   "outputs": [
    {
     "data": {
      "text/html": [
       "<div>\n",
       "<style scoped>\n",
       "    .dataframe tbody tr th:only-of-type {\n",
       "        vertical-align: middle;\n",
       "    }\n",
       "\n",
       "    .dataframe tbody tr th {\n",
       "        vertical-align: top;\n",
       "    }\n",
       "\n",
       "    .dataframe thead th {\n",
       "        text-align: right;\n",
       "    }\n",
       "</style>\n",
       "<table border=\"1\" class=\"dataframe\">\n",
       "  <thead>\n",
       "    <tr style=\"text-align: right;\">\n",
       "      <th></th>\n",
       "      <th>0</th>\n",
       "      <th>1</th>\n",
       "      <th>3</th>\n",
       "      <th>4</th>\n",
       "    </tr>\n",
       "  </thead>\n",
       "  <tbody>\n",
       "    <tr>\n",
       "      <th>count</th>\n",
       "      <td>122.000000</td>\n",
       "      <td>122.000000</td>\n",
       "      <td>122.000000</td>\n",
       "      <td>122.000000</td>\n",
       "    </tr>\n",
       "    <tr>\n",
       "      <th>mean</th>\n",
       "      <td>6.050000</td>\n",
       "      <td>2.985246</td>\n",
       "      <td>1.418852</td>\n",
       "      <td>1.229508</td>\n",
       "    </tr>\n",
       "    <tr>\n",
       "      <th>std</th>\n",
       "      <td>0.768088</td>\n",
       "      <td>0.433642</td>\n",
       "      <td>0.673136</td>\n",
       "      <td>0.736160</td>\n",
       "    </tr>\n",
       "    <tr>\n",
       "      <th>min</th>\n",
       "      <td>4.300000</td>\n",
       "      <td>2.000000</td>\n",
       "      <td>0.100000</td>\n",
       "      <td>0.000000</td>\n",
       "    </tr>\n",
       "    <tr>\n",
       "      <th>25%</th>\n",
       "      <td>5.500000</td>\n",
       "      <td>2.700000</td>\n",
       "      <td>1.100000</td>\n",
       "      <td>1.000000</td>\n",
       "    </tr>\n",
       "    <tr>\n",
       "      <th>50%</th>\n",
       "      <td>6.050000</td>\n",
       "      <td>3.000000</td>\n",
       "      <td>1.500000</td>\n",
       "      <td>1.000000</td>\n",
       "    </tr>\n",
       "    <tr>\n",
       "      <th>75%</th>\n",
       "      <td>6.500000</td>\n",
       "      <td>3.200000</td>\n",
       "      <td>1.900000</td>\n",
       "      <td>2.000000</td>\n",
       "    </tr>\n",
       "    <tr>\n",
       "      <th>max</th>\n",
       "      <td>7.900000</td>\n",
       "      <td>4.400000</td>\n",
       "      <td>2.500000</td>\n",
       "      <td>2.000000</td>\n",
       "    </tr>\n",
       "  </tbody>\n",
       "</table>\n",
       "</div>"
      ],
      "text/plain": [
       "                0           1           3           4\n",
       "count  122.000000  122.000000  122.000000  122.000000\n",
       "mean     6.050000    2.985246    1.418852    1.229508\n",
       "std      0.768088    0.433642    0.673136    0.736160\n",
       "min      4.300000    2.000000    0.100000    0.000000\n",
       "25%      5.500000    2.700000    1.100000    1.000000\n",
       "50%      6.050000    3.000000    1.500000    1.000000\n",
       "75%      6.500000    3.200000    1.900000    2.000000\n",
       "max      7.900000    4.400000    2.500000    2.000000"
      ]
     },
     "execution_count": 5,
     "metadata": {},
     "output_type": "execute_result"
    }
   ],
   "source": [
    "df.describe()"
   ]
  },
  {
   "cell_type": "markdown",
   "id": "98a374a1-74fa-406b-808a-a871316d36ed",
   "metadata": {},
   "source": [
    "### 3. Since one of the predicting attributes is ordinal, it must be converted into numeric, you can use the OrdinalEncoder"
   ]
  },
  {
   "cell_type": "code",
   "execution_count": 6,
   "id": "89c0db4e-0f58-4899-8db2-5bb1e0d06538",
   "metadata": {},
   "outputs": [],
   "source": [
    "# Set the transformer data type\n",
    "transf_dtype = np.int32\n",
    "# Instantiate the encoder and perform `fit_transform`\n",
    "encoder = OrdinalEncoder(dtype = transf_dtype)\n",
    "transformed = encoder.fit_transform(df)"
   ]
  },
  {
   "cell_type": "code",
   "execution_count": 7,
   "id": "3f6c1686-718b-4d87-8af7-04b58cb27206",
   "metadata": {},
   "outputs": [
    {
     "data": {
      "text/html": [
       "<div>\n",
       "<style scoped>\n",
       "    .dataframe tbody tr th:only-of-type {\n",
       "        vertical-align: middle;\n",
       "    }\n",
       "\n",
       "    .dataframe tbody tr th {\n",
       "        vertical-align: top;\n",
       "    }\n",
       "\n",
       "    .dataframe thead th {\n",
       "        text-align: right;\n",
       "    }\n",
       "</style>\n",
       "<table border=\"1\" class=\"dataframe\">\n",
       "  <thead>\n",
       "    <tr style=\"text-align: right;\">\n",
       "      <th></th>\n",
       "      <th>0</th>\n",
       "      <th>1</th>\n",
       "      <th>2</th>\n",
       "      <th>3</th>\n",
       "      <th>4</th>\n",
       "    </tr>\n",
       "  </thead>\n",
       "  <tbody>\n",
       "    <tr>\n",
       "      <th>0</th>\n",
       "      <td>5</td>\n",
       "      <td>15</td>\n",
       "      <td>0</td>\n",
       "      <td>1</td>\n",
       "      <td>0</td>\n",
       "    </tr>\n",
       "    <tr>\n",
       "      <th>1</th>\n",
       "      <td>5</td>\n",
       "      <td>13</td>\n",
       "      <td>0</td>\n",
       "      <td>1</td>\n",
       "      <td>0</td>\n",
       "    </tr>\n",
       "    <tr>\n",
       "      <th>2</th>\n",
       "      <td>8</td>\n",
       "      <td>16</td>\n",
       "      <td>0</td>\n",
       "      <td>1</td>\n",
       "      <td>0</td>\n",
       "    </tr>\n",
       "    <tr>\n",
       "      <th>3</th>\n",
       "      <td>3</td>\n",
       "      <td>13</td>\n",
       "      <td>0</td>\n",
       "      <td>1</td>\n",
       "      <td>0</td>\n",
       "    </tr>\n",
       "    <tr>\n",
       "      <th>4</th>\n",
       "      <td>0</td>\n",
       "      <td>9</td>\n",
       "      <td>0</td>\n",
       "      <td>0</td>\n",
       "      <td>0</td>\n",
       "    </tr>\n",
       "  </tbody>\n",
       "</table>\n",
       "</div>"
      ],
      "text/plain": [
       "   0   1  2  3  4\n",
       "0  5  15  0  1  0\n",
       "1  5  13  0  1  0\n",
       "2  8  16  0  1  0\n",
       "3  3  13  0  1  0\n",
       "4  0   9  0  0  0"
      ]
     },
     "execution_count": 7,
     "metadata": {},
     "output_type": "execute_result"
    }
   ],
   "source": [
    "df = pd.DataFrame(transformed)\n",
    "\n",
    "df.head()"
   ]
  },
  {
   "cell_type": "markdown",
   "id": "52efacce-f6c6-42a8-89e8-3bc4ca3b145b",
   "metadata": {},
   "source": [
    "### 4. Split the data into train and test"
   ]
  },
  {
   "cell_type": "markdown",
   "id": "00a99744-f2eb-4b63-94ca-32595d1f5c17",
   "metadata": {},
   "source": [
    "since we do not have much data, we will keep as much as possible train data. we need firstly to split the data into the feature matrix and the labels class"
   ]
  },
  {
   "cell_type": "code",
   "execution_count": 8,
   "id": "75355636-f6ee-4317-ba60-174ab3fa673f",
   "metadata": {},
   "outputs": [
    {
     "name": "stdout",
     "output_type": "stream",
     "text": [
      "there are 91 training samples\n",
      "there are 31 training samples\n"
     ]
    }
   ],
   "source": [
    "target = 4\n",
    "\n",
    "X = df.drop(target, axis=1)\n",
    "y = df[target]\n",
    "\n",
    "X_train, X_test, y_train, y_test = train_test_split(X, y, random_state=random_state)\n",
    "\n",
    "print(f\"there are {X_train.shape[0]} training samples\")\n",
    "print(f\"there are {X_test.shape[0]} training samples\")"
   ]
  },
  {
   "cell_type": "markdown",
   "id": "6e4b2f34-8237-4201-80fc-4a50a4c50107",
   "metadata": {},
   "source": [
    "### 5. Use two classification models of your choice (say: model 1 and model 2) execute the tasks below"
   ]
  },
  {
   "cell_type": "markdown",
   "id": "6fa1038e-7a53-4fe8-b2af-cec13e268a5f",
   "metadata": {},
   "source": [
    "we will use:\n",
    "- *DecisionTree* model\n",
    "- *NaiveBayes* model\n",
    "\n",
    "to perform the task. let's prepare a handy data structure that will be useful later given the requirements."
   ]
  },
  {
   "cell_type": "code",
   "execution_count": 51,
   "id": "f5c97d17-1381-4045-b2ed-11276a4d97e3",
   "metadata": {},
   "outputs": [],
   "source": [
    "classifiers = {\n",
    "    'DecisionTree': {\n",
    "        'model': DecisionTreeClassifier(random_state=random_state),\n",
    "        'params': [{'max_depth': list(range(1, 20)), 'class_weight': ['balanced']}]\n",
    "    },\n",
    "    'NaiveBayes': {\n",
    "        'model': GaussianNB(),\n",
    "        'params': [{'var_smoothing': [10**exp for exp in range(-3, -13, -1)]}]\n",
    "    }\n",
    "}\n",
    "\n",
    "scoring='accuracy' # both for requirement 6 & 8"
   ]
  },
  {
   "cell_type": "markdown",
   "id": "1dd39197-8f14-4205-a948-47873a6b42bb",
   "metadata": {},
   "source": [
    "### 6. Model 1: find and show the best hyperparameter setting with cross validation on the training set, optimise for the best accuracy"
   ]
  },
  {
   "cell_type": "markdown",
   "id": "ddbb5b2a-0bfe-441b-ab6f-8d47046e4abf",
   "metadata": {},
   "source": [
    "we will look for the best accuracy model by using GridSearchCV, which will find for us the best model for the 'accuracy' metric"
   ]
  },
  {
   "cell_type": "code",
   "execution_count": 52,
   "id": "99a93de4-a2d1-497c-a3ac-54b6f1467655",
   "metadata": {},
   "outputs": [
    {
     "name": "stdout",
     "output_type": "stream",
     "text": [
      "the best parameter found for the DecisionTree classifier was {'class_weight': 'balanced', 'max_depth': 4}\n"
     ]
    }
   ],
   "source": [
    "model = classifiers['DecisionTree']\n",
    "\n",
    "gs = GridSearchCV(model['model'], param_grid=model['params'], cv=5, scoring=scoring)\n",
    "\n",
    "gs.fit(X_train, y_train)\n",
    "\n",
    "print(f\"the best parameter found for the DecisionTree classifier was {gs.best_params_}\")"
   ]
  },
  {
   "cell_type": "markdown",
   "id": "6d7b76a7-623d-4ecb-b0a9-e8330e47bb16",
   "metadata": {},
   "source": [
    "### 7. Model 1: show the accuracy of classification and the confusion matrix on the test set.\n",
    "For the confusion matrix use\n",
    "plot_confusion_matrix normalized in order\n",
    "to show for each class the precision (read\n",
    "carefully the documentation)"
   ]
  },
  {
   "cell_type": "code",
   "execution_count": 65,
   "id": "5524f5c1-929f-4e0e-918e-06e035e478ab",
   "metadata": {},
   "outputs": [
    {
     "name": "stdout",
     "output_type": "stream",
     "text": [
      "the model performed with an accuracy of 90.32% over the test dataset\n"
     ]
    },
    {
     "data": {
      "text/plain": [
       "<sklearn.metrics._plot.confusion_matrix.ConfusionMatrixDisplay at 0x11a41d590>"
      ]
     },
     "execution_count": 65,
     "metadata": {},
     "output_type": "execute_result"
    },
    {
     "data": {
      "image/png": "[encoded data removed]",
      "text/plain": [
       "<Figure size 640x480 with 2 Axes>"
      ]
     },
     "metadata": {},
     "output_type": "display_data"
    }
   ],
   "source": [
    "best_estimator1 = gs.best_estimator_\n",
    "\n",
    "y_pred = best_estimator1.predict(X_test)\n",
    "\n",
    "score = accuracy_score(y_test, y_pred)\n",
    "\n",
    "print(f\"the model performed with an accuracy of {score*100:.2f}% over the test dataset\")\n",
    "\n",
    "cmd = ConfusionMatrixDisplay(confusion_matrix=confusion_matrix(y_test, y_pred, normalize='true'))\n",
    "\n",
    "cmd.plot()"
   ]
  },
  {
   "cell_type": "markdown",
   "id": "2e5f7d56-164a-49bb-9878-91161a9e9fc5",
   "metadata": {},
   "source": [
    "### 8. Model 2: find and show the best hyperparameter setting with cross validation on the training set, optimise for the best accuracy"
   ]
  },
  {
   "cell_type": "markdown",
   "id": "3a2dbb41-d245-423b-aed6-33f17927842c",
   "metadata": {},
   "source": [
    "let's repeat the process for the NaiveBayes classifier"
   ]
  },
  {
   "cell_type": "code",
   "execution_count": 66,
   "id": "f4b20c07-2c26-438b-8d48-3cf9c94c8f1b",
   "metadata": {},
   "outputs": [
    {
     "name": "stdout",
     "output_type": "stream",
     "text": [
      "the best parameter found for the NaiveBayes classifier was {'var_smoothing': 0.001}\n"
     ]
    }
   ],
   "source": [
    "model = classifiers['NaiveBayes']\n",
    "\n",
    "gs = GridSearchCV(model['model'], param_grid=model['params'], cv=5, scoring=scoring)\n",
    "\n",
    "gs.fit(X_train, y_train)\n",
    "\n",
    "print(f\"the best parameter found for the NaiveBayes classifier was {gs.best_params_}\")"
   ]
  },
  {
   "cell_type": "markdown",
   "id": "b745113a-bf65-4e7f-97a6-d31f3e1e1f25",
   "metadata": {},
   "source": [
    "### 9. Model 2: show the accuracy of classification and the confusion matrix on the test set\n",
    "For the confusion matrix use\n",
    "plot_confusion_matrix normalized in order\n",
    "to show for each class the precision (read\n",
    "carefully the documentation)"
   ]
  },
  {
   "cell_type": "code",
   "execution_count": 67,
   "id": "c9affcdf-66e8-4ab1-a8e6-d1f0e8247796",
   "metadata": {},
   "outputs": [
    {
     "name": "stdout",
     "output_type": "stream",
     "text": [
      "the model performed with an accuracy of 96.77% over the test dataset\n"
     ]
    },
    {
     "data": {
      "text/plain": [
       "<sklearn.metrics._plot.confusion_matrix.ConfusionMatrixDisplay at 0x12ce77a80>"
      ]
     },
     "execution_count": 67,
     "metadata": {},
     "output_type": "execute_result"
    },
    {
     "data": {
      "image/png": "[encoded data removed]",
      "text/plain": [
       "<Figure size 640x480 with 2 Axes>"
      ]
     },
     "metadata": {},
     "output_type": "display_data"
    }
   ],
   "source": [
    "best_estimator = gs.best_estimator_\n",
    "\n",
    "y_pred = best_estimator.predict(X_test)\n",
    "\n",
    "score = accuracy_score(y_test, y_pred)\n",
    "\n",
    "print(f\"the model performed with an accuracy of {score*100:.2f}% over the test dataset\")\n",
    "\n",
    "cmd = ConfusionMatrixDisplay(confusion_matrix=confusion_matrix(y_test, y_pred, normalize='true'))\n",
    "\n",
    "cmd.plot()"
   ]
  },
  {
   "cell_type": "markdown",
   "id": "a83685e8-e453-47dc-8fb8-f9e255b00ed3",
   "metadata": {},
   "source": [
    "if we wanted to make a comparison, we could see that the NaiveBayes performed better than the DecisionTree for accuracy, scoring a **96.77%**"
   ]
  }
 ],
 "metadata": {
  "kernelspec": {
   "display_name": "Python 3 (ipykernel)",
   "language": "python",
   "name": "python3"
  },
  "language_info": {
   "codemirror_mode": {
    "name": "ipython",
    "version": 3
   },
   "file_extension": ".py",
   "mimetype": "text/x-python",
   "name": "python",
   "nbconvert_exporter": "python",
   "pygments_lexer": "ipython3",
   "version": "3.13.1"
  }
 },
 "nbformat": 4,
 "nbformat_minor": 5
}
