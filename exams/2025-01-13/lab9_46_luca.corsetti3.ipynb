{
 "cells": [
  {
   "cell_type": "markdown",
   "id": "c53e0a98-41bd-48b5-9641-1cddd679c3e9",
   "metadata": {},
   "source": [
    "# Luca Corsetti 0001131095"
   ]
  },
  {
   "cell_type": "code",
   "execution_count": 2,
   "id": "d20666cf-40cd-414a-81a1-5404e9e43936",
   "metadata": {},
   "outputs": [],
   "source": [
    "import pandas as pd\n",
    "import numpy as np\n",
    "import seaborn as sns\n",
    "import matplotlib.pyplot as plt\n",
    "from sklearn.tree import DecisionTreeClassifier\n",
    "from sklearn.neighbors import KNeighborsClassifier\n",
    "from sklearn.model_selection import train_test_split, GridSearchCV\n",
    "from sklearn.preprocessing import OrdinalEncoder\n",
    "from sklearn.metrics import accuracy_score, classification_report\n",
    "\n",
    "%matplotlib inline\n",
    "\n",
    "random_state=777\n",
    "\n",
    "np.random.seed(random_state)"
   ]
  },
  {
   "cell_type": "markdown",
   "id": "0e9a95fd-e4f7-4607-8ec1-61aa57eb45d7",
   "metadata": {},
   "source": [
    "Consider the file provided with the assignment and execute the analysis described below according to the best practices of Machine Learning. You are\n",
    "allowed to use only the computers of the lab, you are not allowed to use any other device, email or any other messaging tool. You can use only the websites\n",
    "accessible through the computers of the lab, as listed in the following page.\n",
    "Cooperative work will be heavily sanctioned\n",
    "\n",
    "The notebook must operate as follows:\n",
    "1. Load the file data.csv, explore the data showing size and do some data\n",
    "exploration . . . . . . . . . . . . . . . . . . . . . . . . . . . . . . . . . . . . . . . . . . . . . . . . . . . . . . 1pt\n",
    "2. Deal with null values, imputing the mean for numeric features and the\n",
    "string “unknown” for categorical features . . . . . . . . . . . . . . . . . . . . . . . . . 2pt\n",
    "3. train, optimize and test two classifier models of your choice, the\n",
    "optimization must be done with cross validation, optimize the f1-\n",
    "score_macro . . . . . . . . . . . . . . . . . . . . . . . . . . . . . . . . . . . . . . . . . . . . . . . . . . . . . 4pt\n",
    "4. show the result for both models, including the optimal hyperparameter\n",
    "values . . . . . . . . . . . . . . . . . . . . . . . . . . . . . . . . . . . . . . . . . . . . . . . . . . . . . . . . . . . . 1pt\n",
    "5. repeat the experiment using the best model found in the previous steps\n",
    "and doing feature selection . . . . . . . . . . . . . . . . . . . . . . . . . . . . . . . . . . . . . . . 4pt\n",
    "6. show the results with the best hyperparameter values . . . . . . . . . . . . 1pt\n",
    "7. comment the results of the two experiments . . . . . . . . . . . . . . . . . . . . 3pt"
   ]
  },
  {
   "cell_type": "markdown",
   "id": "8789654d-4bf2-4524-a6d4-4a93f4536ca2",
   "metadata": {},
   "source": [
    "### 1. Load the file data.csv, explore the data showing size and do some data exploration"
   ]
  },
  {
   "cell_type": "code",
   "execution_count": 6,
   "id": "d7b80c10-b03a-443f-87fc-28833d1382e4",
   "metadata": {},
   "outputs": [
    {
     "data": {
      "text/html": [
       "<div>\n",
       "<style scoped>\n",
       "    .dataframe tbody tr th:only-of-type {\n",
       "        vertical-align: middle;\n",
       "    }\n",
       "\n",
       "    .dataframe tbody tr th {\n",
       "        vertical-align: top;\n",
       "    }\n",
       "\n",
       "    .dataframe thead th {\n",
       "        text-align: right;\n",
       "    }\n",
       "</style>\n",
       "<table border=\"1\" class=\"dataframe\">\n",
       "  <thead>\n",
       "    <tr style=\"text-align: right;\">\n",
       "      <th></th>\n",
       "      <th>F00</th>\n",
       "      <th>F01</th>\n",
       "      <th>F02</th>\n",
       "      <th>F03</th>\n",
       "      <th>F04</th>\n",
       "      <th>F05</th>\n",
       "      <th>F06</th>\n",
       "      <th>F07</th>\n",
       "      <th>F08</th>\n",
       "      <th>F09</th>\n",
       "      <th>F10</th>\n",
       "      <th>F11</th>\n",
       "      <th>F12</th>\n",
       "      <th>F13</th>\n",
       "      <th>F14</th>\n",
       "      <th>class</th>\n",
       "    </tr>\n",
       "  </thead>\n",
       "  <tbody>\n",
       "    <tr>\n",
       "      <th>0</th>\n",
       "      <td>NaN</td>\n",
       "      <td>0.430770</td>\n",
       "      <td>-0.609499</td>\n",
       "      <td>0.153154</td>\n",
       "      <td>-0.244014</td>\n",
       "      <td>1.515603</td>\n",
       "      <td>0.153154</td>\n",
       "      <td>0.950208</td>\n",
       "      <td>-0.533577</td>\n",
       "      <td>0.153154</td>\n",
       "      <td>-1.188635</td>\n",
       "      <td>0.117022</td>\n",
       "      <td>0</td>\n",
       "      <td>D</td>\n",
       "      <td>0.078747</td>\n",
       "      <td>1</td>\n",
       "    </tr>\n",
       "    <tr>\n",
       "      <th>1</th>\n",
       "      <td>NaN</td>\n",
       "      <td>0.926832</td>\n",
       "      <td>-1.232067</td>\n",
       "      <td>-2.397645</td>\n",
       "      <td>-2.147707</td>\n",
       "      <td>-0.907709</td>\n",
       "      <td>-2.397645</td>\n",
       "      <td>-3.431166</td>\n",
       "      <td>-0.851632</td>\n",
       "      <td>-2.397645</td>\n",
       "      <td>-0.614415</td>\n",
       "      <td>-0.641244</td>\n",
       "      <td>0</td>\n",
       "      <td>C</td>\n",
       "      <td>-0.277881</td>\n",
       "      <td>1</td>\n",
       "    </tr>\n",
       "    <tr>\n",
       "      <th>2</th>\n",
       "      <td>NaN</td>\n",
       "      <td>1.488724</td>\n",
       "      <td>1.732096</td>\n",
       "      <td>-0.247872</td>\n",
       "      <td>2.564819</td>\n",
       "      <td>-0.744121</td>\n",
       "      <td>-0.247872</td>\n",
       "      <td>-0.298340</td>\n",
       "      <td>-0.276540</td>\n",
       "      <td>-0.247872</td>\n",
       "      <td>1.395205</td>\n",
       "      <td>-0.290211</td>\n",
       "      <td>6</td>\n",
       "      <td>B</td>\n",
       "      <td>1.070634</td>\n",
       "      <td>0</td>\n",
       "    </tr>\n",
       "    <tr>\n",
       "      <th>3</th>\n",
       "      <td>NaN</td>\n",
       "      <td>0.476623</td>\n",
       "      <td>0.494316</td>\n",
       "      <td>0.585131</td>\n",
       "      <td>0.434526</td>\n",
       "      <td>-0.670993</td>\n",
       "      <td>0.585131</td>\n",
       "      <td>1.527264</td>\n",
       "      <td>0.370484</td>\n",
       "      <td>0.585131</td>\n",
       "      <td>-0.549108</td>\n",
       "      <td>0.009128</td>\n",
       "      <td>0</td>\n",
       "      <td>B</td>\n",
       "      <td>0.524313</td>\n",
       "      <td>1</td>\n",
       "    </tr>\n",
       "    <tr>\n",
       "      <th>4</th>\n",
       "      <td>NaN</td>\n",
       "      <td>1.873207</td>\n",
       "      <td>-0.399677</td>\n",
       "      <td>-1.768674</td>\n",
       "      <td>0.600575</td>\n",
       "      <td>0.274092</td>\n",
       "      <td>-1.768674</td>\n",
       "      <td>-2.147604</td>\n",
       "      <td>0.623849</td>\n",
       "      <td>-1.768674</td>\n",
       "      <td>-0.387073</td>\n",
       "      <td>-0.470436</td>\n",
       "      <td>3</td>\n",
       "      <td>D</td>\n",
       "      <td>0.411954</td>\n",
       "      <td>2</td>\n",
       "    </tr>\n",
       "  </tbody>\n",
       "</table>\n",
       "</div>"
      ],
      "text/plain": [
       "   F00       F01       F02       F03       F04       F05       F06       F07  \\\n",
       "0  NaN  0.430770 -0.609499  0.153154 -0.244014  1.515603  0.153154  0.950208   \n",
       "1  NaN  0.926832 -1.232067 -2.397645 -2.147707 -0.907709 -2.397645 -3.431166   \n",
       "2  NaN  1.488724  1.732096 -0.247872  2.564819 -0.744121 -0.247872 -0.298340   \n",
       "3  NaN  0.476623  0.494316  0.585131  0.434526 -0.670993  0.585131  1.527264   \n",
       "4  NaN  1.873207 -0.399677 -1.768674  0.600575  0.274092 -1.768674 -2.147604   \n",
       "\n",
       "        F08       F09       F10       F11  F12 F13       F14  class  \n",
       "0 -0.533577  0.153154 -1.188635  0.117022    0   D  0.078747      1  \n",
       "1 -0.851632 -2.397645 -0.614415 -0.641244    0   C -0.277881      1  \n",
       "2 -0.276540 -0.247872  1.395205 -0.290211    6   B  1.070634      0  \n",
       "3  0.370484  0.585131 -0.549108  0.009128    0   B  0.524313      1  \n",
       "4  0.623849 -1.768674 -0.387073 -0.470436    3   D  0.411954      2  "
      ]
     },
     "execution_count": 6,
     "metadata": {},
     "output_type": "execute_result"
    }
   ],
   "source": [
    "df = pd.read_csv('./data.csv', index_col=0)\n",
    "\n",
    "df.head()"
   ]
  },
  {
   "cell_type": "code",
   "execution_count": 9,
   "id": "9d22325b-2d0b-4cc4-a537-eacd6d053cb0",
   "metadata": {},
   "outputs": [
    {
     "name": "stdout",
     "output_type": "stream",
     "text": [
      "the dataset has 1000 rows and 16 columns\n"
     ]
    }
   ],
   "source": [
    "print(f\"the dataset has {df.shape[0]} rows and {df.shape[1]} columns\")"
   ]
  },
  {
   "cell_type": "code",
   "execution_count": 10,
   "id": "6c20361f-d58c-4c58-95d5-1ffa2cb00627",
   "metadata": {},
   "outputs": [
    {
     "data": {
      "text/html": [
       "<div>\n",
       "<style scoped>\n",
       "    .dataframe tbody tr th:only-of-type {\n",
       "        vertical-align: middle;\n",
       "    }\n",
       "\n",
       "    .dataframe tbody tr th {\n",
       "        vertical-align: top;\n",
       "    }\n",
       "\n",
       "    .dataframe thead th {\n",
       "        text-align: right;\n",
       "    }\n",
       "</style>\n",
       "<table border=\"1\" class=\"dataframe\">\n",
       "  <thead>\n",
       "    <tr style=\"text-align: right;\">\n",
       "      <th></th>\n",
       "      <th>F00</th>\n",
       "      <th>F01</th>\n",
       "      <th>F02</th>\n",
       "      <th>F03</th>\n",
       "      <th>F04</th>\n",
       "      <th>F05</th>\n",
       "      <th>F06</th>\n",
       "      <th>F07</th>\n",
       "      <th>F08</th>\n",
       "      <th>F09</th>\n",
       "      <th>F10</th>\n",
       "      <th>F11</th>\n",
       "      <th>F12</th>\n",
       "      <th>F14</th>\n",
       "      <th>class</th>\n",
       "    </tr>\n",
       "  </thead>\n",
       "  <tbody>\n",
       "    <tr>\n",
       "      <th>count</th>\n",
       "      <td>50.000000</td>\n",
       "      <td>1000.000000</td>\n",
       "      <td>1000.000000</td>\n",
       "      <td>1000.000000</td>\n",
       "      <td>1000.000000</td>\n",
       "      <td>1000.000000</td>\n",
       "      <td>1000.000000</td>\n",
       "      <td>1000.000000</td>\n",
       "      <td>1000.000000</td>\n",
       "      <td>1000.000000</td>\n",
       "      <td>1000.000000</td>\n",
       "      <td>1000.000000</td>\n",
       "      <td>1000.000000</td>\n",
       "      <td>1000.000000</td>\n",
       "      <td>1000.000000</td>\n",
       "    </tr>\n",
       "    <tr>\n",
       "      <th>mean</th>\n",
       "      <td>0.190899</td>\n",
       "      <td>0.464389</td>\n",
       "      <td>0.024135</td>\n",
       "      <td>-0.090224</td>\n",
       "      <td>0.597048</td>\n",
       "      <td>-0.019323</td>\n",
       "      <td>-0.090224</td>\n",
       "      <td>-0.018502</td>\n",
       "      <td>0.017389</td>\n",
       "      <td>-0.090224</td>\n",
       "      <td>0.200876</td>\n",
       "      <td>0.019299</td>\n",
       "      <td>2.481000</td>\n",
       "      <td>0.163715</td>\n",
       "      <td>0.505000</td>\n",
       "    </tr>\n",
       "    <tr>\n",
       "      <th>std</th>\n",
       "      <td>1.664705</td>\n",
       "      <td>1.253621</td>\n",
       "      <td>0.981668</td>\n",
       "      <td>1.047949</td>\n",
       "      <td>1.525925</td>\n",
       "      <td>1.007243</td>\n",
       "      <td>1.047949</td>\n",
       "      <td>1.493104</td>\n",
       "      <td>0.995193</td>\n",
       "      <td>1.047949</td>\n",
       "      <td>1.649333</td>\n",
       "      <td>1.015434</td>\n",
       "      <td>2.280974</td>\n",
       "      <td>0.534304</td>\n",
       "      <td>0.596935</td>\n",
       "    </tr>\n",
       "    <tr>\n",
       "      <th>min</th>\n",
       "      <td>-4.768419</td>\n",
       "      <td>-3.839055</td>\n",
       "      <td>-3.678544</td>\n",
       "      <td>-2.900095</td>\n",
       "      <td>-5.303289</td>\n",
       "      <td>-3.411312</td>\n",
       "      <td>-2.900095</td>\n",
       "      <td>-4.593151</td>\n",
       "      <td>-2.870350</td>\n",
       "      <td>-2.900095</td>\n",
       "      <td>-4.562059</td>\n",
       "      <td>-3.375156</td>\n",
       "      <td>0.000000</td>\n",
       "      <td>-1.613691</td>\n",
       "      <td>0.000000</td>\n",
       "    </tr>\n",
       "    <tr>\n",
       "      <th>25%</th>\n",
       "      <td>-0.653835</td>\n",
       "      <td>-0.261353</td>\n",
       "      <td>-0.643978</td>\n",
       "      <td>-0.847538</td>\n",
       "      <td>-0.302429</td>\n",
       "      <td>-0.635943</td>\n",
       "      <td>-0.847538</td>\n",
       "      <td>-1.070465</td>\n",
       "      <td>-0.650032</td>\n",
       "      <td>-0.847538</td>\n",
       "      <td>-1.024788</td>\n",
       "      <td>-0.657205</td>\n",
       "      <td>1.000000</td>\n",
       "      <td>-0.213942</td>\n",
       "      <td>0.000000</td>\n",
       "    </tr>\n",
       "    <tr>\n",
       "      <th>50%</th>\n",
       "      <td>0.528885</td>\n",
       "      <td>0.554465</td>\n",
       "      <td>0.041989</td>\n",
       "      <td>-0.186079</td>\n",
       "      <td>0.754161</td>\n",
       "      <td>-0.019371</td>\n",
       "      <td>-0.186079</td>\n",
       "      <td>-0.046749</td>\n",
       "      <td>0.041118</td>\n",
       "      <td>-0.186079</td>\n",
       "      <td>0.166277</td>\n",
       "      <td>0.038561</td>\n",
       "      <td>2.000000</td>\n",
       "      <td>0.148387</td>\n",
       "      <td>0.000000</td>\n",
       "    </tr>\n",
       "    <tr>\n",
       "      <th>75%</th>\n",
       "      <td>1.433727</td>\n",
       "      <td>1.289121</td>\n",
       "      <td>0.683684</td>\n",
       "      <td>0.565310</td>\n",
       "      <td>1.647466</td>\n",
       "      <td>0.618085</td>\n",
       "      <td>0.565310</td>\n",
       "      <td>1.049437</td>\n",
       "      <td>0.715784</td>\n",
       "      <td>0.565310</td>\n",
       "      <td>1.347618</td>\n",
       "      <td>0.660219</td>\n",
       "      <td>4.000000</td>\n",
       "      <td>0.523251</td>\n",
       "      <td>1.000000</td>\n",
       "    </tr>\n",
       "    <tr>\n",
       "      <th>max</th>\n",
       "      <td>2.741977</td>\n",
       "      <td>4.105899</td>\n",
       "      <td>3.140142</td>\n",
       "      <td>3.755152</td>\n",
       "      <td>4.404735</td>\n",
       "      <td>3.311701</td>\n",
       "      <td>3.755152</td>\n",
       "      <td>4.658191</td>\n",
       "      <td>2.651399</td>\n",
       "      <td>3.755152</td>\n",
       "      <td>5.344298</td>\n",
       "      <td>3.497461</td>\n",
       "      <td>7.000000</td>\n",
       "      <td>1.775008</td>\n",
       "      <td>2.000000</td>\n",
       "    </tr>\n",
       "  </tbody>\n",
       "</table>\n",
       "</div>"
      ],
      "text/plain": [
       "             F00          F01          F02          F03          F04  \\\n",
       "count  50.000000  1000.000000  1000.000000  1000.000000  1000.000000   \n",
       "mean    0.190899     0.464389     0.024135    -0.090224     0.597048   \n",
       "std     1.664705     1.253621     0.981668     1.047949     1.525925   \n",
       "min    -4.768419    -3.839055    -3.678544    -2.900095    -5.303289   \n",
       "25%    -0.653835    -0.261353    -0.643978    -0.847538    -0.302429   \n",
       "50%     0.528885     0.554465     0.041989    -0.186079     0.754161   \n",
       "75%     1.433727     1.289121     0.683684     0.565310     1.647466   \n",
       "max     2.741977     4.105899     3.140142     3.755152     4.404735   \n",
       "\n",
       "               F05          F06          F07          F08          F09  \\\n",
       "count  1000.000000  1000.000000  1000.000000  1000.000000  1000.000000   \n",
       "mean     -0.019323    -0.090224    -0.018502     0.017389    -0.090224   \n",
       "std       1.007243     1.047949     1.493104     0.995193     1.047949   \n",
       "min      -3.411312    -2.900095    -4.593151    -2.870350    -2.900095   \n",
       "25%      -0.635943    -0.847538    -1.070465    -0.650032    -0.847538   \n",
       "50%      -0.019371    -0.186079    -0.046749     0.041118    -0.186079   \n",
       "75%       0.618085     0.565310     1.049437     0.715784     0.565310   \n",
       "max       3.311701     3.755152     4.658191     2.651399     3.755152   \n",
       "\n",
       "               F10          F11          F12          F14        class  \n",
       "count  1000.000000  1000.000000  1000.000000  1000.000000  1000.000000  \n",
       "mean      0.200876     0.019299     2.481000     0.163715     0.505000  \n",
       "std       1.649333     1.015434     2.280974     0.534304     0.596935  \n",
       "min      -4.562059    -3.375156     0.000000    -1.613691     0.000000  \n",
       "25%      -1.024788    -0.657205     1.000000    -0.213942     0.000000  \n",
       "50%       0.166277     0.038561     2.000000     0.148387     0.000000  \n",
       "75%       1.347618     0.660219     4.000000     0.523251     1.000000  \n",
       "max       5.344298     3.497461     7.000000     1.775008     2.000000  "
      ]
     },
     "execution_count": 10,
     "metadata": {},
     "output_type": "execute_result"
    }
   ],
   "source": [
    "df.describe()"
   ]
  },
  {
   "cell_type": "code",
   "execution_count": null,
   "id": "208279d0-1e71-4124-9589-0c0edd99f291",
   "metadata": {},
   "outputs": [],
   "source": [
    "sns.pairplot(df)"
   ]
  },
  {
   "cell_type": "code",
   "execution_count": 11,
   "id": "d28d870c-37ef-4c0f-af13-81add3b5581c",
   "metadata": {},
   "outputs": [
    {
     "name": "stdout",
     "output_type": "stream",
     "text": [
      "there are 950 rows with F00 having NaN values out of 1000 records in the dataset\n"
     ]
    }
   ],
   "source": [
    "print(f\"there are {df['F00'].isna().sum()} rows with F00 having NaN values out of {df.shape[0]} records in the dataset\")"
   ]
  },
  {
   "cell_type": "markdown",
   "id": "d62697ee-46f0-4b9b-9a61-58aceb5c9872",
   "metadata": {},
   "source": [
    "- the data is composed for the majority of numeric values\n",
    "- the column 'class' denotes the column that will be used to classify the data.\n",
    "- the column 'F13' seems to represent some sort of category\n",
    "- the column 'F00' seems to have lots of NaN values, in fact 950 out of 1000 rows in the dataset have missing value in this column. we will likely need to work on the column, either by purging it entirely or by filling it with some values\n",
    "\n",
    "the dataset has a lot of features, we may therefore encounter not-so-great performances on our trained classifiers. maybe we will need to do some feature selection to improve our models"
   ]
  },
  {
   "cell_type": "markdown",
   "id": "3383f013-71d5-45a6-9ac9-cde9c6d1bdf2",
   "metadata": {},
   "source": [
    "### 2. Deal with null values, imputing the mean for numeric features and the string “unknown” for categorical features"
   ]
  },
  {
   "cell_type": "code",
   "execution_count": 12,
   "id": "9ef66253-6e51-4dc4-b966-dd3762abbdaf",
   "metadata": {},
   "outputs": [
    {
     "data": {
      "text/plain": [
       "F00      950\n",
       "F01        0\n",
       "F02        0\n",
       "F03        0\n",
       "F04        0\n",
       "F05        0\n",
       "F06        0\n",
       "F07        0\n",
       "F08        0\n",
       "F09        0\n",
       "F10        0\n",
       "F11        0\n",
       "F12        0\n",
       "F13        0\n",
       "F14        0\n",
       "class      0\n",
       "dtype: int64"
      ]
     },
     "execution_count": 12,
     "metadata": {},
     "output_type": "execute_result"
    }
   ],
   "source": [
    "df.isna().sum()"
   ]
  },
  {
   "cell_type": "markdown",
   "id": "8a2ffa2e-5a42-441c-a579-82d29e2286f7",
   "metadata": {},
   "source": [
    "only the column \"F00\" seems to have NaN values, we proceed by setting it with the mean of the values present for the same feature column"
   ]
  },
  {
   "cell_type": "code",
   "execution_count": 7,
   "id": "35e29ece-a3b8-4746-b67c-4aaacda5950a",
   "metadata": {},
   "outputs": [
    {
     "name": "stderr",
     "output_type": "stream",
     "text": [
      "/var/folders/ch/d1k715m15jx79ywlmkcrb3g40000gn/T/ipykernel_34110/4177513998.py:3: FutureWarning: Setting an item of incompatible dtype is deprecated and will raise an error in a future version of pandas. Value '0.1908988177914403' has dtype incompatible with int64, please explicitly cast to a compatible dtype first.\n",
      "  df[df['F00'].isna() == True] = mean\n",
      "/var/folders/ch/d1k715m15jx79ywlmkcrb3g40000gn/T/ipykernel_34110/4177513998.py:3: FutureWarning: Setting an item of incompatible dtype is deprecated and will raise an error in a future version of pandas. Value '0.1908988177914403' has dtype incompatible with int64, please explicitly cast to a compatible dtype first.\n",
      "  df[df['F00'].isna() == True] = mean\n"
     ]
    },
    {
     "data": {
      "text/html": [
       "<div>\n",
       "<style scoped>\n",
       "    .dataframe tbody tr th:only-of-type {\n",
       "        vertical-align: middle;\n",
       "    }\n",
       "\n",
       "    .dataframe tbody tr th {\n",
       "        vertical-align: top;\n",
       "    }\n",
       "\n",
       "    .dataframe thead th {\n",
       "        text-align: right;\n",
       "    }\n",
       "</style>\n",
       "<table border=\"1\" class=\"dataframe\">\n",
       "  <thead>\n",
       "    <tr style=\"text-align: right;\">\n",
       "      <th></th>\n",
       "      <th>F00</th>\n",
       "      <th>F01</th>\n",
       "      <th>F02</th>\n",
       "      <th>F03</th>\n",
       "      <th>F04</th>\n",
       "      <th>F05</th>\n",
       "      <th>F06</th>\n",
       "      <th>F07</th>\n",
       "      <th>F08</th>\n",
       "      <th>F09</th>\n",
       "      <th>F10</th>\n",
       "      <th>F11</th>\n",
       "      <th>F12</th>\n",
       "      <th>F13</th>\n",
       "      <th>F14</th>\n",
       "      <th>class</th>\n",
       "    </tr>\n",
       "  </thead>\n",
       "  <tbody>\n",
       "    <tr>\n",
       "      <th>0</th>\n",
       "      <td>0.190899</td>\n",
       "      <td>0.190899</td>\n",
       "      <td>0.190899</td>\n",
       "      <td>0.190899</td>\n",
       "      <td>0.190899</td>\n",
       "      <td>0.190899</td>\n",
       "      <td>0.190899</td>\n",
       "      <td>0.190899</td>\n",
       "      <td>0.190899</td>\n",
       "      <td>0.190899</td>\n",
       "      <td>0.190899</td>\n",
       "      <td>0.190899</td>\n",
       "      <td>0.190899</td>\n",
       "      <td>0.190899</td>\n",
       "      <td>0.190899</td>\n",
       "      <td>0.190899</td>\n",
       "    </tr>\n",
       "    <tr>\n",
       "      <th>1</th>\n",
       "      <td>0.190899</td>\n",
       "      <td>0.190899</td>\n",
       "      <td>0.190899</td>\n",
       "      <td>0.190899</td>\n",
       "      <td>0.190899</td>\n",
       "      <td>0.190899</td>\n",
       "      <td>0.190899</td>\n",
       "      <td>0.190899</td>\n",
       "      <td>0.190899</td>\n",
       "      <td>0.190899</td>\n",
       "      <td>0.190899</td>\n",
       "      <td>0.190899</td>\n",
       "      <td>0.190899</td>\n",
       "      <td>0.190899</td>\n",
       "      <td>0.190899</td>\n",
       "      <td>0.190899</td>\n",
       "    </tr>\n",
       "    <tr>\n",
       "      <th>2</th>\n",
       "      <td>0.190899</td>\n",
       "      <td>0.190899</td>\n",
       "      <td>0.190899</td>\n",
       "      <td>0.190899</td>\n",
       "      <td>0.190899</td>\n",
       "      <td>0.190899</td>\n",
       "      <td>0.190899</td>\n",
       "      <td>0.190899</td>\n",
       "      <td>0.190899</td>\n",
       "      <td>0.190899</td>\n",
       "      <td>0.190899</td>\n",
       "      <td>0.190899</td>\n",
       "      <td>0.190899</td>\n",
       "      <td>0.190899</td>\n",
       "      <td>0.190899</td>\n",
       "      <td>0.190899</td>\n",
       "    </tr>\n",
       "    <tr>\n",
       "      <th>3</th>\n",
       "      <td>0.190899</td>\n",
       "      <td>0.190899</td>\n",
       "      <td>0.190899</td>\n",
       "      <td>0.190899</td>\n",
       "      <td>0.190899</td>\n",
       "      <td>0.190899</td>\n",
       "      <td>0.190899</td>\n",
       "      <td>0.190899</td>\n",
       "      <td>0.190899</td>\n",
       "      <td>0.190899</td>\n",
       "      <td>0.190899</td>\n",
       "      <td>0.190899</td>\n",
       "      <td>0.190899</td>\n",
       "      <td>0.190899</td>\n",
       "      <td>0.190899</td>\n",
       "      <td>0.190899</td>\n",
       "    </tr>\n",
       "    <tr>\n",
       "      <th>4</th>\n",
       "      <td>0.190899</td>\n",
       "      <td>0.190899</td>\n",
       "      <td>0.190899</td>\n",
       "      <td>0.190899</td>\n",
       "      <td>0.190899</td>\n",
       "      <td>0.190899</td>\n",
       "      <td>0.190899</td>\n",
       "      <td>0.190899</td>\n",
       "      <td>0.190899</td>\n",
       "      <td>0.190899</td>\n",
       "      <td>0.190899</td>\n",
       "      <td>0.190899</td>\n",
       "      <td>0.190899</td>\n",
       "      <td>0.190899</td>\n",
       "      <td>0.190899</td>\n",
       "      <td>0.190899</td>\n",
       "    </tr>\n",
       "  </tbody>\n",
       "</table>\n",
       "</div>"
      ],
      "text/plain": [
       "        F00       F01       F02       F03       F04       F05       F06  \\\n",
       "0  0.190899  0.190899  0.190899  0.190899  0.190899  0.190899  0.190899   \n",
       "1  0.190899  0.190899  0.190899  0.190899  0.190899  0.190899  0.190899   \n",
       "2  0.190899  0.190899  0.190899  0.190899  0.190899  0.190899  0.190899   \n",
       "3  0.190899  0.190899  0.190899  0.190899  0.190899  0.190899  0.190899   \n",
       "4  0.190899  0.190899  0.190899  0.190899  0.190899  0.190899  0.190899   \n",
       "\n",
       "        F07       F08       F09       F10       F11       F12       F13  \\\n",
       "0  0.190899  0.190899  0.190899  0.190899  0.190899  0.190899  0.190899   \n",
       "1  0.190899  0.190899  0.190899  0.190899  0.190899  0.190899  0.190899   \n",
       "2  0.190899  0.190899  0.190899  0.190899  0.190899  0.190899  0.190899   \n",
       "3  0.190899  0.190899  0.190899  0.190899  0.190899  0.190899  0.190899   \n",
       "4  0.190899  0.190899  0.190899  0.190899  0.190899  0.190899  0.190899   \n",
       "\n",
       "        F14     class  \n",
       "0  0.190899  0.190899  \n",
       "1  0.190899  0.190899  \n",
       "2  0.190899  0.190899  \n",
       "3  0.190899  0.190899  \n",
       "4  0.190899  0.190899  "
      ]
     },
     "execution_count": 7,
     "metadata": {},
     "output_type": "execute_result"
    }
   ],
   "source": [
    "mean = df['F00'].mean()\n",
    "\n",
    "df[df['F00'].isna() == True] = mean\n",
    "\n",
    "df.head()\n",
    "\n",
    "# df['F00'] = df['F00'].replace(np.nan, mean)\n",
    "\n",
    "# we could also do this iteratively for each column\n",
    "\n",
    "# for c in df.columns:\n",
    "#    mean = df[c].mean()\n",
    "\n",
    "#    df[c] = df[c].replace(np.nan, mean)"
   ]
  },
  {
   "cell_type": "markdown",
   "id": "a5d1b206-f10e-4c13-b492-54105af6a945",
   "metadata": {},
   "source": [
    "categorical features do not seem to be having missing values, but in order for the classifiers to work, we need to encode them in a numeric format"
   ]
  },
  {
   "cell_type": "code",
   "execution_count": null,
   "id": "35a122e4-2ccd-47cd-9d5a-62dd13516e0e",
   "metadata": {},
   "outputs": [],
   "source": [
    "enc = OrdinalEncoder(dtype=int)\n",
    "\n",
    "df['F13'] = pd.DataFrame(enc.fit_transform(pd.DataFrame(df['F13'], columns=['F13'])))"
   ]
  },
  {
   "cell_type": "markdown",
   "id": "e0bfe70e-f748-40d7-adec-50e3b5b6bdbf",
   "metadata": {},
   "source": [
    "### 3. train, optimize and test two classifier models of your choice, the optimization must be done with cross validation, optimize the f1-score_macro"
   ]
  },
  {
   "cell_type": "markdown",
   "id": "daffe5a2-1b6a-40bb-ad3b-d013090b842b",
   "metadata": {},
   "source": [
    "firstly, we need to split the data into train & test before training the classifiers"
   ]
  },
  {
   "cell_type": "code",
   "execution_count": null,
   "id": "42638661-f760-4cfc-b439-1f098566d1f0",
   "metadata": {},
   "outputs": [],
   "source": [
    "y = df['class']\n",
    "X = df.drop(columns=['class'])\n",
    "\n",
    "X_train, X_test, y_train, y_test = train_test_split(X, y, random_state=random_state)\n",
    "\n",
    "print(f\"the training set has {X_train.shape[0]} samples\")\n",
    "print(f\"the training set has {X_test.shape[0]} samples\")"
   ]
  },
  {
   "cell_type": "markdown",
   "id": "f080d3ba-ff08-4396-973d-f0fdfc0d0081",
   "metadata": {},
   "source": [
    "for this task we will use the *DecisionTreeClassifier* and the *KNeighborsClassifier* classifiers"
   ]
  },
  {
   "cell_type": "code",
   "execution_count": null,
   "id": "4a6a11e9-2525-40e0-a6c5-7204a1dc9c66",
   "metadata": {},
   "outputs": [],
   "source": [
    "tree_model = DecisionTreeClassifier(random_state=random_state)\n",
    "\n",
    "tree_model.fit(X_train, y_train)\n",
    "\n",
    "y_pred_tree = tree_model.predict(X_test)\n",
    "tree_accuracy_score = accuracy_score(y_test, y_pred_tree)\n",
    "\n",
    "print(f\"decision tree trained, max_depth reached={tree_model.tree_.max_depth}, with an accuracy of {tree_accuracy_score*100:.2f}%\")"
   ]
  },
  {
   "cell_type": "code",
   "execution_count": null,
   "id": "6fe4fe92-3625-444c-9a32-3426656883f0",
   "metadata": {},
   "outputs": [],
   "source": [
    "kn_model = KNeighborsClassifier()\n",
    "\n",
    "kn_model.fit(X_train, y_train)\n",
    "y_pred_kn = kn_model.predict(X_test)\n",
    "kn_accuracy_score = accuracy_score(y_test, y_pred_kn)\n",
    "\n",
    "print(f\"decision tree trained, with an accuracy of {kn_accuracy_score*100:.2f}%\")"
   ]
  },
  {
   "cell_type": "markdown",
   "id": "075b05af-930c-4b03-81f7-3cf0f5d10429",
   "metadata": {},
   "source": [
    "let's try to optimize them using cross validation over the \"f1-score_marco\""
   ]
  },
  {
   "cell_type": "code",
   "execution_count": null,
   "id": "f6e7d113-a8ac-4a89-a663-84f43f2a6824",
   "metadata": {},
   "outputs": [],
   "source": [
    "scoring = 'f1_macro'"
   ]
  },
  {
   "cell_type": "code",
   "execution_count": null,
   "id": "bc24f515-4fc4-419e-b13a-caee3b69d53d",
   "metadata": {},
   "outputs": [],
   "source": [
    "tree_params = [{ \"max_depth\": range(1, tree_model.tree_.max_depth + 1), \"criterion\": [\"gini\", \"entropy\"] }]\n",
    "\n",
    "tree_cv = GridSearchCV(\n",
    "    estimator=DecisionTreeClassifier(random_state=random_state),\n",
    "    param_grid=tree_params,\n",
    "    cv=5,\n",
    "    n_jobs=2\n",
    ")\n",
    "\n",
    "tree_cv.fit(X_train, y_train)"
   ]
  },
  {
   "cell_type": "code",
   "execution_count": null,
   "id": "924563fa-7d27-44c7-b17d-f73b3dc15e87",
   "metadata": {},
   "outputs": [],
   "source": [
    "kn_params = [{ \"n_neighbors\": range(1, 15), \"weights\": [\"uniform\", \"distance\"] }]\n",
    "\n",
    "kn_cv = GridSearchCV(\n",
    "    estimator=KNeighborsClassifier(),\n",
    "    param_grid=kn_params,\n",
    "    cv=5,\n",
    "    n_jobs=2\n",
    ")\n",
    "\n",
    "kn_cv.fit(X_train, y_train)"
   ]
  },
  {
   "cell_type": "markdown",
   "id": "41e705d2-f078-4322-9901-4e4bb600be94",
   "metadata": {},
   "source": [
    "### 4. show the result for both models, including the optimal hyperparameter values"
   ]
  },
  {
   "cell_type": "markdown",
   "id": "7aab8062-5654-45e8-98fd-65e74ef6b3fd",
   "metadata": {},
   "source": [
    "let's compute some metrics"
   ]
  },
  {
   "cell_type": "code",
   "execution_count": null,
   "id": "b937664e-5228-481b-bbe9-8168dcbf3e79",
   "metadata": {},
   "outputs": [],
   "source": [
    "y_tree_tuned_pred = tree_cv.best_estimator_.predict(X_test)\n",
    "\n",
    "tree_tuned_cr = classification_report(y_test, y_tree_tuned_pred, zero_division=np.nan, output_dict=True)"
   ]
  },
  {
   "cell_type": "code",
   "execution_count": null,
   "id": "8c3ca275-912b-4926-a2cc-c748f0a5a1d4",
   "metadata": {},
   "outputs": [],
   "source": [
    "y_kn_tuned_pred = kn_cv.best_estimator_.predict(X_test)\n",
    "\n",
    "kn_tuned_cr = classification_report(y_test, y_kn_tuned_pred, zero_division=np.nan, output_dict=True)"
   ]
  },
  {
   "cell_type": "code",
   "execution_count": null,
   "id": "b7443e1b-ccb4-49bb-8512-c35741da8cd0",
   "metadata": {},
   "outputs": [],
   "source": [
    "results = pd.DataFrame([\n",
    "              ['dt', tree_cv.best_params_, tree_tuned_cr['accuracy'], tree_tuned_cr['0']['recall'], tree_tuned_cr['0']['f1-score']],\n",
    "              ['kn', kn_cv.best_params_, kn_tuned_cr['accuracy'], kn_tuned_cr['0']['recall'], kn_tuned_cr['0']['f1-score']]\n",
    "          ], columns=['model', 'best_params', 'accuracy', 'recall', 'f1-score'])\n",
    "\n",
    "results"
   ]
  },
  {
   "cell_type": "markdown",
   "id": "6adfeaf7-a855-428c-b7d6-ab2d1eebb0fd",
   "metadata": {},
   "source": [
    "KNearestNeighbors seems to be the best model, scoring 82% of accuracy, better recall and better f1-score"
   ]
  },
  {
   "cell_type": "markdown",
   "id": "e3f73a97-3cb0-4ff4-96b8-e5a13f783814",
   "metadata": {},
   "source": [
    "### 5. repeat the experiment using the best model found in the previous steps and doing feature selection"
   ]
  },
  {
   "cell_type": "markdown",
   "id": "7c3672c0-f287-499e-b160-951e6ac7faae",
   "metadata": {},
   "source": [
    "let's try to see what features to remove using correlation"
   ]
  },
  {
   "cell_type": "code",
   "execution_count": null,
   "id": "94f3e696-d089-4cf5-b477-3bc32c8ad4d4",
   "metadata": {},
   "outputs": [],
   "source": [
    "df.corr()"
   ]
  },
  {
   "cell_type": "markdown",
   "id": "ce722744-0fb8-4651-aa9d-102a58559128",
   "metadata": {},
   "source": [
    "we will remove:\n",
    "- \"F06\", \"F09\" because they have perfect correlation with \"F03\". also, supporting this choice, \"F06\" and \"F09\" seems to be highly correlated (> .82) with F07\n",
    "- \"F14\" because it has high correlation (> .92) with \"F02\"."
   ]
  },
  {
   "cell_type": "code",
   "execution_count": null,
   "id": "8c0b0541-cd54-479a-935e-c1014e0b0a43",
   "metadata": {},
   "outputs": [],
   "source": [
    "# NOTE: class target can remain the same, hence 'y' is not altered\n",
    "X_feat = df.drop(columns=['F06', 'F09', 'F14'])\n",
    "\n",
    "X_feat_train, X_feat_test, _, _ = train_test_split(X_feat, y, random_state=random_state)"
   ]
  },
  {
   "cell_type": "markdown",
   "id": "705fb715-0531-43bc-a7ad-07131164d545",
   "metadata": {},
   "source": [
    "let's now repeat the training and see the results on the feature-selected dataset"
   ]
  },
  {
   "cell_type": "code",
   "execution_count": null,
   "id": "40d6a2c4-89cc-4c7b-93f3-dac45193ee1a",
   "metadata": {},
   "outputs": [],
   "source": [
    "kn_feat_cv = GridSearchCV(\n",
    "    estimator=KNeighborsClassifier(),\n",
    "    param_grid=kn_params,\n",
    "    cv=5,\n",
    "    n_jobs=2\n",
    ")\n",
    "\n",
    "kn_feat_cv.fit(X_feat_train, y_train)"
   ]
  },
  {
   "cell_type": "markdown",
   "id": "c7cc4b2f-5dd7-40bf-a10d-ac3389b158a2",
   "metadata": {},
   "source": [
    "### 6. show the results with the best hyperparameter values"
   ]
  },
  {
   "cell_type": "markdown",
   "id": "aa944e6e-d20a-41b8-aae3-3548f7690360",
   "metadata": {},
   "source": [
    "let's see the results of the trained models with the feature selected dataset"
   ]
  },
  {
   "cell_type": "code",
   "execution_count": null,
   "id": "1bff28d9-3c06-4b12-8b5e-6b97060144e9",
   "metadata": {},
   "outputs": [],
   "source": [
    "y_kn_feat_pred = kn_feat_cv.best_estimator_.predict(X_feat_test)\n",
    "\n",
    "kn_feat_cr = classification_report(y_test, y_kn_feat_pred, zero_division=np.nan, output_dict=True)"
   ]
  },
  {
   "cell_type": "code",
   "execution_count": null,
   "id": "34b18d47-a8e8-4fdb-a3da-4e22bc91d568",
   "metadata": {},
   "outputs": [],
   "source": [
    "results_feat = pd.DataFrame([\n",
    "              ['kn_feat', kn_feat_cv.best_params_, kn_feat_cr['accuracy'], kn_feat_cr['0']['recall'], kn_feat_cr['0']['f1-score']]\n",
    "          ], columns=['model', 'best_params', 'accuracy', 'recall', 'f1-score'])\n",
    "\n",
    "results_feat"
   ]
  },
  {
   "cell_type": "markdown",
   "id": "50e64fff-6d75-4c12-b4ef-0c72244e419b",
   "metadata": {},
   "source": [
    "### 7. comment the results of the two experiments"
   ]
  },
  {
   "cell_type": "markdown",
   "id": "c31765e5-a8ba-486b-91a1-9617ba47a4bb",
   "metadata": {},
   "source": [
    "by performing feature selection over the dataset and using the best previously found estimator (KNearestNeighborsClassifier), we were able to increment the accuracy of the model, scoring a 87.6% of accuracy (previouslu we achieved 82%)"
   ]
  }
 ],
 "metadata": {
  "kernelspec": {
   "display_name": "Python 3 (ipykernel)",
   "language": "python",
   "name": "python3"
  },
  "language_info": {
   "codemirror_mode": {
    "name": "ipython",
    "version": 3
   },
   "file_extension": ".py",
   "mimetype": "text/x-python",
   "name": "python",
   "nbconvert_exporter": "python",
   "pygments_lexer": "ipython3",
   "version": "3.13.1"
  }
 },
 "nbformat": 4,
 "nbformat_minor": 5
}
