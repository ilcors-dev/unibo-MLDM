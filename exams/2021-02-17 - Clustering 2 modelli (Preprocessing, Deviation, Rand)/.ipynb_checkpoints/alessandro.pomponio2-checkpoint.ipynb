{
 "cells": [
  {
   "cell_type": "markdown",
   "metadata": {},
   "source": [
    "# Alessandro Pomponio - alessandro.pomponio2@studio.unibo.it"
   ]
  },
  {
   "cell_type": "code",
   "execution_count": 8,
   "metadata": {},
   "outputs": [],
   "source": [
    "# Imports\n",
    "import pandas as pd\n",
    "import numpy as np\n",
    "import matplotlib.pyplot as plt\n",
    "import seaborn as sns\n",
    "from sklearn.preprocessing import OneHotEncoder\n",
    "from sklearn.cluster import KMeans, DBSCAN\n",
    "from sklearn.metrics import silhouette_score, adjusted_rand_score\n",
    "from sklearn.model_selection import ParameterGrid\n",
    "from sklearn.metrics.cluster import pair_confusion_matrix\n",
    "\n",
    "# Variables\n",
    "file_name = 'exam_2021_02_17_data.csv'\n",
    "separator = '\\t'        #ATTENZIONE\n",
    "random_state = 42\n",
    "\n",
    "# Directives\n",
    "%matplotlib inline\n",
    "np.random.seed(random_state)\n"
   ]
  },
  {
   "cell_type": "markdown",
   "metadata": {},
   "source": [
    "## 1. Load the data, the attributes are all qualitative and there is no label column, show the shape of the data and for each column show the frequencies of each distinct value (hint: you can use the numpy function unique(x, return_counts = True)"
   ]
  },
  {
   "cell_type": "code",
   "execution_count": 9,
   "metadata": {},
   "outputs": [
    {
     "name": "stdout",
     "output_type": "stream",
     "text": [
      "The shape of the data is (1000, 3)\n"
     ]
    }
   ],
   "source": [
    "# Load the data\n",
    "X = pd.read_csv(file_name, delimiter = separator)\n",
    "\n",
    "# Show the shape of the data\n",
    "print(f\"The shape of the data is {X.shape}\")"
   ]
  },
  {
   "cell_type": "code",
   "execution_count": 10,
   "metadata": {},
   "outputs": [
    {
     "data": {
      "text/plain": [
       "(array(['a', 'b', 'c', 'd', 'e', 'f', 'g', 'h', 'i', 'j'], dtype=object),\n",
       " array([300, 298, 300, 300, 302, 300, 300, 300, 300, 300], dtype=int64))"
      ]
     },
     "execution_count": 10,
     "metadata": {},
     "output_type": "execute_result"
    }
   ],
   "source": [
    "# For each column show the frequencies of each distinct value\n",
    "np.unique(X, return_counts = True)"
   ]
  },
  {
   "cell_type": "markdown",
   "metadata": {},
   "source": [
    "## 2. Do the appropriate pre-processing in order to use the sklearn algorithms on this dataset; the values are qualitative and must be considered as nominal"
   ]
  },
  {
   "cell_type": "markdown",
   "metadata": {},
   "source": [
    "Since we have categorical features that we need to consider as nominal, we will have to use the OneHotEncoder (as the OrdinalEncoder is for ordinal values)"
   ]
  },
  {
   "cell_type": "code",
   "execution_count": 11,
   "metadata": {},
   "outputs": [],
   "source": [
    "# We will transform into integers\n",
    "transf_dtype = np.int32\n",
    "categorical_transformer = OneHotEncoder(handle_unknown = 'ignore', sparse = False, dtype = transf_dtype)"
   ]
  },
  {
   "cell_type": "code",
   "execution_count": 12,
   "metadata": {},
   "outputs": [
    {
     "data": {
      "text/html": [
       "<div>\n",
       "<style scoped>\n",
       "    .dataframe tbody tr th:only-of-type {\n",
       "        vertical-align: middle;\n",
       "    }\n",
       "\n",
       "    .dataframe tbody tr th {\n",
       "        vertical-align: top;\n",
       "    }\n",
       "\n",
       "    .dataframe thead th {\n",
       "        text-align: right;\n",
       "    }\n",
       "</style>\n",
       "<table border=\"1\" class=\"dataframe\">\n",
       "  <thead>\n",
       "    <tr style=\"text-align: right;\">\n",
       "      <th></th>\n",
       "      <th>0</th>\n",
       "      <th>1</th>\n",
       "      <th>2</th>\n",
       "      <th>3</th>\n",
       "      <th>4</th>\n",
       "      <th>5</th>\n",
       "      <th>6</th>\n",
       "      <th>7</th>\n",
       "      <th>8</th>\n",
       "      <th>9</th>\n",
       "      <th>...</th>\n",
       "      <th>20</th>\n",
       "      <th>21</th>\n",
       "      <th>22</th>\n",
       "      <th>23</th>\n",
       "      <th>24</th>\n",
       "      <th>25</th>\n",
       "      <th>26</th>\n",
       "      <th>27</th>\n",
       "      <th>28</th>\n",
       "      <th>29</th>\n",
       "    </tr>\n",
       "  </thead>\n",
       "  <tbody>\n",
       "    <tr>\n",
       "      <th>0</th>\n",
       "      <td>0</td>\n",
       "      <td>0</td>\n",
       "      <td>0</td>\n",
       "      <td>1</td>\n",
       "      <td>0</td>\n",
       "      <td>0</td>\n",
       "      <td>0</td>\n",
       "      <td>0</td>\n",
       "      <td>0</td>\n",
       "      <td>0</td>\n",
       "      <td>...</td>\n",
       "      <td>1</td>\n",
       "      <td>0</td>\n",
       "      <td>0</td>\n",
       "      <td>0</td>\n",
       "      <td>0</td>\n",
       "      <td>0</td>\n",
       "      <td>0</td>\n",
       "      <td>0</td>\n",
       "      <td>0</td>\n",
       "      <td>0</td>\n",
       "    </tr>\n",
       "    <tr>\n",
       "      <th>1</th>\n",
       "      <td>0</td>\n",
       "      <td>0</td>\n",
       "      <td>1</td>\n",
       "      <td>0</td>\n",
       "      <td>0</td>\n",
       "      <td>0</td>\n",
       "      <td>0</td>\n",
       "      <td>0</td>\n",
       "      <td>0</td>\n",
       "      <td>0</td>\n",
       "      <td>...</td>\n",
       "      <td>0</td>\n",
       "      <td>0</td>\n",
       "      <td>1</td>\n",
       "      <td>0</td>\n",
       "      <td>0</td>\n",
       "      <td>0</td>\n",
       "      <td>0</td>\n",
       "      <td>0</td>\n",
       "      <td>0</td>\n",
       "      <td>0</td>\n",
       "    </tr>\n",
       "    <tr>\n",
       "      <th>2</th>\n",
       "      <td>0</td>\n",
       "      <td>0</td>\n",
       "      <td>0</td>\n",
       "      <td>0</td>\n",
       "      <td>0</td>\n",
       "      <td>0</td>\n",
       "      <td>0</td>\n",
       "      <td>0</td>\n",
       "      <td>0</td>\n",
       "      <td>1</td>\n",
       "      <td>...</td>\n",
       "      <td>0</td>\n",
       "      <td>0</td>\n",
       "      <td>1</td>\n",
       "      <td>0</td>\n",
       "      <td>0</td>\n",
       "      <td>0</td>\n",
       "      <td>0</td>\n",
       "      <td>0</td>\n",
       "      <td>0</td>\n",
       "      <td>0</td>\n",
       "    </tr>\n",
       "    <tr>\n",
       "      <th>3</th>\n",
       "      <td>0</td>\n",
       "      <td>0</td>\n",
       "      <td>0</td>\n",
       "      <td>0</td>\n",
       "      <td>0</td>\n",
       "      <td>1</td>\n",
       "      <td>0</td>\n",
       "      <td>0</td>\n",
       "      <td>0</td>\n",
       "      <td>0</td>\n",
       "      <td>...</td>\n",
       "      <td>0</td>\n",
       "      <td>0</td>\n",
       "      <td>0</td>\n",
       "      <td>0</td>\n",
       "      <td>0</td>\n",
       "      <td>0</td>\n",
       "      <td>0</td>\n",
       "      <td>0</td>\n",
       "      <td>0</td>\n",
       "      <td>1</td>\n",
       "    </tr>\n",
       "    <tr>\n",
       "      <th>4</th>\n",
       "      <td>0</td>\n",
       "      <td>0</td>\n",
       "      <td>1</td>\n",
       "      <td>0</td>\n",
       "      <td>0</td>\n",
       "      <td>0</td>\n",
       "      <td>0</td>\n",
       "      <td>0</td>\n",
       "      <td>0</td>\n",
       "      <td>0</td>\n",
       "      <td>...</td>\n",
       "      <td>0</td>\n",
       "      <td>0</td>\n",
       "      <td>0</td>\n",
       "      <td>1</td>\n",
       "      <td>0</td>\n",
       "      <td>0</td>\n",
       "      <td>0</td>\n",
       "      <td>0</td>\n",
       "      <td>0</td>\n",
       "      <td>0</td>\n",
       "    </tr>\n",
       "  </tbody>\n",
       "</table>\n",
       "<p>5 rows × 30 columns</p>\n",
       "</div>"
      ],
      "text/plain": [
       "   0   1   2   3   4   5   6   7   8   9   ...  20  21  22  23  24  25  26  \\\n",
       "0   0   0   0   1   0   0   0   0   0   0  ...   1   0   0   0   0   0   0   \n",
       "1   0   0   1   0   0   0   0   0   0   0  ...   0   0   1   0   0   0   0   \n",
       "2   0   0   0   0   0   0   0   0   0   1  ...   0   0   1   0   0   0   0   \n",
       "3   0   0   0   0   0   1   0   0   0   0  ...   0   0   0   0   0   0   0   \n",
       "4   0   0   1   0   0   0   0   0   0   0  ...   0   0   0   1   0   0   0   \n",
       "\n",
       "   27  28  29  \n",
       "0   0   0   0  \n",
       "1   0   0   0  \n",
       "2   0   0   0  \n",
       "3   0   0   1  \n",
       "4   0   0   0  \n",
       "\n",
       "[5 rows x 30 columns]"
      ]
     },
     "execution_count": 12,
     "metadata": {},
     "output_type": "execute_result"
    }
   ],
   "source": [
    "# Fit and transform the data\n",
    "X_p = categorical_transformer.fit_transform(X)\n",
    "pino = pd.DataFrame(X_p)\n",
    "pino.head()"
   ]
  },
  {
   "cell_type": "markdown",
   "metadata": {},
   "source": [
    "## 3. As an external background knowledge, we are told that for this dataset a requirement for a good clustering scheme is to have clusters with low deviation in sizes, e.g. a scheme with cluster sizes (330, 670) is less acceptable than one with (333, 333, 334). \n",
    "\n",
    "In order to obtain this, we want to compute, for each clustering scheme with n_clusters clusters and represented by the labels in y, a size deviation index with the formula \n",
    "\n",
    "`np.sqrt(np.unique(y, return_counts = True)[1].var())/n_clusters`\n",
    "\n",
    "For varying number of clusters fit KMeans and compute the inertia, the silhouette index and the above‑mentioned size deviation index."
   ]
  },
  {
   "cell_type": "code",
   "execution_count": 13,
   "metadata": {},
   "outputs": [],
   "source": [
    "# Range of possible clusters\n",
    "k_range = range(2,11)\n",
    "\n",
    "# Distortion, Silhouette Score and size deviation as measures\n",
    "distortions = []\n",
    "silhouette_scores = []\n",
    "size_deviation = []\n",
    "\n",
    "for i in k_range:\n",
    "    \n",
    "    # Iterate over our range of possible clusters\n",
    "    km = KMeans(n_clusters = i, \n",
    "                init = 'k-means++', \n",
    "                n_init = 10, \n",
    "                max_iter = 300, \n",
    "                random_state = random_state)\n",
    "\n",
    "    # Fit predict\n",
    "    y_km = km.fit_predict(X_p)\n",
    "\n",
    "    # Compute the deviation with the provided formula\n",
    "    deviation = np.sqrt(np.unique(y_km, return_counts = True)[1].var())/i\n",
    "\n",
    "    # Store the data in the arrays\n",
    "    distortions.append(km.inertia_)\n",
    "    silhouette_scores.append(silhouette_score(X_p,y_km))\n",
    "    size_deviation.append(deviation)"
   ]
  },
  {
   "cell_type": "markdown",
   "metadata": {},
   "source": [
    "## 4. In this dataset the elbow method will show an almost “vanishing” elbow for inertia, and the silhouette is totally non-effective. Make two plots, one with inertia and silhouette, another with inertia and size deviation index, then decide the best number of clusters and refit KMeans using that value"
   ]
  },
  {
   "cell_type": "markdown",
   "metadata": {},
   "source": [
    "We will first plot inertia and silhouette indexes"
   ]
  },
  {
   "cell_type": "code",
   "execution_count": 14,
   "metadata": {},
   "outputs": [
    {
     "data": {
      "image/png": "[encoded data removed]",
      "text/plain": [
       "<Figure size 432x288 with 2 Axes>"
      ]
     },
     "metadata": {
      "needs_background": "light"
     },
     "output_type": "display_data"
    }
   ],
   "source": [
    "fig, ax1 = plt.subplots()\n",
    "\n",
    "color = 'tab:red'\n",
    "ax1.set_xlabel('Number of clusters')\n",
    "ax1.set_ylabel('Inertia', color=color)\n",
    "ax1.plot(k_range, distortions, color=color)\n",
    "ax1.tick_params(axis='y', labelcolor=color)\n",
    "\n",
    "ax2 = ax1.twinx()  # instantiate a second axes that shares the same x-axis\n",
    "\n",
    "color = 'tab:blue'\n",
    "ax2.set_ylabel('Silhouette scores', color=color)  # we already handled the x-label with ax1\n",
    "ax2.plot(k_range, silhouette_scores, color=color)\n",
    "ax2.tick_params(axis='y', labelcolor=color)\n",
    "ax2.set_ylim(0,1) # the axis for silhouette is [0,1]\n",
    "\n",
    "fig.tight_layout()  # otherwise the right y-label is slightly clipped\n",
    "plt.show()"
   ]
  },
  {
   "cell_type": "markdown",
   "metadata": {},
   "source": [
    "As we can see, the inertia decreases almost linearly, thus showing absolutely no elbow and the silhouette scores are indeed all very low.\n",
    "\n",
    "We will now plot the inertia and the size deviation index"
   ]
  },
  {
   "cell_type": "code",
   "execution_count": 15,
   "metadata": {},
   "outputs": [
    {
     "data": {
      "image/png": "[encoded data removed]",
      "text/plain": [
       "<Figure size 432x288 with 2 Axes>"
      ]
     },
     "metadata": {
      "needs_background": "light"
     },
     "output_type": "display_data"
    }
   ],
   "source": [
    "fig, ax1 = plt.subplots()\n",
    "\n",
    "color = 'tab:red'\n",
    "ax1.set_xlabel('Number of clusters')\n",
    "ax1.set_ylabel('Inertia', color=color)\n",
    "ax1.plot(k_range, distortions, color=color)\n",
    "ax1.tick_params(axis='y', labelcolor=color)\n",
    "\n",
    "ax2 = ax1.twinx()  # instantiate a second axes that shares the same x-axis\n",
    "\n",
    "color = 'tab:blue'\n",
    "ax2.set_ylabel('Size deviation index', color=color)  # we already handled the x-label with ax1\n",
    "ax2.plot(k_range, size_deviation, color=color)\n",
    "ax2.tick_params(axis='y', labelcolor=color)\n",
    "\n",
    "fig.tight_layout()  # otherwise the right y-label is slightly clipped\n",
    "plt.show()"
   ]
  },
  {
   "cell_type": "markdown",
   "metadata": {},
   "source": [
    "Our goal was to minimize the size deviation index. The best compromise is probably 3 clusters, as it has a value of around 8, a value that is only \"beaten\" by much higher number of clusters, like 7+. If we really want to minimize this number, another option is 10 clusters, as it has a value of 0.04."
   ]
  },
  {
   "cell_type": "code",
   "execution_count": 16,
   "metadata": {},
   "outputs": [],
   "source": [
    "best_k = 3"
   ]
  },
  {
   "cell_type": "markdown",
   "metadata": {},
   "source": [
    "## 5. Fit another clustering method of your choice, trying to reproduce the same number of clusters you have chosen in the previous step"
   ]
  },
  {
   "cell_type": "markdown",
   "metadata": {},
   "source": [
    "For the 2nd method, we will use DBSCAN.\n",
    "\n",
    "In order to find the appropriate set of parameters we will use `ParameterGrid`"
   ]
  },
  {
   "cell_type": "code",
   "execution_count": 17,
   "metadata": {},
   "outputs": [],
   "source": [
    "# We will use a set of \"reasonable\" parameters to iterate over in our search\n",
    "# eps is the maximum distance between two samples for one to be considered as in the neighborhood of the other.\n",
    "# min_samples is the number of samples (or total weight) in a neighborhood for a point to be considered as a core point.\n",
    "param_grid = {'eps': list(np.arange(1, 30, 1)), 'min_samples': list(range(50,300,5))}\n",
    "params = list(ParameterGrid(param_grid))"
   ]
  },
  {
   "cell_type": "code",
   "execution_count": 18,
   "metadata": {},
   "outputs": [
    {
     "name": "stdout",
     "output_type": "stream",
     "text": [
      "        eps\tmin_samples\t n_clusters\t silhouette\t    unclust%\t    size deviation\n",
      "       2.00\t        280\t          2\t       0.06\t      38.30\t       0.22\n"
     ]
    }
   ],
   "source": [
    "# Code taken from one of the exercises held in class\n",
    "print(\"{:11}\\t{:11}\\t{:11}\\t{:11}\\t{:11}\\t{:11}\".format('        eps','min_samples',' n_clusters',' silhouette', '    unclust%', '    size deviation'))\n",
    "for i in range(len(params)):\n",
    "    db = DBSCAN(**(params[i]))\n",
    "    y_db = db.fit_predict(X_p)\n",
    "    cluster_labels_all = np.unique(y_db)\n",
    "    cluster_labels = cluster_labels_all[cluster_labels_all != -1]\n",
    "    n_clusters = len(cluster_labels)\n",
    "    if n_clusters > 1:\n",
    "        X_cl = X_p[y_db!=-1,:]\n",
    "        y_db_cl = y_db[y_db!=-1]\n",
    "        silhouette = silhouette_score(X_cl,y_db_cl)\n",
    "        uncl_p = (1 - y_db_cl.shape[0]/y_db.shape[0]) * 100\n",
    "        s_deviation = np.sqrt(np.unique(y_km, return_counts = True)[1].var())/n_clusters\n",
    "        print(\"{:11.2f}\\t{:11}\\t{:11}\\t{:11.2f}\\t{:11.2f}\\t{:11.2f}\"\\\n",
    "                  .format(db.eps, db.min_samples, n_clusters, silhouette, uncl_p, s_deviation))"
   ]
  },
  {
   "cell_type": "markdown",
   "metadata": {},
   "source": [
    "Oddly enough, DBSCAN finds only huge amounts of clusters with our typical set of values (`{'eps': list(np.arange(0.1, 0.4, 0.01)), 'min_samples': list(range(1,10,1))}`), always 246 or 333 clusters.\n",
    "\n",
    "In order to obtain a more similar amount of clusters, we had to change a lot the parameters, using `{'eps': list(np.arange(1, 30, 1)), 'min_samples': list(range(50,300,5))}`.\n",
    "\n",
    "With those parameters, we found 2 clusters but with a very high unclustered percentage, 38.30%, meaning the clustering quality is quite poor. Also, the number of clusters that we found is not the same one as the one we had found with Kmeans.\n"
   ]
  },
  {
   "cell_type": "markdown",
   "metadata": {},
   "source": [
    "## 6. Compare the results of the two clustering showing the result of sklearn.metrics.cluster.pair_confusion_matrix and sklearn.metrics.adjusted_rand_score"
   ]
  },
  {
   "cell_type": "markdown",
   "metadata": {},
   "source": [
    "Before comparing the two clustering schemes, we will refit the two clustering algorithms with the results that we found."
   ]
  },
  {
   "cell_type": "code",
   "execution_count": 19,
   "metadata": {},
   "outputs": [],
   "source": [
    "# Re-instantiate\n",
    "km = KMeans(n_clusters = 3, init = 'k-means++', n_init = 10, max_iter = 300, random_state = random_state)\n",
    "db = DBSCAN(eps = 2.00, min_samples = 280)\n",
    "\n",
    "# Fit and predict\n",
    "km_y = km.fit_predict(X_p)\n",
    "db_y = db.fit_predict(X_p)"
   ]
  },
  {
   "cell_type": "markdown",
   "metadata": {},
   "source": [
    "Now that we have the predicted labels, we can compare them.\n",
    "\n",
    "Note: both the functions are supposed to work with true labels and predicted labels, but since we don't have the \"true\" labels, we will have to settle with the two predicted ones."
   ]
  },
  {
   "cell_type": "code",
   "execution_count": 20,
   "metadata": {},
   "outputs": [
    {
     "data": {
      "text/plain": [
       "0.06993834005054805"
      ]
     },
     "execution_count": 20,
     "metadata": {},
     "output_type": "execute_result"
    }
   ],
   "source": [
    "adjusted_rand_score(km_y, db_y)"
   ]
  },
  {
   "cell_type": "markdown",
   "metadata": {},
   "source": [
    "The adjusted rand score is very low, meaning that the two clusterings are quite different. This doesn't come as a surprise, as we ended up having two different values of the number of clusters."
   ]
  },
  {
   "cell_type": "code",
   "execution_count": 21,
   "metadata": {},
   "outputs": [
    {
     "data": {
      "text/plain": [
       "array([[439372, 225526],\n",
       "       [196914, 137188]], dtype=int64)"
      ]
     },
     "execution_count": 21,
     "metadata": {},
     "output_type": "execute_result"
    }
   ],
   "source": [
    "pair_confusion_matrix(km_y, db_y)"
   ]
  },
  {
   "cell_type": "markdown",
   "metadata": {},
   "source": [
    "Again, the numbers in this matrix show that the two cluster schemas are quite different "
   ]
  }
 ],
 "metadata": {
  "kernelspec": {
   "display_name": "Python 3",
   "language": "python",
   "name": "python3"
  },
  "language_info": {
   "codemirror_mode": {
    "name": "ipython",
    "version": 3
   },
   "file_extension": ".py",
   "mimetype": "text/x-python",
   "name": "python",
   "nbconvert_exporter": "python",
   "pygments_lexer": "ipython3",
   "version": "3.10.0"
  },
  "orig_nbformat": 2,
  "vscode": {
   "interpreter": {
    "hash": "b1708fff10be9fb692d7fda4b87bbb8793f7d6a3cb1c2c80debaadfcc2f4e575"
   }
  }
 },
 "nbformat": 4,
 "nbformat_minor": 2
}
