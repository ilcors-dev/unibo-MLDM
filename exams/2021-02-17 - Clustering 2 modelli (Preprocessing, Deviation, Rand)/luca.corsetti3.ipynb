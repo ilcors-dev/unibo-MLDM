{
 "cells": [
  {
   "cell_type": "markdown",
   "id": "d0cab213-7cd5-43a7-ba94-ace79d9debf0",
   "metadata": {},
   "source": [
    "# Luca Corsetti 0001131095"
   ]
  },
  {
   "cell_type": "code",
   "execution_count": 111,
   "id": "799ec7eb-eb97-434f-af2c-c951c4c98112",
   "metadata": {},
   "outputs": [],
   "source": [
    "import pandas as pd\n",
    "import numpy as np\n",
    "import matplotlib.pyplot as plt\n",
    "import seaborn as sns\n",
    "from sklearn.preprocessing import OneHotEncoder\n",
    "from sklearn.cluster import KMeans, DBSCAN\n",
    "from sklearn.metrics import silhouette_score, adjusted_rand_score\n",
    "from sklearn.model_selection import ParameterGrid\n",
    "from sklearn.metrics.cluster import pair_confusion_matrix\n",
    "\n",
    "%matplotlib inline\n",
    "\n",
    "random_state=777\n",
    "\n",
    "np.random.seed(random_state)"
   ]
  },
  {
   "cell_type": "markdown",
   "id": "6e348366-c5e2-4df8-b3de-f2687e0b8b91",
   "metadata": {},
   "source": [
    "1. Load the data, the attributes are all qualitative and there is no label column, show the shape of the data and for each column show the frequencies of each distinct value (hint: you can use the\n",
    "numpy function unique(x, return_counts = True)\n",
    "2. Do the appropriate pre-processing in order to use the sklearn algorithms on this dataset; the values are qualitative and must be considered as nomina!\n",
    "3. As an external background knowledge, we are told that for this dataset a requirement for a good clustering scheme is to have clusters with low deviation in sizes, e.g. a scheme with cluster sizes (330, 670) is less acceptable than one with (333, 333, 334).\\\n",
    "In order to obtain this, we want to compute, for each clustering scheme with _clusters clusters and represented by the labels in y, a size deviation index with the formula\\\n",
    "**np.sqrt(np.unique(y, return_counts = True)[1].var())/n_clusters**\\\n",
    "For varying number of clusters fit KMeans and compute the inertia, the silhouette index and the above-mentioned size deviation index.\n",
    "4. In this dataset the elbow method will show an almost \"vanishing\" elbow for inertia, and the silhouette is totally non-effective. Make two plots, one with inertia and silhouette, another with inertia and size deviation index, then decide the best number of clusters and refit KMeans using that value\n",
    "5. Fit another clustering method of your choice, trying to reproduce the same number of clusters you have chosen in the previous step\n",
    "6. Compare the results of the two clustering showing the result\n",
    "of sklearn.metrics.cluster.pair_confusion_matrix and sklearn.metrics.adjusted_rand_score"
   ]
  },
  {
   "cell_type": "markdown",
   "id": "4a341503-a7ff-4840-a0d3-2a020b869eee",
   "metadata": {},
   "source": [
    "### 1. Load the data, the attributes are all qualitative and there is no label column, show the shape of the data and for each column show the frequencies of each distinct value\n",
    "\n",
    "(hint: you can use the numpy function unique(x, return_counts = True)"
   ]
  },
  {
   "cell_type": "code",
   "execution_count": 7,
   "id": "9a6bf329-848c-4d02-8e4b-6141013eddd7",
   "metadata": {},
   "outputs": [
    {
     "name": "stdout",
     "output_type": "stream",
     "text": [
      "the dataset has 1000 rows and 3 columns\n"
     ]
    }
   ],
   "source": [
    "df = pd.read_csv('./exam_2021_02_17_data.csv', sep='\\t')\n",
    "\n",
    "print(f\"the dataset has {df.shape[0]} rows and {df.shape[1]} columns\")"
   ]
  },
  {
   "cell_type": "code",
   "execution_count": 10,
   "id": "f697c14b-9e61-4947-ac64-6f5c7e797ba2",
   "metadata": {},
   "outputs": [
    {
     "data": {
      "text/html": [
       "<div>\n",
       "<style scoped>\n",
       "    .dataframe tbody tr th:only-of-type {\n",
       "        vertical-align: middle;\n",
       "    }\n",
       "\n",
       "    .dataframe tbody tr th {\n",
       "        vertical-align: top;\n",
       "    }\n",
       "\n",
       "    .dataframe thead th {\n",
       "        text-align: right;\n",
       "    }\n",
       "</style>\n",
       "<table border=\"1\" class=\"dataframe\">\n",
       "  <thead>\n",
       "    <tr style=\"text-align: right;\">\n",
       "      <th></th>\n",
       "      <th>F0</th>\n",
       "      <th>F1</th>\n",
       "      <th>F2</th>\n",
       "    </tr>\n",
       "  </thead>\n",
       "  <tbody>\n",
       "    <tr>\n",
       "      <th>0</th>\n",
       "      <td>d</td>\n",
       "      <td>a</td>\n",
       "      <td>a</td>\n",
       "    </tr>\n",
       "    <tr>\n",
       "      <th>1</th>\n",
       "      <td>c</td>\n",
       "      <td>e</td>\n",
       "      <td>c</td>\n",
       "    </tr>\n",
       "    <tr>\n",
       "      <th>2</th>\n",
       "      <td>j</td>\n",
       "      <td>a</td>\n",
       "      <td>c</td>\n",
       "    </tr>\n",
       "    <tr>\n",
       "      <th>3</th>\n",
       "      <td>f</td>\n",
       "      <td>e</td>\n",
       "      <td>j</td>\n",
       "    </tr>\n",
       "    <tr>\n",
       "      <th>4</th>\n",
       "      <td>c</td>\n",
       "      <td>e</td>\n",
       "      <td>d</td>\n",
       "    </tr>\n",
       "  </tbody>\n",
       "</table>\n",
       "</div>"
      ],
      "text/plain": [
       "  F0 F1 F2\n",
       "0  d  a  a\n",
       "1  c  e  c\n",
       "2  j  a  c\n",
       "3  f  e  j\n",
       "4  c  e  d"
      ]
     },
     "execution_count": 10,
     "metadata": {},
     "output_type": "execute_result"
    }
   ],
   "source": [
    "df.head()"
   ]
  },
  {
   "cell_type": "code",
   "execution_count": 19,
   "id": "a8616769-9e08-4c28-99a7-41db36e22293",
   "metadata": {},
   "outputs": [
    {
     "data": {
      "text/html": [
       "<div>\n",
       "<style scoped>\n",
       "    .dataframe tbody tr th:only-of-type {\n",
       "        vertical-align: middle;\n",
       "    }\n",
       "\n",
       "    .dataframe tbody tr th {\n",
       "        vertical-align: top;\n",
       "    }\n",
       "\n",
       "    .dataframe thead th {\n",
       "        text-align: right;\n",
       "    }\n",
       "</style>\n",
       "<table border=\"1\" class=\"dataframe\">\n",
       "  <thead>\n",
       "    <tr style=\"text-align: right;\">\n",
       "      <th></th>\n",
       "      <th>a</th>\n",
       "      <th>b</th>\n",
       "      <th>c</th>\n",
       "      <th>d</th>\n",
       "      <th>e</th>\n",
       "      <th>f</th>\n",
       "      <th>g</th>\n",
       "      <th>h</th>\n",
       "      <th>i</th>\n",
       "      <th>j</th>\n",
       "    </tr>\n",
       "  </thead>\n",
       "  <tbody>\n",
       "    <tr>\n",
       "      <th>frequencies</th>\n",
       "      <td>300</td>\n",
       "      <td>298</td>\n",
       "      <td>300</td>\n",
       "      <td>300</td>\n",
       "      <td>302</td>\n",
       "      <td>300</td>\n",
       "      <td>300</td>\n",
       "      <td>300</td>\n",
       "      <td>300</td>\n",
       "      <td>300</td>\n",
       "    </tr>\n",
       "  </tbody>\n",
       "</table>\n",
       "</div>"
      ],
      "text/plain": [
       "               a    b    c    d    e    f    g    h    i    j\n",
       "frequencies  300  298  300  300  302  300  300  300  300  300"
      ]
     },
     "execution_count": 19,
     "metadata": {},
     "output_type": "execute_result"
    }
   ],
   "source": [
    "counts = np.unique(df, return_counts=True)\n",
    "\n",
    "frequencies = pd.DataFrame(counts[1:], columns=counts[0], index=['frequencies'])\n",
    "\n",
    "frequencies"
   ]
  },
  {
   "cell_type": "markdown",
   "id": "83cd63c4-4d2d-4c4c-8ca8-d3d875428c6e",
   "metadata": {},
   "source": [
    "### 2. Do the appropriate pre-processing in order to use the sklearn algorithms on this dataset; the values are qualitative and must be considered as nominal"
   ]
  },
  {
   "cell_type": "markdown",
   "id": "d6ffdc1a-36ec-40f8-a2b8-575c07460e46",
   "metadata": {},
   "source": [
    "we will use OneHotEncoder, such that every label gets transformed into a [False|True] array"
   ]
  },
  {
   "cell_type": "code",
   "execution_count": 85,
   "id": "a125f72a-9b62-40eb-b6b1-bd752660cdd2",
   "metadata": {},
   "outputs": [
    {
     "data": {
      "text/html": [
       "<div>\n",
       "<style scoped>\n",
       "    .dataframe tbody tr th:only-of-type {\n",
       "        vertical-align: middle;\n",
       "    }\n",
       "\n",
       "    .dataframe tbody tr th {\n",
       "        vertical-align: top;\n",
       "    }\n",
       "\n",
       "    .dataframe thead th {\n",
       "        text-align: right;\n",
       "    }\n",
       "</style>\n",
       "<table border=\"1\" class=\"dataframe\">\n",
       "  <thead>\n",
       "    <tr style=\"text-align: right;\">\n",
       "      <th></th>\n",
       "      <th>0</th>\n",
       "      <th>1</th>\n",
       "      <th>2</th>\n",
       "      <th>3</th>\n",
       "      <th>4</th>\n",
       "      <th>5</th>\n",
       "      <th>6</th>\n",
       "      <th>7</th>\n",
       "      <th>8</th>\n",
       "      <th>9</th>\n",
       "      <th>...</th>\n",
       "      <th>20</th>\n",
       "      <th>21</th>\n",
       "      <th>22</th>\n",
       "      <th>23</th>\n",
       "      <th>24</th>\n",
       "      <th>25</th>\n",
       "      <th>26</th>\n",
       "      <th>27</th>\n",
       "      <th>28</th>\n",
       "      <th>29</th>\n",
       "    </tr>\n",
       "  </thead>\n",
       "  <tbody>\n",
       "    <tr>\n",
       "      <th>0</th>\n",
       "      <td>0</td>\n",
       "      <td>0</td>\n",
       "      <td>0</td>\n",
       "      <td>1</td>\n",
       "      <td>0</td>\n",
       "      <td>0</td>\n",
       "      <td>0</td>\n",
       "      <td>0</td>\n",
       "      <td>0</td>\n",
       "      <td>0</td>\n",
       "      <td>...</td>\n",
       "      <td>1</td>\n",
       "      <td>0</td>\n",
       "      <td>0</td>\n",
       "      <td>0</td>\n",
       "      <td>0</td>\n",
       "      <td>0</td>\n",
       "      <td>0</td>\n",
       "      <td>0</td>\n",
       "      <td>0</td>\n",
       "      <td>0</td>\n",
       "    </tr>\n",
       "    <tr>\n",
       "      <th>1</th>\n",
       "      <td>0</td>\n",
       "      <td>0</td>\n",
       "      <td>1</td>\n",
       "      <td>0</td>\n",
       "      <td>0</td>\n",
       "      <td>0</td>\n",
       "      <td>0</td>\n",
       "      <td>0</td>\n",
       "      <td>0</td>\n",
       "      <td>0</td>\n",
       "      <td>...</td>\n",
       "      <td>0</td>\n",
       "      <td>0</td>\n",
       "      <td>1</td>\n",
       "      <td>0</td>\n",
       "      <td>0</td>\n",
       "      <td>0</td>\n",
       "      <td>0</td>\n",
       "      <td>0</td>\n",
       "      <td>0</td>\n",
       "      <td>0</td>\n",
       "    </tr>\n",
       "    <tr>\n",
       "      <th>2</th>\n",
       "      <td>0</td>\n",
       "      <td>0</td>\n",
       "      <td>0</td>\n",
       "      <td>0</td>\n",
       "      <td>0</td>\n",
       "      <td>0</td>\n",
       "      <td>0</td>\n",
       "      <td>0</td>\n",
       "      <td>0</td>\n",
       "      <td>1</td>\n",
       "      <td>...</td>\n",
       "      <td>0</td>\n",
       "      <td>0</td>\n",
       "      <td>1</td>\n",
       "      <td>0</td>\n",
       "      <td>0</td>\n",
       "      <td>0</td>\n",
       "      <td>0</td>\n",
       "      <td>0</td>\n",
       "      <td>0</td>\n",
       "      <td>0</td>\n",
       "    </tr>\n",
       "    <tr>\n",
       "      <th>3</th>\n",
       "      <td>0</td>\n",
       "      <td>0</td>\n",
       "      <td>0</td>\n",
       "      <td>0</td>\n",
       "      <td>0</td>\n",
       "      <td>1</td>\n",
       "      <td>0</td>\n",
       "      <td>0</td>\n",
       "      <td>0</td>\n",
       "      <td>0</td>\n",
       "      <td>...</td>\n",
       "      <td>0</td>\n",
       "      <td>0</td>\n",
       "      <td>0</td>\n",
       "      <td>0</td>\n",
       "      <td>0</td>\n",
       "      <td>0</td>\n",
       "      <td>0</td>\n",
       "      <td>0</td>\n",
       "      <td>0</td>\n",
       "      <td>1</td>\n",
       "    </tr>\n",
       "    <tr>\n",
       "      <th>4</th>\n",
       "      <td>0</td>\n",
       "      <td>0</td>\n",
       "      <td>1</td>\n",
       "      <td>0</td>\n",
       "      <td>0</td>\n",
       "      <td>0</td>\n",
       "      <td>0</td>\n",
       "      <td>0</td>\n",
       "      <td>0</td>\n",
       "      <td>0</td>\n",
       "      <td>...</td>\n",
       "      <td>0</td>\n",
       "      <td>0</td>\n",
       "      <td>0</td>\n",
       "      <td>1</td>\n",
       "      <td>0</td>\n",
       "      <td>0</td>\n",
       "      <td>0</td>\n",
       "      <td>0</td>\n",
       "      <td>0</td>\n",
       "      <td>0</td>\n",
       "    </tr>\n",
       "  </tbody>\n",
       "</table>\n",
       "<p>5 rows × 30 columns</p>\n",
       "</div>"
      ],
      "text/plain": [
       "   0   1   2   3   4   5   6   7   8   9   ...  20  21  22  23  24  25  26  \\\n",
       "0   0   0   0   1   0   0   0   0   0   0  ...   1   0   0   0   0   0   0   \n",
       "1   0   0   1   0   0   0   0   0   0   0  ...   0   0   1   0   0   0   0   \n",
       "2   0   0   0   0   0   0   0   0   0   1  ...   0   0   1   0   0   0   0   \n",
       "3   0   0   0   0   0   1   0   0   0   0  ...   0   0   0   0   0   0   0   \n",
       "4   0   0   1   0   0   0   0   0   0   0  ...   0   0   0   1   0   0   0   \n",
       "\n",
       "   27  28  29  \n",
       "0   0   0   0  \n",
       "1   0   0   0  \n",
       "2   0   0   0  \n",
       "3   0   0   1  \n",
       "4   0   0   0  \n",
       "\n",
       "[5 rows x 30 columns]"
      ]
     },
     "execution_count": 85,
     "metadata": {},
     "output_type": "execute_result"
    }
   ],
   "source": [
    "encoder = OneHotEncoder(dtype=np.int32, sparse_output=False, handle_unknown='ignore')\n",
    "\n",
    "encoded_data = encoder.fit_transform(df)\n",
    "\n",
    "X = pd.DataFrame(encoded_data)\n",
    "\n",
    "X.head()"
   ]
  },
  {
   "cell_type": "markdown",
   "id": "d89fbbe8-9541-44c8-95cb-6a07ea9602c5",
   "metadata": {},
   "source": [
    "### 3. As an external background knowledge, we are told that for this dataset a requirement for a good clustering scheme is to have clusters with low deviation in sizes, e.g. a scheme with cluster sizes (330, 670) is less acceptable than one with (333, 333, 334).\\\n",
    "In order to obtain this, we want to compute, for each clustering scheme with n_clusters clusters and represented by the labels in y, a size deviation index with the formula\\\n",
    "**np.sqrt(np.unique(y, return_counts = True)[1].var())/n_clusters**\\\n",
    "For varying number of clusters fit KMeans and compute the inertia, the silhouette index and the above-mentioned size deviation index."
   ]
  },
  {
   "cell_type": "markdown",
   "id": "cf2ac900-2e21-4d6f-98e4-f83b0ee6c592",
   "metadata": {},
   "source": [
    "we will proceed by clustering the data using various k, storing the result of each in a dataframe for later easy retrival"
   ]
  },
  {
   "cell_type": "code",
   "execution_count": 87,
   "id": "ab3932a5-83c4-40dc-b4c3-6f0658e10088",
   "metadata": {},
   "outputs": [
    {
     "name": "stdout",
     "output_type": "stream",
     "text": [
      "fitting k=2\n",
      "fitting k=3\n",
      "fitting k=4\n",
      "fitting k=5\n",
      "fitting k=6\n",
      "fitting k=7\n",
      "fitting k=8\n",
      "fitting k=9\n",
      "fitting k=10\n"
     ]
    },
    {
     "data": {
      "text/html": [
       "<div>\n",
       "<style scoped>\n",
       "    .dataframe tbody tr th:only-of-type {\n",
       "        vertical-align: middle;\n",
       "    }\n",
       "\n",
       "    .dataframe tbody tr th {\n",
       "        vertical-align: top;\n",
       "    }\n",
       "\n",
       "    .dataframe thead th {\n",
       "        text-align: right;\n",
       "    }\n",
       "</style>\n",
       "<table border=\"1\" class=\"dataframe\">\n",
       "  <thead>\n",
       "    <tr style=\"text-align: right;\">\n",
       "      <th></th>\n",
       "      <th>k</th>\n",
       "      <th>inertia</th>\n",
       "      <th>silhouette_index</th>\n",
       "      <th>deviation_index</th>\n",
       "    </tr>\n",
       "  </thead>\n",
       "  <tbody>\n",
       "    <tr>\n",
       "      <th>0</th>\n",
       "      <td>2.0</td>\n",
       "      <td>2544.047450</td>\n",
       "      <td>0.064529</td>\n",
       "      <td>88.500000</td>\n",
       "    </tr>\n",
       "    <tr>\n",
       "      <th>1</th>\n",
       "      <td>3.0</td>\n",
       "      <td>2326.329233</td>\n",
       "      <td>0.105176</td>\n",
       "      <td>0.314270</td>\n",
       "    </tr>\n",
       "    <tr>\n",
       "      <th>2</th>\n",
       "      <td>4.0</td>\n",
       "      <td>2276.492339</td>\n",
       "      <td>0.093858</td>\n",
       "      <td>19.254058</td>\n",
       "    </tr>\n",
       "    <tr>\n",
       "      <th>3</th>\n",
       "      <td>5.0</td>\n",
       "      <td>2177.144476</td>\n",
       "      <td>0.099177</td>\n",
       "      <td>15.159420</td>\n",
       "    </tr>\n",
       "    <tr>\n",
       "      <th>4</th>\n",
       "      <td>6.0</td>\n",
       "      <td>2099.341795</td>\n",
       "      <td>0.109804</td>\n",
       "      <td>9.131583</td>\n",
       "    </tr>\n",
       "  </tbody>\n",
       "</table>\n",
       "</div>"
      ],
      "text/plain": [
       "     k      inertia  silhouette_index  deviation_index\n",
       "0  2.0  2544.047450          0.064529        88.500000\n",
       "1  3.0  2326.329233          0.105176         0.314270\n",
       "2  4.0  2276.492339          0.093858        19.254058\n",
       "3  5.0  2177.144476          0.099177        15.159420\n",
       "4  6.0  2099.341795          0.109804         9.131583"
      ]
     },
     "execution_count": 87,
     "metadata": {},
     "output_type": "execute_result"
    }
   ],
   "source": [
    "k_range = range(2, 11)\n",
    "\n",
    "results = pd.DataFrame(columns=['k', 'inertia', 'silhouette_index', 'deviation_index'])\n",
    "\n",
    "for k in k_range:\n",
    "    print(f\"fitting k={k}\")\n",
    "\n",
    "    km = KMeans(n_clusters=k, random_state=random_state)\n",
    "    \n",
    "    y_km = km.fit_predict(X)\n",
    "    s_score = silhouette_score(X, y_km)\n",
    "    d_index = np.sqrt(np.unique(y_km, return_counts=True)[1].var()) / k\n",
    "    \n",
    "    results.loc[len(results)] = [k, km.inertia_, s_score, d_index]\n",
    "\n",
    "results.head()"
   ]
  },
  {
   "cell_type": "markdown",
   "id": "0ef2dd27-5c6d-4d14-af7a-27d58af0c10c",
   "metadata": {},
   "source": [
    "### 4. In this dataset the elbow method will show an almost \"vanishing\" elbow for inertia, and the silhouette is totally non-effective. Make two plots, one with inertia and silhouette, another with inertia and size deviation index, then decide the best number of clusters and refit KMeans using that value"
   ]
  },
  {
   "cell_type": "code",
   "execution_count": 89,
   "id": "a4518955-39f5-4f28-ba6e-5be2c16c0624",
   "metadata": {},
   "outputs": [
    {
     "data": {
      "image/png": "[encoded data removed]",
      "text/plain": [
       "<Figure size 1300x800 with 4 Axes>"
      ]
     },
     "metadata": {},
     "output_type": "display_data"
    }
   ],
   "source": [
    "fig, (plot1, plot2) = plt.subplots(figsize=(13, 8), nrows=1, ncols=2)\n",
    "\n",
    "plot1.set_xlabel('k_cluster')\n",
    "plot2.set_xlabel('k_cluster')\n",
    "\n",
    "plot1.set_ylabel('inertia', color='red')\n",
    "plot1.plot(results['k'], results['inertia'], color='red')\n",
    "plot1.tick_params(axis='y', labelcolor='red')\n",
    "\n",
    "silhouette_plt = plot1.twinx()\n",
    "silhouette_plt.set_ylabel('silhouette', color='blue')\n",
    "silhouette_plt.plot(results['k'], results['silhouette_index'], color='blue')\n",
    "silhouette_plt.tick_params(axis='y', labelcolor='blue')\n",
    "silhouette_plt.set_ylim(0, 1)\n",
    "\n",
    "plot2.set_ylabel('silhouette', color='blue')\n",
    "plot2.plot(results['k'], results['silhouette_index'], color='blue')\n",
    "plot2.tick_params(axis='y', labelcolor='blue')\n",
    "plot2.set_ylim(0, 1)\n",
    "\n",
    "silhouette_plt = plot2.twinx()\n",
    "silhouette_plt.set_ylabel('deviation_index', color='purple')\n",
    "silhouette_plt.plot(results['k'], results['deviation_index'], color='purple')\n",
    "silhouette_plt.tick_params(axis='y', labelcolor='purple')\n",
    "\n",
    "plt.show()"
   ]
  },
  {
   "cell_type": "markdown",
   "id": "dc26609a-da13-4abd-a8a0-22bd0caeeb83",
   "metadata": {},
   "source": [
    "since our goal is to minimize the deviation_index we are going to be choosing k=3 as it seems to be the lowest one."
   ]
  },
  {
   "cell_type": "code",
   "execution_count": 91,
   "id": "2927370f-920c-4779-8e04-8c6227073e9a",
   "metadata": {},
   "outputs": [],
   "source": [
    "best_k = 3"
   ]
  },
  {
   "cell_type": "markdown",
   "id": "3eebf3d4-936b-4e62-9afa-ac114defa934",
   "metadata": {},
   "source": [
    "### 5. Fit another clustering method of your choice, trying to reproduce the same number of clusters you have chosen in the previous step"
   ]
  },
  {
   "cell_type": "markdown",
   "id": "f4be7a63-2ad4-41f4-a20d-eef74d4606a2",
   "metadata": {},
   "source": [
    "for this task, we're going to use AgglomerativeClustering algorithm"
   ]
  },
  {
   "cell_type": "code",
   "execution_count": 115,
   "id": "68ceeff8-5394-41c6-b8a9-554d9c26d861",
   "metadata": {},
   "outputs": [
    {
     "data": {
      "text/html": [
       "<div>\n",
       "<style scoped>\n",
       "    .dataframe tbody tr th:only-of-type {\n",
       "        vertical-align: middle;\n",
       "    }\n",
       "\n",
       "    .dataframe tbody tr th {\n",
       "        vertical-align: top;\n",
       "    }\n",
       "\n",
       "    .dataframe thead th {\n",
       "        text-align: right;\n",
       "    }\n",
       "</style>\n",
       "<table border=\"1\" class=\"dataframe\">\n",
       "  <thead>\n",
       "    <tr style=\"text-align: right;\">\n",
       "      <th></th>\n",
       "      <th>k</th>\n",
       "      <th>eps</th>\n",
       "      <th>min_samples</th>\n",
       "      <th>silhouette_index</th>\n",
       "      <th>deviation_index</th>\n",
       "    </tr>\n",
       "  </thead>\n",
       "  <tbody>\n",
       "    <tr>\n",
       "      <th>0</th>\n",
       "      <td>2.0</td>\n",
       "      <td>2.0</td>\n",
       "      <td>280.0</td>\n",
       "      <td>0.040009</td>\n",
       "      <td>50.316222</td>\n",
       "    </tr>\n",
       "  </tbody>\n",
       "</table>\n",
       "</div>"
      ],
      "text/plain": [
       "     k  eps  min_samples  silhouette_index  deviation_index\n",
       "0  2.0  2.0        280.0          0.040009        50.316222"
      ]
     },
     "execution_count": 115,
     "metadata": {},
     "output_type": "execute_result"
    }
   ],
   "source": [
    "results_db = pd.DataFrame(columns=['k', 'eps', 'min_samples', 'silhouette_index', 'deviation_index'])\n",
    "params = {'eps': list(range(1, 30)), 'min_samples': list(range(50, 300, 5))}\n",
    "grid = list(ParameterGrid(params))\n",
    "    \n",
    "for i in range(len(grid)):\n",
    "    db = DBSCAN(**grid[i])\n",
    "    y_db = db.fit_predict(X)\n",
    "\n",
    "    labels_all = np.unique(y_db)\n",
    "    labels = labels_all[labels_all != -1]\n",
    "    n_clusters = len(labels)\n",
    "    \n",
    "    if n_clusters <= 1:\n",
    "        continue\n",
    "    \n",
    "    s_score = silhouette_score(X, y_db)\n",
    "    d_index = np.sqrt(np.unique(y_db, return_counts=True)[1].var()) / n_clusters\n",
    "    \n",
    "    results_db.loc[len(results_db)] = [n_clusters, db.eps, db.min_samples, s_score, d_index]\n",
    "\n",
    "results_db.head()"
   ]
  },
  {
   "cell_type": "markdown",
   "id": "8c9cf33d-ea04-499f-b42e-8c76ab551c0c",
   "metadata": {},
   "source": [
    "by trying with a bunch of parameters over DBSCAN, we were only able to find a single result with > 1 clusters with a high deviation_index of ~50"
   ]
  },
  {
   "cell_type": "markdown",
   "id": "2afd155b-ff9f-4227-9a1a-4acf256aa632",
   "metadata": {},
   "source": [
    "### 6. Compare the results of the two clustering showing the result of sklearn.metrics.cluster.pair_confusion_matrix and sklearn.metrics.adjusted_rand_score"
   ]
  },
  {
   "cell_type": "markdown",
   "id": "14338895-092b-43ed-80e2-e2756c1027e1",
   "metadata": {},
   "source": [
    "before comparing the two clustering methods, we will refit the algorithms with the best results we previously found"
   ]
  },
  {
   "cell_type": "code",
   "execution_count": 118,
   "id": "3d0f0e87-9a01-4ff9-a47d-4a42ae7f9a19",
   "metadata": {},
   "outputs": [],
   "source": [
    "km = KMeans(n_clusters=best_k)\n",
    "y_km = km.fit_predict(X)\n",
    "\n",
    "db = DBSCAN(eps=2.0, min_samples=280)\n",
    "y_db = db.fit_predict(X)"
   ]
  },
  {
   "cell_type": "markdown",
   "id": "45127f37-897c-4060-b665-179c0ea4d51a",
   "metadata": {},
   "source": [
    "once we have the predicted labels we can visualize the rand_score"
   ]
  },
  {
   "cell_type": "code",
   "execution_count": 121,
   "id": "75603aec-f69d-49ed-8d1c-d6b3a5ebf7a7",
   "metadata": {},
   "outputs": [
    {
     "data": {
      "text/plain": [
       "0.07066509472910891"
      ]
     },
     "execution_count": 121,
     "metadata": {},
     "output_type": "execute_result"
    }
   ],
   "source": [
    "rand_score = adjusted_rand_score(y_km, y_db)\n",
    "\n",
    "rand_score"
   ]
  },
  {
   "cell_type": "markdown",
   "id": "1883e8bf-922e-40da-8ff7-ccc940b11492",
   "metadata": {},
   "source": [
    "since the rand metric is pretty low, it means that the 2 predicted labels collection are quite different. we could've expected this behaviour since KMeans was fitted with k=3, while DBMeans with k=2."
   ]
  },
  {
   "cell_type": "code",
   "execution_count": 124,
   "id": "37187898-ef4a-480c-bf28-bfc82977558d",
   "metadata": {},
   "outputs": [
    {
     "data": {
      "text/plain": [
       "array([[439384, 225270],\n",
       "       [196902, 137444]])"
      ]
     },
     "execution_count": 124,
     "metadata": {},
     "output_type": "execute_result"
    }
   ],
   "source": [
    "pair_confusion_matrix(y_km, y_db)"
   ]
  },
  {
   "cell_type": "markdown",
   "id": "5e71c20d-82a9-4c47-9a42-1a8e643f2c02",
   "metadata": {},
   "source": [
    "the confusion matrix\n",
    "\n",
    "[\n",
    "    TP, FN,\n",
    "    FP, TN\n",
    "]\n",
    "\n",
    "-\tTrue Positives (TP): Pairs of points that are in the same cluster in both labels_true and labels_pred.\n",
    "-\tFalse Negatives (FN): Pairs of points that are in the same cluster in labels_true but in different clusters in labels_pred.\n",
    "-\tFalse Positives (FP): Pairs of points that are in the same cluster in labels_pred but in different clusters in labels_true.\n",
    "-\tTrue Negatives (TN): Pairs of points that are in different clusters in both labels_true and labels_pred."
   ]
  }
 ],
 "metadata": {
  "kernelspec": {
   "display_name": "Python 3 (ipykernel)",
   "language": "python",
   "name": "python3"
  },
  "language_info": {
   "codemirror_mode": {
    "name": "ipython",
    "version": 3
   },
   "file_extension": ".py",
   "mimetype": "text/x-python",
   "name": "python",
   "nbconvert_exporter": "python",
   "pygments_lexer": "ipython3",
   "version": "3.13.1"
  }
 },
 "nbformat": 4,
 "nbformat_minor": 5
}
