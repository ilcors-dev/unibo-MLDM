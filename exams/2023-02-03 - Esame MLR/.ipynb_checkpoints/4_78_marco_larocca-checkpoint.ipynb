{
 "cells": [
  {
   "attachments": {},
   "cell_type": "markdown",
   "metadata": {},
   "source": [
    "Author: La Rocca Marco 0001058673\n",
    "Sit: Lab4_78\n",
    "# Exam for Machine Learning Python Lab"
   ]
  },
  {
   "attachments": {},
   "cell_type": "markdown",
   "metadata": {},
   "source": [
    "Consider the file provided with the assignment, the task is to train and test two regression models, using y as target.\n",
    "The solution must be produced as a Python Notebook, assuming that the dataset is in the same folder as the notebook.\n",
    "The notebook must include appropriate comments and must operate as follows:\n"
   ]
  },
  {
   "attachments": {},
   "cell_type": "markdown",
   "metadata": {},
   "source": [
    "## 1. Load the data file and explore the data, showing size, data descriptions, data distributions with boxplot, and correlation between columns 2pt"
   ]
  },
  {
   "cell_type": "code",
   "execution_count": 1,
   "metadata": {},
   "outputs": [],
   "source": [
    "# Imports\n",
    "import pandas as pd\n",
    "import numpy as np\n",
    "import seaborn as sns\n",
    "import matplotlib.pyplot as plt\n",
    "from sklearn.model_selection import train_test_split\n",
    "from sklearn.tree import DecisionTreeClassifier\n",
    "from sklearn.neighbors import KNeighborsClassifier\n",
    "from sklearn.model_selection import GridSearchCV\n",
    "\n",
    "# Variables\n",
    "file_name = 'ml_python_labexam_2023_02_03.csv'\n",
    "separator = ','\n",
    "random_state = 42\n",
    "\n",
    "# Directives\n",
    "%matplotlib inline                          \n",
    "np.random.seed(random_state)  "
   ]
  },
  {
   "cell_type": "code",
   "execution_count": 2,
   "metadata": {},
   "outputs": [
    {
     "name": "stdout",
     "output_type": "stream",
     "text": [
      "The size is: (1000, 11)\n",
      "X00    float64\n",
      "X01    float64\n",
      "X02    float64\n",
      "X03    float64\n",
      "X04    float64\n",
      "X05    float64\n",
      "X06    float64\n",
      "X07    float64\n",
      "X08    float64\n",
      "X09    float64\n",
      "y      float64\n",
      "dtype: object\n"
     ]
    },
    {
     "data": {
      "text/html": [
       "<div>\n",
       "<style scoped>\n",
       "    .dataframe tbody tr th:only-of-type {\n",
       "        vertical-align: middle;\n",
       "    }\n",
       "\n",
       "    .dataframe tbody tr th {\n",
       "        vertical-align: top;\n",
       "    }\n",
       "\n",
       "    .dataframe thead th {\n",
       "        text-align: right;\n",
       "    }\n",
       "</style>\n",
       "<table border=\"1\" class=\"dataframe\">\n",
       "  <thead>\n",
       "    <tr style=\"text-align: right;\">\n",
       "      <th></th>\n",
       "      <th>X00</th>\n",
       "      <th>X01</th>\n",
       "      <th>X02</th>\n",
       "      <th>X03</th>\n",
       "      <th>X04</th>\n",
       "      <th>X05</th>\n",
       "      <th>X06</th>\n",
       "      <th>X07</th>\n",
       "      <th>X08</th>\n",
       "      <th>X09</th>\n",
       "      <th>y</th>\n",
       "    </tr>\n",
       "  </thead>\n",
       "  <tbody>\n",
       "    <tr>\n",
       "      <th>count</th>\n",
       "      <td>1000.000000</td>\n",
       "      <td>1000.000000</td>\n",
       "      <td>1000.000000</td>\n",
       "      <td>1.000000e+03</td>\n",
       "      <td>1.000000e+03</td>\n",
       "      <td>1000.000000</td>\n",
       "      <td>1000.000000</td>\n",
       "      <td>1000.000000</td>\n",
       "      <td>1000.000000</td>\n",
       "      <td>1000.000000</td>\n",
       "      <td>1000.000000</td>\n",
       "    </tr>\n",
       "    <tr>\n",
       "      <th>mean</th>\n",
       "      <td>0.000127</td>\n",
       "      <td>0.000297</td>\n",
       "      <td>-0.000421</td>\n",
       "      <td>3.378287e-01</td>\n",
       "      <td>2.521912e-01</td>\n",
       "      <td>0.000364</td>\n",
       "      <td>-0.000191</td>\n",
       "      <td>0.000553</td>\n",
       "      <td>0.000130</td>\n",
       "      <td>0.000524</td>\n",
       "      <td>0.437747</td>\n",
       "    </tr>\n",
       "    <tr>\n",
       "      <th>std</th>\n",
       "      <td>0.023475</td>\n",
       "      <td>0.018878</td>\n",
       "      <td>0.019124</td>\n",
       "      <td>2.952473e-01</td>\n",
       "      <td>2.877240e-01</td>\n",
       "      <td>0.017402</td>\n",
       "      <td>0.019349</td>\n",
       "      <td>0.017783</td>\n",
       "      <td>0.018999</td>\n",
       "      <td>0.025391</td>\n",
       "      <td>2.407762</td>\n",
       "    </tr>\n",
       "    <tr>\n",
       "      <th>min</th>\n",
       "      <td>-0.074550</td>\n",
       "      <td>-0.055749</td>\n",
       "      <td>-0.063489</td>\n",
       "      <td>9.531015e-07</td>\n",
       "      <td>6.913766e-10</td>\n",
       "      <td>-0.054694</td>\n",
       "      <td>-0.058531</td>\n",
       "      <td>-0.054578</td>\n",
       "      <td>-0.062925</td>\n",
       "      <td>-0.073059</td>\n",
       "      <td>-6.609545</td>\n",
       "    </tr>\n",
       "    <tr>\n",
       "      <th>25%</th>\n",
       "      <td>-0.015763</td>\n",
       "      <td>-0.012357</td>\n",
       "      <td>-0.013722</td>\n",
       "      <td>6.778294e-02</td>\n",
       "      <td>1.552023e-02</td>\n",
       "      <td>-0.011251</td>\n",
       "      <td>-0.013393</td>\n",
       "      <td>-0.011797</td>\n",
       "      <td>-0.012001</td>\n",
       "      <td>-0.018202</td>\n",
       "      <td>-1.200759</td>\n",
       "    </tr>\n",
       "    <tr>\n",
       "      <th>50%</th>\n",
       "      <td>0.000446</td>\n",
       "      <td>0.000269</td>\n",
       "      <td>-0.000891</td>\n",
       "      <td>2.638645e-01</td>\n",
       "      <td>1.218160e-01</td>\n",
       "      <td>0.000675</td>\n",
       "      <td>-0.000333</td>\n",
       "      <td>0.000422</td>\n",
       "      <td>-0.000858</td>\n",
       "      <td>-0.000219</td>\n",
       "      <td>0.336424</td>\n",
       "    </tr>\n",
       "    <tr>\n",
       "      <th>75%</th>\n",
       "      <td>0.015529</td>\n",
       "      <td>0.013924</td>\n",
       "      <td>0.012571</td>\n",
       "      <td>5.712697e-01</td>\n",
       "      <td>4.295876e-01</td>\n",
       "      <td>0.012217</td>\n",
       "      <td>0.012797</td>\n",
       "      <td>0.012697</td>\n",
       "      <td>0.012722</td>\n",
       "      <td>0.018642</td>\n",
       "      <td>2.175038</td>\n",
       "    </tr>\n",
       "    <tr>\n",
       "      <th>max</th>\n",
       "      <td>0.079599</td>\n",
       "      <td>0.073114</td>\n",
       "      <td>0.052593</td>\n",
       "      <td>9.996939e-01</td>\n",
       "      <td>9.988956e-01</td>\n",
       "      <td>0.053673</td>\n",
       "      <td>0.051803</td>\n",
       "      <td>0.049480</td>\n",
       "      <td>0.061867</td>\n",
       "      <td>0.081461</td>\n",
       "      <td>7.915506</td>\n",
       "    </tr>\n",
       "  </tbody>\n",
       "</table>\n",
       "</div>"
      ],
      "text/plain": [
       "               X00          X01          X02           X03           X04  \\\n",
       "count  1000.000000  1000.000000  1000.000000  1.000000e+03  1.000000e+03   \n",
       "mean      0.000127     0.000297    -0.000421  3.378287e-01  2.521912e-01   \n",
       "std       0.023475     0.018878     0.019124  2.952473e-01  2.877240e-01   \n",
       "min      -0.074550    -0.055749    -0.063489  9.531015e-07  6.913766e-10   \n",
       "25%      -0.015763    -0.012357    -0.013722  6.778294e-02  1.552023e-02   \n",
       "50%       0.000446     0.000269    -0.000891  2.638645e-01  1.218160e-01   \n",
       "75%       0.015529     0.013924     0.012571  5.712697e-01  4.295876e-01   \n",
       "max       0.079599     0.073114     0.052593  9.996939e-01  9.988956e-01   \n",
       "\n",
       "               X05          X06          X07          X08          X09  \\\n",
       "count  1000.000000  1000.000000  1000.000000  1000.000000  1000.000000   \n",
       "mean      0.000364    -0.000191     0.000553     0.000130     0.000524   \n",
       "std       0.017402     0.019349     0.017783     0.018999     0.025391   \n",
       "min      -0.054694    -0.058531    -0.054578    -0.062925    -0.073059   \n",
       "25%      -0.011251    -0.013393    -0.011797    -0.012001    -0.018202   \n",
       "50%       0.000675    -0.000333     0.000422    -0.000858    -0.000219   \n",
       "75%       0.012217     0.012797     0.012697     0.012722     0.018642   \n",
       "max       0.053673     0.051803     0.049480     0.061867     0.081461   \n",
       "\n",
       "                 y  \n",
       "count  1000.000000  \n",
       "mean      0.437747  \n",
       "std       2.407762  \n",
       "min      -6.609545  \n",
       "25%      -1.200759  \n",
       "50%       0.336424  \n",
       "75%       2.175038  \n",
       "max       7.915506  "
      ]
     },
     "execution_count": 2,
     "metadata": {},
     "output_type": "execute_result"
    }
   ],
   "source": [
    "#--Load the data from the file\n",
    "df = pd.read_csv(file_name, delimiter = separator, index_col=None)\n",
    "\n",
    "#--Show the size\n",
    "print (\"The size is: {}\".format(df.shape))\n",
    "#--Check data types\n",
    "print(df.dtypes)\n",
    "#--Show the structure of DataFrame\n",
    "df.describe()"
   ]
  },
  {
   "cell_type": "code",
   "execution_count": 3,
   "metadata": {},
   "outputs": [
    {
     "data": {
      "image/png": "[encoded data removed]",
      "text/plain": [
       "<Figure size 1080x1080 with 11 Axes>"
      ]
     },
     "metadata": {
      "needs_background": "light"
     },
     "output_type": "display_data"
    }
   ],
   "source": [
    "#--Checking Outliers\n",
    "plt.figure(figsize=(15,15))\n",
    "pos = 1\n",
    "for i in df.columns:\n",
    "    plt.subplot(4, 3, pos)\n",
    "    sns.boxplot(df[i])\n",
    "    pos += 1"
   ]
  },
  {
   "cell_type": "code",
   "execution_count": 4,
   "metadata": {},
   "outputs": [
    {
     "data": {
      "image/png": "[encoded data removed]",
      "text/plain": [
       "<Figure size 432x288 with 2 Axes>"
      ]
     },
     "metadata": {
      "needs_background": "light"
     },
     "output_type": "display_data"
    }
   ],
   "source": [
    "#Correlation matrix\n",
    "correlation_matrix = df.corr();\n",
    "sns.heatmap(correlation_matrix, cmap=\"YlGnBu\", annot=True);\n",
    "sns.set(rc={'figure.figsize':(20,10)})"
   ]
  },
  {
   "attachments": {},
   "cell_type": "markdown",
   "metadata": {},
   "source": [
    "## 2. Comment the exploration of step 1 pointing out if there are predicting columns having the absolute value of correlation with the target less than 0.15 . . . . . . . . . . . . . . . . . . . . . . . . . . . . . . . . . . . . . . . . . . . . . . . . . . . . . . . . 2pt"
   ]
  },
  {
   "attachments": {},
   "cell_type": "markdown",
   "metadata": {},
   "source": [
    "Distribution of values are similar for all attributes, except for \"X03\" and \"X04\", most of the attributes have the median in the center of the distribution.\n",
    "\n",
    "The dataframe contains only float values. Outliers are present in most of the columns.\n",
    "\n",
    "Columns \"X03\", \"X04\" and \"X07\" have less than 0.15 absolute value of correlation with the target \"y\""
   ]
  },
  {
   "attachments": {},
   "cell_type": "markdown",
   "metadata": {},
   "source": [
    "## 3. train test a multivariate linear regressor and show the Root Mean Squared Error . . . . . . . . . . . . . . . . . . . . . . . . . . . . . . . . . . . . . . . . . . . . . . . . . . . 2pt"
   ]
  },
  {
   "cell_type": "code",
   "execution_count": 5,
   "metadata": {},
   "outputs": [
    {
     "data": {
      "text/html": [
       "<div>\n",
       "<style scoped>\n",
       "    .dataframe tbody tr th:only-of-type {\n",
       "        vertical-align: middle;\n",
       "    }\n",
       "\n",
       "    .dataframe tbody tr th {\n",
       "        vertical-align: top;\n",
       "    }\n",
       "\n",
       "    .dataframe thead th {\n",
       "        text-align: right;\n",
       "    }\n",
       "</style>\n",
       "<table border=\"1\" class=\"dataframe\">\n",
       "  <thead>\n",
       "    <tr style=\"text-align: right;\">\n",
       "      <th></th>\n",
       "      <th>X00</th>\n",
       "      <th>X01</th>\n",
       "      <th>X02</th>\n",
       "      <th>X03</th>\n",
       "      <th>X04</th>\n",
       "      <th>X05</th>\n",
       "      <th>X06</th>\n",
       "      <th>X07</th>\n",
       "      <th>X08</th>\n",
       "      <th>X09</th>\n",
       "    </tr>\n",
       "  </thead>\n",
       "  <tbody>\n",
       "    <tr>\n",
       "      <th>0</th>\n",
       "      <td>-0.016771</td>\n",
       "      <td>-0.026036</td>\n",
       "      <td>-0.001474</td>\n",
       "      <td>0.104545</td>\n",
       "      <td>0.352163</td>\n",
       "      <td>0.023372</td>\n",
       "      <td>0.003706</td>\n",
       "      <td>0.004963</td>\n",
       "      <td>-0.007113</td>\n",
       "      <td>0.022166</td>\n",
       "    </tr>\n",
       "    <tr>\n",
       "      <th>1</th>\n",
       "      <td>-0.011618</td>\n",
       "      <td>0.025699</td>\n",
       "      <td>-0.026818</td>\n",
       "      <td>0.053014</td>\n",
       "      <td>0.613195</td>\n",
       "      <td>-0.012447</td>\n",
       "      <td>0.029382</td>\n",
       "      <td>-0.006348</td>\n",
       "      <td>-0.036920</td>\n",
       "      <td>-0.016464</td>\n",
       "    </tr>\n",
       "    <tr>\n",
       "      <th>2</th>\n",
       "      <td>0.027478</td>\n",
       "      <td>0.009282</td>\n",
       "      <td>-0.020700</td>\n",
       "      <td>0.630085</td>\n",
       "      <td>0.612415</td>\n",
       "      <td>-0.004157</td>\n",
       "      <td>0.008240</td>\n",
       "      <td>0.019062</td>\n",
       "      <td>0.010821</td>\n",
       "      <td>-0.012983</td>\n",
       "    </tr>\n",
       "    <tr>\n",
       "      <th>3</th>\n",
       "      <td>-0.003170</td>\n",
       "      <td>-0.001697</td>\n",
       "      <td>-0.028924</td>\n",
       "      <td>0.389900</td>\n",
       "      <td>0.000182</td>\n",
       "      <td>0.027526</td>\n",
       "      <td>0.012792</td>\n",
       "      <td>-0.021192</td>\n",
       "      <td>-0.011102</td>\n",
       "      <td>0.015352</td>\n",
       "    </tr>\n",
       "    <tr>\n",
       "      <th>4</th>\n",
       "      <td>-0.039508</td>\n",
       "      <td>-0.009104</td>\n",
       "      <td>0.021215</td>\n",
       "      <td>0.951426</td>\n",
       "      <td>0.778600</td>\n",
       "      <td>0.018246</td>\n",
       "      <td>-0.000294</td>\n",
       "      <td>-0.012900</td>\n",
       "      <td>0.004178</td>\n",
       "      <td>0.014846</td>\n",
       "    </tr>\n",
       "    <tr>\n",
       "      <th>...</th>\n",
       "      <td>...</td>\n",
       "      <td>...</td>\n",
       "      <td>...</td>\n",
       "      <td>...</td>\n",
       "      <td>...</td>\n",
       "      <td>...</td>\n",
       "      <td>...</td>\n",
       "      <td>...</td>\n",
       "      <td>...</td>\n",
       "      <td>...</td>\n",
       "    </tr>\n",
       "    <tr>\n",
       "      <th>995</th>\n",
       "      <td>0.002408</td>\n",
       "      <td>0.014426</td>\n",
       "      <td>0.000431</td>\n",
       "      <td>0.602524</td>\n",
       "      <td>0.000004</td>\n",
       "      <td>0.009581</td>\n",
       "      <td>-0.023913</td>\n",
       "      <td>-0.001353</td>\n",
       "      <td>-0.018564</td>\n",
       "      <td>0.000913</td>\n",
       "    </tr>\n",
       "    <tr>\n",
       "      <th>996</th>\n",
       "      <td>0.020778</td>\n",
       "      <td>-0.006045</td>\n",
       "      <td>0.009457</td>\n",
       "      <td>0.458784</td>\n",
       "      <td>0.973221</td>\n",
       "      <td>-0.001016</td>\n",
       "      <td>-0.017422</td>\n",
       "      <td>0.028203</td>\n",
       "      <td>-0.028976</td>\n",
       "      <td>0.026134</td>\n",
       "    </tr>\n",
       "    <tr>\n",
       "      <th>997</th>\n",
       "      <td>0.043912</td>\n",
       "      <td>0.002790</td>\n",
       "      <td>-0.013574</td>\n",
       "      <td>0.708325</td>\n",
       "      <td>0.138217</td>\n",
       "      <td>-0.010312</td>\n",
       "      <td>-0.000105</td>\n",
       "      <td>-0.007212</td>\n",
       "      <td>0.026115</td>\n",
       "      <td>-0.033076</td>\n",
       "    </tr>\n",
       "    <tr>\n",
       "      <th>998</th>\n",
       "      <td>0.023909</td>\n",
       "      <td>0.001852</td>\n",
       "      <td>-0.003766</td>\n",
       "      <td>0.355062</td>\n",
       "      <td>0.948760</td>\n",
       "      <td>-0.002189</td>\n",
       "      <td>0.006000</td>\n",
       "      <td>0.012622</td>\n",
       "      <td>0.025405</td>\n",
       "      <td>-0.019235</td>\n",
       "    </tr>\n",
       "    <tr>\n",
       "      <th>999</th>\n",
       "      <td>0.015049</td>\n",
       "      <td>-0.001888</td>\n",
       "      <td>0.003335</td>\n",
       "      <td>0.038824</td>\n",
       "      <td>0.141561</td>\n",
       "      <td>0.001466</td>\n",
       "      <td>-0.030439</td>\n",
       "      <td>-0.011906</td>\n",
       "      <td>-0.014436</td>\n",
       "      <td>0.026231</td>\n",
       "    </tr>\n",
       "  </tbody>\n",
       "</table>\n",
       "<p>1000 rows × 10 columns</p>\n",
       "</div>"
      ],
      "text/plain": [
       "          X00       X01       X02       X03       X04       X05       X06  \\\n",
       "0   -0.016771 -0.026036 -0.001474  0.104545  0.352163  0.023372  0.003706   \n",
       "1   -0.011618  0.025699 -0.026818  0.053014  0.613195 -0.012447  0.029382   \n",
       "2    0.027478  0.009282 -0.020700  0.630085  0.612415 -0.004157  0.008240   \n",
       "3   -0.003170 -0.001697 -0.028924  0.389900  0.000182  0.027526  0.012792   \n",
       "4   -0.039508 -0.009104  0.021215  0.951426  0.778600  0.018246 -0.000294   \n",
       "..        ...       ...       ...       ...       ...       ...       ...   \n",
       "995  0.002408  0.014426  0.000431  0.602524  0.000004  0.009581 -0.023913   \n",
       "996  0.020778 -0.006045  0.009457  0.458784  0.973221 -0.001016 -0.017422   \n",
       "997  0.043912  0.002790 -0.013574  0.708325  0.138217 -0.010312 -0.000105   \n",
       "998  0.023909  0.001852 -0.003766  0.355062  0.948760 -0.002189  0.006000   \n",
       "999  0.015049 -0.001888  0.003335  0.038824  0.141561  0.001466 -0.030439   \n",
       "\n",
       "          X07       X08       X09  \n",
       "0    0.004963 -0.007113  0.022166  \n",
       "1   -0.006348 -0.036920 -0.016464  \n",
       "2    0.019062  0.010821 -0.012983  \n",
       "3   -0.021192 -0.011102  0.015352  \n",
       "4   -0.012900  0.004178  0.014846  \n",
       "..        ...       ...       ...  \n",
       "995 -0.001353 -0.018564  0.000913  \n",
       "996  0.028203 -0.028976  0.026134  \n",
       "997 -0.007212  0.026115 -0.033076  \n",
       "998  0.012622  0.025405 -0.019235  \n",
       "999 -0.011906 -0.014436  0.026231  \n",
       "\n",
       "[1000 rows x 10 columns]"
      ]
     },
     "execution_count": 5,
     "metadata": {},
     "output_type": "execute_result"
    }
   ],
   "source": [
    "target = 'y'\n",
    "X = df.drop(target, axis=1)\n",
    "y = df[target]\n",
    "X"
   ]
  },
  {
   "cell_type": "code",
   "execution_count": 6,
   "metadata": {},
   "outputs": [
    {
     "name": "stdout",
     "output_type": "stream",
     "text": [
      "Training set and test set have 700 and 300 elements respectively\n"
     ]
    }
   ],
   "source": [
    "from sklearn.model_selection import train_test_split\n",
    "\n",
    "X_train, X_test, y_train, y_test = train_test_split(X,y,random_state=random_state, train_size=0.7)\n",
    "print('Training set and test set have {} and {} elements respectively'.format(X_train.shape[0],X_test.shape[0]))"
   ]
  },
  {
   "cell_type": "code",
   "execution_count": 7,
   "metadata": {},
   "outputs": [
    {
     "name": "stdout",
     "output_type": "stream",
     "text": [
      "Linear Regression - RMSE = 0.88\n"
     ]
    }
   ],
   "source": [
    "from sklearn import linear_model\n",
    "from sklearn.metrics import mean_squared_error\n",
    "\n",
    "# Create linear regression object\n",
    "linear_multi = linear_model.LinearRegression()\n",
    "\n",
    "# Train the model using the training set\n",
    "linear_multi.fit(X_train, y_train)\n",
    "\n",
    "# Make predictions using the test set\n",
    "y_test_pred_multi = linear_multi.predict(X_test)\n",
    "\n",
    "rmse_dt = mean_squared_error(y_test, y_test_pred_multi, squared=False)\n",
    "print(\"Linear Regression - RMSE = {:.2f}\".format(rmse_dt))"
   ]
  },
  {
   "attachments": {},
   "cell_type": "markdown",
   "metadata": {},
   "source": [
    "## 4. train test a multivariate linear regressor on the reduced dataset obtained dropping the columns loosely correlated with the target, and show the Root Mean Squared Error . . . . . . . . . . . . . . . . . . . . . . . . . . . . . . . . . . . . . . . .2pt"
   ]
  },
  {
   "cell_type": "code",
   "execution_count": 8,
   "metadata": {},
   "outputs": [
    {
     "data": {
      "text/html": [
       "<div>\n",
       "<style scoped>\n",
       "    .dataframe tbody tr th:only-of-type {\n",
       "        vertical-align: middle;\n",
       "    }\n",
       "\n",
       "    .dataframe tbody tr th {\n",
       "        vertical-align: top;\n",
       "    }\n",
       "\n",
       "    .dataframe thead th {\n",
       "        text-align: right;\n",
       "    }\n",
       "</style>\n",
       "<table border=\"1\" class=\"dataframe\">\n",
       "  <thead>\n",
       "    <tr style=\"text-align: right;\">\n",
       "      <th></th>\n",
       "      <th>X00</th>\n",
       "      <th>X01</th>\n",
       "      <th>X02</th>\n",
       "      <th>X05</th>\n",
       "      <th>X06</th>\n",
       "      <th>X08</th>\n",
       "      <th>X09</th>\n",
       "    </tr>\n",
       "  </thead>\n",
       "  <tbody>\n",
       "    <tr>\n",
       "      <th>0</th>\n",
       "      <td>-0.016771</td>\n",
       "      <td>-0.026036</td>\n",
       "      <td>-0.001474</td>\n",
       "      <td>0.023372</td>\n",
       "      <td>0.003706</td>\n",
       "      <td>-0.007113</td>\n",
       "      <td>0.022166</td>\n",
       "    </tr>\n",
       "    <tr>\n",
       "      <th>1</th>\n",
       "      <td>-0.011618</td>\n",
       "      <td>0.025699</td>\n",
       "      <td>-0.026818</td>\n",
       "      <td>-0.012447</td>\n",
       "      <td>0.029382</td>\n",
       "      <td>-0.036920</td>\n",
       "      <td>-0.016464</td>\n",
       "    </tr>\n",
       "    <tr>\n",
       "      <th>2</th>\n",
       "      <td>0.027478</td>\n",
       "      <td>0.009282</td>\n",
       "      <td>-0.020700</td>\n",
       "      <td>-0.004157</td>\n",
       "      <td>0.008240</td>\n",
       "      <td>0.010821</td>\n",
       "      <td>-0.012983</td>\n",
       "    </tr>\n",
       "    <tr>\n",
       "      <th>3</th>\n",
       "      <td>-0.003170</td>\n",
       "      <td>-0.001697</td>\n",
       "      <td>-0.028924</td>\n",
       "      <td>0.027526</td>\n",
       "      <td>0.012792</td>\n",
       "      <td>-0.011102</td>\n",
       "      <td>0.015352</td>\n",
       "    </tr>\n",
       "    <tr>\n",
       "      <th>4</th>\n",
       "      <td>-0.039508</td>\n",
       "      <td>-0.009104</td>\n",
       "      <td>0.021215</td>\n",
       "      <td>0.018246</td>\n",
       "      <td>-0.000294</td>\n",
       "      <td>0.004178</td>\n",
       "      <td>0.014846</td>\n",
       "    </tr>\n",
       "    <tr>\n",
       "      <th>...</th>\n",
       "      <td>...</td>\n",
       "      <td>...</td>\n",
       "      <td>...</td>\n",
       "      <td>...</td>\n",
       "      <td>...</td>\n",
       "      <td>...</td>\n",
       "      <td>...</td>\n",
       "    </tr>\n",
       "    <tr>\n",
       "      <th>995</th>\n",
       "      <td>0.002408</td>\n",
       "      <td>0.014426</td>\n",
       "      <td>0.000431</td>\n",
       "      <td>0.009581</td>\n",
       "      <td>-0.023913</td>\n",
       "      <td>-0.018564</td>\n",
       "      <td>0.000913</td>\n",
       "    </tr>\n",
       "    <tr>\n",
       "      <th>996</th>\n",
       "      <td>0.020778</td>\n",
       "      <td>-0.006045</td>\n",
       "      <td>0.009457</td>\n",
       "      <td>-0.001016</td>\n",
       "      <td>-0.017422</td>\n",
       "      <td>-0.028976</td>\n",
       "      <td>0.026134</td>\n",
       "    </tr>\n",
       "    <tr>\n",
       "      <th>997</th>\n",
       "      <td>0.043912</td>\n",
       "      <td>0.002790</td>\n",
       "      <td>-0.013574</td>\n",
       "      <td>-0.010312</td>\n",
       "      <td>-0.000105</td>\n",
       "      <td>0.026115</td>\n",
       "      <td>-0.033076</td>\n",
       "    </tr>\n",
       "    <tr>\n",
       "      <th>998</th>\n",
       "      <td>0.023909</td>\n",
       "      <td>0.001852</td>\n",
       "      <td>-0.003766</td>\n",
       "      <td>-0.002189</td>\n",
       "      <td>0.006000</td>\n",
       "      <td>0.025405</td>\n",
       "      <td>-0.019235</td>\n",
       "    </tr>\n",
       "    <tr>\n",
       "      <th>999</th>\n",
       "      <td>0.015049</td>\n",
       "      <td>-0.001888</td>\n",
       "      <td>0.003335</td>\n",
       "      <td>0.001466</td>\n",
       "      <td>-0.030439</td>\n",
       "      <td>-0.014436</td>\n",
       "      <td>0.026231</td>\n",
       "    </tr>\n",
       "  </tbody>\n",
       "</table>\n",
       "<p>1000 rows × 7 columns</p>\n",
       "</div>"
      ],
      "text/plain": [
       "          X00       X01       X02       X05       X06       X08       X09\n",
       "0   -0.016771 -0.026036 -0.001474  0.023372  0.003706 -0.007113  0.022166\n",
       "1   -0.011618  0.025699 -0.026818 -0.012447  0.029382 -0.036920 -0.016464\n",
       "2    0.027478  0.009282 -0.020700 -0.004157  0.008240  0.010821 -0.012983\n",
       "3   -0.003170 -0.001697 -0.028924  0.027526  0.012792 -0.011102  0.015352\n",
       "4   -0.039508 -0.009104  0.021215  0.018246 -0.000294  0.004178  0.014846\n",
       "..        ...       ...       ...       ...       ...       ...       ...\n",
       "995  0.002408  0.014426  0.000431  0.009581 -0.023913 -0.018564  0.000913\n",
       "996  0.020778 -0.006045  0.009457 -0.001016 -0.017422 -0.028976  0.026134\n",
       "997  0.043912  0.002790 -0.013574 -0.010312 -0.000105  0.026115 -0.033076\n",
       "998  0.023909  0.001852 -0.003766 -0.002189  0.006000  0.025405 -0.019235\n",
       "999  0.015049 -0.001888  0.003335  0.001466 -0.030439 -0.014436  0.026231\n",
       "\n",
       "[1000 rows x 7 columns]"
      ]
     },
     "execution_count": 8,
     "metadata": {},
     "output_type": "execute_result"
    }
   ],
   "source": [
    "# Drop X03, X04 and X07 column\n",
    "X_cl = X.drop(columns = ['X03', 'X04', 'X07'], axis = 1)\n",
    "X_cl"
   ]
  },
  {
   "cell_type": "code",
   "execution_count": 9,
   "metadata": {},
   "outputs": [
    {
     "name": "stdout",
     "output_type": "stream",
     "text": [
      "Training set and test set have 700 and 300 elements respectively\n"
     ]
    }
   ],
   "source": [
    "Xcl_train, Xcl_test, ycl_train, ycl_test = train_test_split(X_cl,y,random_state=random_state, train_size=0.7)\n",
    "print('Training set and test set have {} and {} elements respectively'.format(Xcl_train.shape[0],Xcl_test.shape[0]))"
   ]
  },
  {
   "cell_type": "code",
   "execution_count": 10,
   "metadata": {},
   "outputs": [
    {
     "name": "stdout",
     "output_type": "stream",
     "text": [
      "Linear Regression on cleaned dataset - RMSE = 0.98\n"
     ]
    }
   ],
   "source": [
    "# Train the model using the training set\n",
    "linear_multi.fit(Xcl_train, ycl_train)\n",
    "\n",
    "# Make predictions using the test set\n",
    "ycl_test_pred_multi = linear_multi.predict(Xcl_test)\n",
    "\n",
    "rmse_dt = mean_squared_error(ycl_test, ycl_test_pred_multi, squared=False)\n",
    "print(\"Linear Regression on cleaned dataset - RMSE = {:.2f}\".format(rmse_dt))"
   ]
  },
  {
   "attachments": {},
   "cell_type": "markdown",
   "metadata": {},
   "source": [
    "## 5. train and test on the reduced dataset a decision tree regressor, and show the Root Mean Squared Error . . . . . . . . . . . . . . . . . . . . . . . . . . . . . . . . . . . . 2pt"
   ]
  },
  {
   "cell_type": "code",
   "execution_count": 11,
   "metadata": {},
   "outputs": [
    {
     "name": "stdout",
     "output_type": "stream",
     "text": [
      "The maximum depth of the full Decision Tree Regressor is 20\n",
      "Decision Tree Regression - RMSE = 2.05\n"
     ]
    }
   ],
   "source": [
    "# Create Decision Tree regression object\n",
    "from sklearn.tree import DecisionTreeRegressor\n",
    "dt = DecisionTreeRegressor(random_state=random_state)\n",
    "# Train the model using the training set\n",
    "dt.fit(Xcl_train, ycl_train);\n",
    "max_max_depth = dt.tree_.max_depth\n",
    "print(\"The maximum depth of the full Decision Tree Regressor is {}\".format(max_max_depth))\n",
    "\n",
    "# Make predictions using the test set\n",
    "y_test_pred_dt = dt.predict(Xcl_test)\n",
    "\n",
    "rmse_dt = mean_squared_error(ycl_test, y_test_pred_dt, squared=False)\n",
    "\n",
    "print(\"Decision Tree Regression - RMSE = {:.2f}\".format(rmse_dt))"
   ]
  },
  {
   "attachments": {},
   "cell_type": "markdown",
   "metadata": {},
   "source": [
    "## 6. optimise the depth of the decision tree regressor of step 5 searching for the minimum Root Mean Squared Error with cross-validation, and show the best RMSE . . . . . . . . . . . . . . . . . . . . . . . . . . . . . . . . . . . . . . . . . . . . . . . . . . 3pt"
   ]
  },
  {
   "cell_type": "code",
   "execution_count": 12,
   "metadata": {},
   "outputs": [
    {
     "name": "stdout",
     "output_type": "stream",
     "text": [
      "The optimal maximum depth for the decision tree is 7\n",
      "Decision Tree Regression - RMSE = 2.03\n"
     ]
    }
   ],
   "source": [
    "from sklearn.model_selection import GridSearchCV\n",
    "param_grid = {'max_depth': list(range(1,max_max_depth))}\n",
    "# create the grid search cross validation object\n",
    "dt_gscv = GridSearchCV(estimator=DecisionTreeRegressor(random_state=random_state)\n",
    "                    , param_grid=param_grid\n",
    "                    , scoring='neg_mean_squared_error' # select model with minimum mse\n",
    "                    )\n",
    "dt_gscv.fit(Xcl_train,ycl_train);\n",
    "dt_best = dt_gscv.best_estimator_ # the GridSearchCV returns the best estimator\n",
    "best_max_depth = dt_best.tree_.max_depth\n",
    "print(\"The optimal maximum depth for the decision tree is {}\".format(best_max_depth))\n",
    "\n",
    "# Make predictions using the test set\n",
    "y_test_pred_dt = dt_best.predict(Xcl_test)\n",
    "rmse_dt = mean_squared_error(ycl_test, y_test_pred_dt, squared=False)\n",
    "print(\"Decision Tree Regression - RMSE = {:.2f}\".format(rmse_dt))"
   ]
  },
  {
   "cell_type": "markdown",
   "metadata": {},
   "source": [
    "## 7. Comment the results . . . . . . . . . . . . . . . . . . . . . . . . . . . . . . . . . . . . . . . . . . . . . 3pt"
   ]
  },
  {
   "attachments": {},
   "cell_type": "markdown",
   "metadata": {},
   "source": [
    "All RMSE values obtained are acceptable because they are all lower than the SD of the target \"y\" (2.407762) obtained with the describe() function.\n",
    "\n",
    "Decision tree RMSE (2.03) is worse than the Multivariate Linear regressor (0.98)\n",
    "\n",
    "Cross validation was useful with Decision tree regressor (RMSE decreased from 2.05 to 2.03), also max depth was lowered from 20 to 7.\n",
    "\n",
    "Cleaning the dataset increased slightly the RMSE on the Multivariate Linear regressor."
   ]
  }
 ],
 "metadata": {
  "kernelspec": {
   "display_name": "Python 3",
   "language": "python",
   "name": "python3"
  },
  "language_info": {
   "codemirror_mode": {
    "name": "ipython",
    "version": 3
   },
   "file_extension": ".py",
   "mimetype": "text/x-python",
   "name": "python",
   "nbconvert_exporter": "python",
   "pygments_lexer": "ipython3",
   "version": "3.10.0"
  },
  "orig_nbformat": 4,
  "vscode": {
   "interpreter": {
    "hash": "b1708fff10be9fb692d7fda4b87bbb8793f7d6a3cb1c2c80debaadfcc2f4e575"
   }
  }
 },
 "nbformat": 4,
 "nbformat_minor": 2
}
