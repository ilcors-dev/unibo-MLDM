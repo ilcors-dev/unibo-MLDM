{
 "cells": [
  {
   "cell_type": "markdown",
   "id": "6b36148b-6777-4c64-acc6-65fdd999ad7a",
   "metadata": {},
   "source": [
    "# Luca Corsetti 0001131095"
   ]
  },
  {
   "cell_type": "code",
   "execution_count": 66,
   "id": "ec1f0d29-2848-4126-ae16-509b3bd53e59",
   "metadata": {},
   "outputs": [],
   "source": [
    "import pandas as pd\n",
    "import seaborn as sns\n",
    "import numpy as np\n",
    "import matplotlib.pyplot as plt\n",
    "from sklearn.model_selection import train_test_split\n",
    "from sklearn.tree import DecisionTreeClassifier\n",
    "from sklearn.neighbors import KNeighborsClassifier\n",
    "from sklearn.model_selection import GridSearchCV\n",
    "from sklearn.metrics import classification_report, confusion_matrix, ConfusionMatrixDisplay\n",
    "\n",
    "%matplotlib inline\n",
    "\n",
    "random_state = 777\n",
    "\n",
    "np.random.seed(random_state)"
   ]
  },
  {
   "cell_type": "markdown",
   "id": "6499acef-47b2-4055-908f-a3756c634858",
   "metadata": {},
   "source": [
    "The notebook must include appropriate comments and must operate as follows:\\\n",
    "1. Load the data and explore them, showing size, structure and histograms\n",
    "of numeric data; show the histogram of the frequencies of the class labels, contained in the “language” column . . . . . . . . . . . . . . . . . . . . . . . . . 4pt\n",
    "2. Drop the rows with NaN values, if any, show the shape of the dataset\n",
    "after this cleaning . . . . . . . . . . . . . . . . . . . . . . . . . . . . . . . . . . . . . . . . . . . . . . . . 4pt\n",
    "3. tune the hyper–parameters of Model1 with Cross Validation on the\n",
    "training set, optimize for recall_macro . . . . . . . . . . . . . . . . . . . . . . . . . . . 5pt\n",
    "4. produce a classification report for Model1 on the test set . . . . . . . . . 2pt\n",
    "5. produce the confusion matrix for Model1 on the test set . . . . . . . . . . 2pt\n",
    "6. tune the hyper–parameters of Model2 with Cross Validation on the\n",
    "training set, optimize for recall_macro . . . . . . . . . . . . . . . . . . . . . . . . . . . 5pt\n",
    "7. produce a classification report for Model2 on the test set . . . . . . . . . 1pt\n",
    "8. produce the confusion matrix for Model2 on the test set . . . . . . . . . . 1pt"
   ]
  },
  {
   "cell_type": "markdown",
   "id": "dd4e48fe-a384-428d-b2e8-225c25bdd6f1",
   "metadata": {},
   "source": [
    "### 1. Load the data and explore them, showing size, structure and histograms of numeric data; show the histogram of the frequencies of the class labels, contained in the “language” column"
   ]
  },
  {
   "cell_type": "code",
   "execution_count": 29,
   "id": "9806f4f8-85e7-4b96-b0b0-06c0a94c4a45",
   "metadata": {},
   "outputs": [
    {
     "name": "stdout",
     "output_type": "stream",
     "text": [
      "there are 329 rows and 13 columns in the read dataset\n"
     ]
    }
   ],
   "source": [
    "df = pd.read_csv('./exam2022_01_13(1).csv')\n",
    "\n",
    "print(f\"there are {df.shape[0]} rows and {df.shape[1]} columns in the read dataset\")"
   ]
  },
  {
   "cell_type": "code",
   "execution_count": 8,
   "id": "8f9bd767-3597-4094-afde-61f1c8bb42cd",
   "metadata": {},
   "outputs": [
    {
     "data": {
      "text/html": [
       "<div>\n",
       "<style scoped>\n",
       "    .dataframe tbody tr th:only-of-type {\n",
       "        vertical-align: middle;\n",
       "    }\n",
       "\n",
       "    .dataframe tbody tr th {\n",
       "        vertical-align: top;\n",
       "    }\n",
       "\n",
       "    .dataframe thead th {\n",
       "        text-align: right;\n",
       "    }\n",
       "</style>\n",
       "<table border=\"1\" class=\"dataframe\">\n",
       "  <thead>\n",
       "    <tr style=\"text-align: right;\">\n",
       "      <th></th>\n",
       "      <th>language</th>\n",
       "      <th>X1</th>\n",
       "      <th>X2</th>\n",
       "      <th>X3</th>\n",
       "      <th>X4</th>\n",
       "      <th>X5</th>\n",
       "      <th>X6</th>\n",
       "      <th>X7</th>\n",
       "      <th>X8</th>\n",
       "      <th>X9</th>\n",
       "      <th>X10</th>\n",
       "      <th>X11</th>\n",
       "      <th>X12</th>\n",
       "    </tr>\n",
       "  </thead>\n",
       "  <tbody>\n",
       "    <tr>\n",
       "      <th>0</th>\n",
       "      <td>ES</td>\n",
       "      <td>7.071476</td>\n",
       "      <td>-6.512900</td>\n",
       "      <td>7.650800</td>\n",
       "      <td>11.150783</td>\n",
       "      <td>-7.657312</td>\n",
       "      <td>12.484021</td>\n",
       "      <td>-11.709772</td>\n",
       "      <td>3.426596</td>\n",
       "      <td>1.462715</td>\n",
       "      <td>-2.812753</td>\n",
       "      <td>0.866538</td>\n",
       "      <td>-5.244274</td>\n",
       "    </tr>\n",
       "    <tr>\n",
       "      <th>1</th>\n",
       "      <td>ES</td>\n",
       "      <td>10.982967</td>\n",
       "      <td>-5.157445</td>\n",
       "      <td>3.952060</td>\n",
       "      <td>11.529381</td>\n",
       "      <td>-7.638047</td>\n",
       "      <td>12.136098</td>\n",
       "      <td>-12.036247</td>\n",
       "      <td>3.491943</td>\n",
       "      <td>0.595441</td>\n",
       "      <td>-4.508811</td>\n",
       "      <td>2.332147</td>\n",
       "      <td>-6.221857</td>\n",
       "    </tr>\n",
       "    <tr>\n",
       "      <th>2</th>\n",
       "      <td>ES</td>\n",
       "      <td>7.827108</td>\n",
       "      <td>-5.477472</td>\n",
       "      <td>7.816257</td>\n",
       "      <td>9.187592</td>\n",
       "      <td>-7.172511</td>\n",
       "      <td>11.715299</td>\n",
       "      <td>-13.847214</td>\n",
       "      <td>4.574075</td>\n",
       "      <td>-1.687559</td>\n",
       "      <td>-7.204041</td>\n",
       "      <td>-0.011847</td>\n",
       "      <td>-6.463144</td>\n",
       "    </tr>\n",
       "    <tr>\n",
       "      <th>3</th>\n",
       "      <td>ES</td>\n",
       "      <td>6.744083</td>\n",
       "      <td>-5.688920</td>\n",
       "      <td>6.546789</td>\n",
       "      <td>9.000183</td>\n",
       "      <td>-6.924963</td>\n",
       "      <td>11.710766</td>\n",
       "      <td>-12.374388</td>\n",
       "      <td>6.169879</td>\n",
       "      <td>-0.544747</td>\n",
       "      <td>-6.019237</td>\n",
       "      <td>1.358559</td>\n",
       "      <td>-6.356441</td>\n",
       "    </tr>\n",
       "    <tr>\n",
       "      <th>4</th>\n",
       "      <td>ES</td>\n",
       "      <td>5.836843</td>\n",
       "      <td>-5.326557</td>\n",
       "      <td>7.472265</td>\n",
       "      <td>8.847440</td>\n",
       "      <td>-6.773244</td>\n",
       "      <td>12.677218</td>\n",
       "      <td>-12.315061</td>\n",
       "      <td>4.416344</td>\n",
       "      <td>0.193500</td>\n",
       "      <td>-3.644812</td>\n",
       "      <td>2.151239</td>\n",
       "      <td>-6.816310</td>\n",
       "    </tr>\n",
       "  </tbody>\n",
       "</table>\n",
       "</div>"
      ],
      "text/plain": [
       "  language         X1        X2        X3         X4        X5         X6  \\\n",
       "0       ES   7.071476 -6.512900  7.650800  11.150783 -7.657312  12.484021   \n",
       "1       ES  10.982967 -5.157445  3.952060  11.529381 -7.638047  12.136098   \n",
       "2       ES   7.827108 -5.477472  7.816257   9.187592 -7.172511  11.715299   \n",
       "3       ES   6.744083 -5.688920  6.546789   9.000183 -6.924963  11.710766   \n",
       "4       ES   5.836843 -5.326557  7.472265   8.847440 -6.773244  12.677218   \n",
       "\n",
       "          X7        X8        X9       X10       X11       X12  \n",
       "0 -11.709772  3.426596  1.462715 -2.812753  0.866538 -5.244274  \n",
       "1 -12.036247  3.491943  0.595441 -4.508811  2.332147 -6.221857  \n",
       "2 -13.847214  4.574075 -1.687559 -7.204041 -0.011847 -6.463144  \n",
       "3 -12.374388  6.169879 -0.544747 -6.019237  1.358559 -6.356441  \n",
       "4 -12.315061  4.416344  0.193500 -3.644812  2.151239 -6.816310  "
      ]
     },
     "execution_count": 8,
     "metadata": {},
     "output_type": "execute_result"
    }
   ],
   "source": [
    "df.head()"
   ]
  },
  {
   "cell_type": "code",
   "execution_count": 30,
   "id": "a007dd9b-6b2b-4a92-8899-0c70ee420ae9",
   "metadata": {},
   "outputs": [
    {
     "data": {
      "text/plain": [
       "<Axes: ylabel='Frequency'>"
      ]
     },
     "execution_count": 30,
     "metadata": {},
     "output_type": "execute_result"
    },
    {
     "data": {
      "image/png": "[encoded data removed]",
      "text/plain": [
       "<Figure size 640x480 with 1 Axes>"
      ]
     },
     "metadata": {},
     "output_type": "display_data"
    }
   ],
   "source": [
    "df.plot.hist()"
   ]
  },
  {
   "cell_type": "code",
   "execution_count": 47,
   "id": "bf3bab0e-ab23-42aa-93ea-7017a4664175",
   "metadata": {},
   "outputs": [
    {
     "data": {
      "image/png": "[encoded data removed]",
      "text/plain": [
       "<Figure size 640x480 with 1 Axes>"
      ]
     },
     "metadata": {},
     "output_type": "display_data"
    },
    {
     "name": "stdout",
     "output_type": "stream",
     "text": [
      "['ES' 'FR' 'GE' 'IT' 'UK' 'US'] [ 29  30  30  30  45 165]\n"
     ]
    }
   ],
   "source": [
    "unique_languages, counts = np.unique(df.language, return_counts=True)\n",
    "\n",
    "plt.bar(unique_languages, counts, width=.7, alpha=0.8, edgecolor='black')\n",
    "\n",
    "plt.xlabel('Language')\n",
    "plt.ylabel('Frequency')\n",
    "plt.title('Histogram of Languages')\n",
    "\n",
    "plt.legend(unique_languages)\n",
    "\n",
    "plt.show()\n",
    "\n",
    "print(unique_languages, counts)"
   ]
  },
  {
   "cell_type": "markdown",
   "id": "a35cdc79-a1da-4f04-bdf1-097c0091b243",
   "metadata": {},
   "source": [
    "### 2. Drop the rows with NaN values, if any, show the shape of the dataset after this cleaning"
   ]
  },
  {
   "cell_type": "code",
   "execution_count": 48,
   "id": "43860dd4-d001-441e-a759-1b8832ed19ac",
   "metadata": {},
   "outputs": [
    {
     "name": "stdout",
     "output_type": "stream",
     "text": [
      "there were 8 NaN values that have been cleaned\n",
      "in the cleaned dataset there are now 321 samples\n"
     ]
    }
   ],
   "source": [
    "X = df.dropna()\n",
    "\n",
    "print(f\"there were {df.shape[0]-X.shape[0]} NaN values that have been cleaned\")\n",
    "print(f\"in the cleaned dataset there are now {X.shape[0]} samples\")"
   ]
  },
  {
   "cell_type": "markdown",
   "id": "9a43bf8d-68dd-4eeb-8819-7b85ac58eb16",
   "metadata": {},
   "source": [
    "### 3. tune the hyper–parameters of Model1 with Cross Validation on the training set, optimize for recall_macro"
   ]
  },
  {
   "cell_type": "markdown",
   "id": "41cdf9ca-3922-4586-8b57-30ff4ff65d7f",
   "metadata": {},
   "source": [
    "before training our classifiers, we have to split the data into tran, test datasets"
   ]
  },
  {
   "cell_type": "code",
   "execution_count": 51,
   "id": "b1b29c09-1742-4141-8a73-d108e3b3268e",
   "metadata": {},
   "outputs": [
    {
     "name": "stdout",
     "output_type": "stream",
     "text": [
      "there are 240 samples in the train set\n",
      "there are 81 samples in the test set\n"
     ]
    }
   ],
   "source": [
    "target = 'language'\n",
    "\n",
    "y = X[target]\n",
    "X = X.drop(columns=target)\n",
    "\n",
    "X_train, X_test, y_train, y_test = train_test_split(X, y)\n",
    "\n",
    "print(f\"there are {X_train.shape[0]} samples in the train set\")\n",
    "print(f\"there are {X_test.shape[0]} samples in the test set\")"
   ]
  },
  {
   "cell_type": "markdown",
   "id": "9ef9afda-6f72-402f-9acd-7e95437a2a8d",
   "metadata": {},
   "source": [
    "since we have to optimize for \"recall_macro\", let's save this fact in a variable for future reference with both classifiers"
   ]
  },
  {
   "cell_type": "code",
   "execution_count": 54,
   "id": "0f9819f5-00b2-4b31-b325-aedd6e9efe1d",
   "metadata": {},
   "outputs": [],
   "source": [
    "scoring = 'recall_macro'"
   ]
  },
  {
   "cell_type": "markdown",
   "id": "4f59a1d4-83ad-45d3-9155-2356228ff727",
   "metadata": {},
   "source": [
    "now we can proceed by classifying our first model, which we choose to be the **DecisionTreeClassifier**"
   ]
  },
  {
   "cell_type": "code",
   "execution_count": 62,
   "id": "f9f6f4be-7b2f-44b3-94e3-1a34f7cb8c2a",
   "metadata": {},
   "outputs": [],
   "source": [
    "model1 = DecisionTreeClassifier(random_state=random_state)\n",
    "\n",
    "model1_params = [{ 'max_depth': range(1, 11), 'class_weight': [None, 'balanced'], 'criterion': ['gini', 'entropy'] }]\n",
    "\n",
    "model1_cv = GridSearchCV(model1, param_grid=model1_params, cv=5, n_jobs=2, scoring=scoring)\n",
    "\n",
    "model1_results = model1_cv.fit(X_train, y_train)"
   ]
  },
  {
   "cell_type": "markdown",
   "id": "09b95a8a-3c9c-48fe-9bfb-36ee3f46d31a",
   "metadata": {},
   "source": [
    "### 4. produce a classification report for Model1 on the test set"
   ]
  },
  {
   "cell_type": "code",
   "execution_count": 103,
   "id": "3ae6d709-01fe-4434-8234-91db2223f5bc",
   "metadata": {},
   "outputs": [
    {
     "data": {
      "text/html": [
       "<div>\n",
       "<style scoped>\n",
       "    .dataframe tbody tr th:only-of-type {\n",
       "        vertical-align: middle;\n",
       "    }\n",
       "\n",
       "    .dataframe tbody tr th {\n",
       "        vertical-align: top;\n",
       "    }\n",
       "\n",
       "    .dataframe thead th {\n",
       "        text-align: right;\n",
       "    }\n",
       "</style>\n",
       "<table border=\"1\" class=\"dataframe\">\n",
       "  <thead>\n",
       "    <tr style=\"text-align: right;\">\n",
       "      <th></th>\n",
       "      <th>ES</th>\n",
       "      <th>FR</th>\n",
       "      <th>GE</th>\n",
       "      <th>IT</th>\n",
       "      <th>UK</th>\n",
       "      <th>US</th>\n",
       "      <th>accuracy</th>\n",
       "      <th>macro avg</th>\n",
       "      <th>weighted avg</th>\n",
       "    </tr>\n",
       "  </thead>\n",
       "  <tbody>\n",
       "    <tr>\n",
       "      <th>precision</th>\n",
       "      <td>0.857143</td>\n",
       "      <td>0.642857</td>\n",
       "      <td>0.500000</td>\n",
       "      <td>0.428571</td>\n",
       "      <td>0.428571</td>\n",
       "      <td>0.789474</td>\n",
       "      <td>0.679012</td>\n",
       "      <td>0.607769</td>\n",
       "      <td>0.684489</td>\n",
       "    </tr>\n",
       "    <tr>\n",
       "      <th>recall</th>\n",
       "      <td>0.857143</td>\n",
       "      <td>0.900000</td>\n",
       "      <td>0.666667</td>\n",
       "      <td>0.500000</td>\n",
       "      <td>0.300000</td>\n",
       "      <td>0.714286</td>\n",
       "      <td>0.679012</td>\n",
       "      <td>0.656349</td>\n",
       "      <td>0.679012</td>\n",
       "    </tr>\n",
       "    <tr>\n",
       "      <th>f1-score</th>\n",
       "      <td>0.857143</td>\n",
       "      <td>0.750000</td>\n",
       "      <td>0.571429</td>\n",
       "      <td>0.461538</td>\n",
       "      <td>0.352941</td>\n",
       "      <td>0.750000</td>\n",
       "      <td>0.679012</td>\n",
       "      <td>0.623842</td>\n",
       "      <td>0.675645</td>\n",
       "    </tr>\n",
       "    <tr>\n",
       "      <th>support</th>\n",
       "      <td>7.000000</td>\n",
       "      <td>10.000000</td>\n",
       "      <td>6.000000</td>\n",
       "      <td>6.000000</td>\n",
       "      <td>10.000000</td>\n",
       "      <td>42.000000</td>\n",
       "      <td>0.679012</td>\n",
       "      <td>81.000000</td>\n",
       "      <td>81.000000</td>\n",
       "    </tr>\n",
       "  </tbody>\n",
       "</table>\n",
       "</div>"
      ],
      "text/plain": [
       "                 ES         FR        GE        IT         UK         US  \\\n",
       "precision  0.857143   0.642857  0.500000  0.428571   0.428571   0.789474   \n",
       "recall     0.857143   0.900000  0.666667  0.500000   0.300000   0.714286   \n",
       "f1-score   0.857143   0.750000  0.571429  0.461538   0.352941   0.750000   \n",
       "support    7.000000  10.000000  6.000000  6.000000  10.000000  42.000000   \n",
       "\n",
       "           accuracy  macro avg  weighted avg  \n",
       "precision  0.679012   0.607769      0.684489  \n",
       "recall     0.679012   0.656349      0.679012  \n",
       "f1-score   0.679012   0.623842      0.675645  \n",
       "support    0.679012  81.000000     81.000000  "
      ]
     },
     "execution_count": 103,
     "metadata": {},
     "output_type": "execute_result"
    }
   ],
   "source": [
    "model1_y_pred = model1_results.best_estimator_.predict(X_test)\n",
    "\n",
    "model1_classification_report = classification_report(\n",
    "    y_test,\n",
    "    model1_y_pred,\n",
    "    output_dict=True,\n",
    "    labels=model1_results.best_estimator_.classes_\n",
    ")\n",
    "\n",
    "model1_cr_df = pd.DataFrame(model1_classification_report)\n",
    "\n",
    "model1_cr_df"
   ]
  },
  {
   "cell_type": "markdown",
   "id": "c244c940-4476-425c-9a27-207b21fbbdcb",
   "metadata": {},
   "source": [
    "### 5. produce the confusion matrix for Model1 on the test set"
   ]
  },
  {
   "cell_type": "code",
   "execution_count": 92,
   "id": "9c5c2c1b-3357-453f-86d4-7a2db4546792",
   "metadata": {},
   "outputs": [
    {
     "data": {
      "text/plain": [
       "<sklearn.metrics._plot.confusion_matrix.ConfusionMatrixDisplay at 0x16164dfd0>"
      ]
     },
     "execution_count": 92,
     "metadata": {},
     "output_type": "execute_result"
    },
    {
     "data": {
      "image/png": "[encoded data removed]",
      "text/plain": [
       "<Figure size 640x480 with 2 Axes>"
      ]
     },
     "metadata": {},
     "output_type": "display_data"
    }
   ],
   "source": [
    "model1_confusion_matrix = confusion_matrix(y_test, model1_y_pred)\n",
    "\n",
    "cmd = ConfusionMatrixDisplay(model1_confusion_matrix, display_labels=model1_results.best_estimator_.classes_)\n",
    "cmd.plot()"
   ]
  },
  {
   "cell_type": "markdown",
   "id": "0df29a40-c666-4cf2-a160-7730394dbe50",
   "metadata": {},
   "source": [
    "we can see that our model is quite good at predicting **US** labels, we expected this behavior as the **US** is the most frequent language in the original dataset"
   ]
  },
  {
   "cell_type": "markdown",
   "id": "587a1a07-2a7d-4062-b9d4-d23268da5c13",
   "metadata": {},
   "source": [
    "### 6. tune the hyper–parameters of Model2 with Cross Validation on the training set, optimize for recall_macro"
   ]
  },
  {
   "cell_type": "markdown",
   "id": "55665248-19f8-41c7-8adb-3f90bc8efd9a",
   "metadata": {},
   "source": [
    "we will now do the same for the other model and compare the two results. We chose *KNeighborsClassifier* to do the job."
   ]
  },
  {
   "cell_type": "code",
   "execution_count": 94,
   "id": "9213b85b-8752-4b7d-a73d-e1cb884f0245",
   "metadata": {},
   "outputs": [],
   "source": [
    "model2 = KNeighborsClassifier()\n",
    "\n",
    "model2_params = [{ 'n_neighbors': range(1, 20) }]\n",
    "\n",
    "model2_cv = GridSearchCV(model2, param_grid=model2_params, cv=5, n_jobs=2, scoring=scoring)\n",
    "\n",
    "model2_results = model2_cv.fit(X_train, y_train)"
   ]
  },
  {
   "cell_type": "markdown",
   "id": "cb467b9a-967c-4f81-a021-f60853263868",
   "metadata": {},
   "source": [
    "### 7. produce a classification report for Model2 on the test set"
   ]
  },
  {
   "cell_type": "code",
   "execution_count": 101,
   "id": "0e2b5003-f245-4643-b3a3-588e0fb1755f",
   "metadata": {},
   "outputs": [
    {
     "data": {
      "text/html": [
       "<div>\n",
       "<style scoped>\n",
       "    .dataframe tbody tr th:only-of-type {\n",
       "        vertical-align: middle;\n",
       "    }\n",
       "\n",
       "    .dataframe tbody tr th {\n",
       "        vertical-align: top;\n",
       "    }\n",
       "\n",
       "    .dataframe thead th {\n",
       "        text-align: right;\n",
       "    }\n",
       "</style>\n",
       "<table border=\"1\" class=\"dataframe\">\n",
       "  <thead>\n",
       "    <tr style=\"text-align: right;\">\n",
       "      <th></th>\n",
       "      <th>ES</th>\n",
       "      <th>FR</th>\n",
       "      <th>GE</th>\n",
       "      <th>IT</th>\n",
       "      <th>UK</th>\n",
       "      <th>US</th>\n",
       "      <th>accuracy</th>\n",
       "      <th>macro avg</th>\n",
       "      <th>weighted avg</th>\n",
       "    </tr>\n",
       "  </thead>\n",
       "  <tbody>\n",
       "    <tr>\n",
       "      <th>precision</th>\n",
       "      <td>0.636364</td>\n",
       "      <td>0.875000</td>\n",
       "      <td>0.428571</td>\n",
       "      <td>1.000000</td>\n",
       "      <td>0.500000</td>\n",
       "      <td>0.864865</td>\n",
       "      <td>0.740741</td>\n",
       "      <td>0.717467</td>\n",
       "      <td>0.779016</td>\n",
       "    </tr>\n",
       "    <tr>\n",
       "      <th>recall</th>\n",
       "      <td>1.000000</td>\n",
       "      <td>0.700000</td>\n",
       "      <td>0.500000</td>\n",
       "      <td>0.666667</td>\n",
       "      <td>0.700000</td>\n",
       "      <td>0.761905</td>\n",
       "      <td>0.740741</td>\n",
       "      <td>0.721429</td>\n",
       "      <td>0.740741</td>\n",
       "    </tr>\n",
       "    <tr>\n",
       "      <th>f1-score</th>\n",
       "      <td>0.777778</td>\n",
       "      <td>0.777778</td>\n",
       "      <td>0.461538</td>\n",
       "      <td>0.800000</td>\n",
       "      <td>0.583333</td>\n",
       "      <td>0.810127</td>\n",
       "      <td>0.740741</td>\n",
       "      <td>0.701759</td>\n",
       "      <td>0.748767</td>\n",
       "    </tr>\n",
       "    <tr>\n",
       "      <th>support</th>\n",
       "      <td>7.000000</td>\n",
       "      <td>10.000000</td>\n",
       "      <td>6.000000</td>\n",
       "      <td>6.000000</td>\n",
       "      <td>10.000000</td>\n",
       "      <td>42.000000</td>\n",
       "      <td>0.740741</td>\n",
       "      <td>81.000000</td>\n",
       "      <td>81.000000</td>\n",
       "    </tr>\n",
       "  </tbody>\n",
       "</table>\n",
       "</div>"
      ],
      "text/plain": [
       "                 ES         FR        GE        IT         UK         US  \\\n",
       "precision  0.636364   0.875000  0.428571  1.000000   0.500000   0.864865   \n",
       "recall     1.000000   0.700000  0.500000  0.666667   0.700000   0.761905   \n",
       "f1-score   0.777778   0.777778  0.461538  0.800000   0.583333   0.810127   \n",
       "support    7.000000  10.000000  6.000000  6.000000  10.000000  42.000000   \n",
       "\n",
       "           accuracy  macro avg  weighted avg  \n",
       "precision  0.740741   0.717467      0.779016  \n",
       "recall     0.740741   0.721429      0.740741  \n",
       "f1-score   0.740741   0.701759      0.748767  \n",
       "support    0.740741  81.000000     81.000000  "
      ]
     },
     "execution_count": 101,
     "metadata": {},
     "output_type": "execute_result"
    }
   ],
   "source": [
    "model2_y_pred = model2_results.best_estimator_.predict(X_test)\n",
    "\n",
    "model2_classification_report = classification_report(\n",
    "    y_test,\n",
    "    model2_y_pred,\n",
    "    output_dict=True,\n",
    "    labels=model1_results.best_estimator_.classes_\n",
    ")\n",
    "\n",
    "model2_cr_df = pd.DataFrame(model2_classification_report)\n",
    "\n",
    "model2_cr_df"
   ]
  },
  {
   "cell_type": "markdown",
   "id": "9949d2c2-0da4-4c12-9a7b-e241a2c1a214",
   "metadata": {},
   "source": [
    "### 8. produce the confusion matrix for Model2 on the test set"
   ]
  },
  {
   "cell_type": "code",
   "execution_count": 99,
   "id": "9bc98dd9-dc9b-44c9-9480-3d07efd88bf3",
   "metadata": {},
   "outputs": [
    {
     "data": {
      "text/plain": [
       "<sklearn.metrics._plot.confusion_matrix.ConfusionMatrixDisplay at 0x163c6d8c0>"
      ]
     },
     "execution_count": 99,
     "metadata": {},
     "output_type": "execute_result"
    },
    {
     "data": {
      "image/png": "[encoded data removed]",
      "text/plain": [
       "<Figure size 640x480 with 2 Axes>"
      ]
     },
     "metadata": {},
     "output_type": "display_data"
    }
   ],
   "source": [
    "model2_confusion_matrix = confusion_matrix(y_test, model2_y_pred)\n",
    "\n",
    "cmd = ConfusionMatrixDisplay(model2_confusion_matrix, display_labels=model2_results.best_estimator_.classes_)\n",
    "cmd.plot()"
   ]
  },
  {
   "cell_type": "markdown",
   "id": "e520d8d5-166c-496a-958e-623057f9a2f8",
   "metadata": {},
   "source": [
    "### my final thoughts"
   ]
  },
  {
   "cell_type": "markdown",
   "id": "73852545-bd9a-4559-aa40-172d0ab3ea9f",
   "metadata": {},
   "source": [
    "it seems that the K"
   ]
  }
 ],
 "metadata": {
  "kernelspec": {
   "display_name": "Python 3 (ipykernel)",
   "language": "python",
   "name": "python3"
  },
  "language_info": {
   "codemirror_mode": {
    "name": "ipython",
    "version": 3
   },
   "file_extension": ".py",
   "mimetype": "text/x-python",
   "name": "python",
   "nbconvert_exporter": "python",
   "pygments_lexer": "ipython3",
   "version": "3.13.1"
  }
 },
 "nbformat": 4,
 "nbformat_minor": 5
}
