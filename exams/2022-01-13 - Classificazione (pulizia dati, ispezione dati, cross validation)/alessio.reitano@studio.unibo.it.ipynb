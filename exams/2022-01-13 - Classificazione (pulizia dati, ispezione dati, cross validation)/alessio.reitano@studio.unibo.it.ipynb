{
 "cells": [
  {
   "cell_type": "markdown",
   "id": "e7d4bff6",
   "metadata": {},
   "source": [
    "# Alessio Reitano - Matricola 0001005384"
   ]
  },
  {
   "cell_type": "code",
   "execution_count": 21,
   "id": "85b68b7c",
   "metadata": {},
   "outputs": [],
   "source": [
    "#Imports\n",
    "import pandas as pd\n",
    "import numpy as np\n",
    "import matplotlib.pyplot as plt\n",
    "from sklearn.model_selection import train_test_split\n",
    "from sklearn.metrics import classification_report\n",
    "from sklearn.tree import DecisionTreeClassifier\n",
    "from sklearn.model_selection import cross_val_score\n",
    "from sklearn.metrics import accuracy_score\n",
    "from sklearn.metrics import confusion_matrix\n",
    "from sklearn.neighbors import KNeighborsClassifier\n",
    "\n",
    "#Variables\n",
    "url = 'exam2022_01_13(1).csv'\n",
    "sep =','\n",
    "random_state = 42\n",
    "target = 'language'\n",
    "\n",
    "#Directives\n",
    "%matplotlib inline\n",
    "np.random.seed(random_state)"
   ]
  },
  {
   "cell_type": "markdown",
   "id": "2e194c4a",
   "metadata": {},
   "source": [
    "### 1. Load the data and explore them, showing size, structure and histograms of numeric data; show the histogram of the frequencies of the class labels, contained in the “language” column"
   ]
  },
  {
   "cell_type": "code",
   "execution_count": 22,
   "id": "81d984b7",
   "metadata": {},
   "outputs": [
    {
     "name": "stdout",
     "output_type": "stream",
     "text": [
      "The size is: (329, 13)\n"
     ]
    }
   ],
   "source": [
    "#Load the data\n",
    "df = pd.read_csv(url, sep = sep)\n",
    "#Show the size\n",
    "print (\"The size is: {}\".format(df.shape))\n"
   ]
  },
  {
   "cell_type": "code",
   "execution_count": 23,
   "id": "06656abf",
   "metadata": {},
   "outputs": [
    {
     "data": {
      "text/html": [
       "<div>\n",
       "<style scoped>\n",
       "    .dataframe tbody tr th:only-of-type {\n",
       "        vertical-align: middle;\n",
       "    }\n",
       "\n",
       "    .dataframe tbody tr th {\n",
       "        vertical-align: top;\n",
       "    }\n",
       "\n",
       "    .dataframe thead th {\n",
       "        text-align: right;\n",
       "    }\n",
       "</style>\n",
       "<table border=\"1\" class=\"dataframe\">\n",
       "  <thead>\n",
       "    <tr style=\"text-align: right;\">\n",
       "      <th></th>\n",
       "      <th>X1</th>\n",
       "      <th>X2</th>\n",
       "      <th>X3</th>\n",
       "      <th>X4</th>\n",
       "      <th>X5</th>\n",
       "      <th>X6</th>\n",
       "      <th>X7</th>\n",
       "      <th>X8</th>\n",
       "      <th>X9</th>\n",
       "      <th>X10</th>\n",
       "      <th>X11</th>\n",
       "      <th>X12</th>\n",
       "    </tr>\n",
       "  </thead>\n",
       "  <tbody>\n",
       "    <tr>\n",
       "      <th>count</th>\n",
       "      <td>329.000000</td>\n",
       "      <td>329.000000</td>\n",
       "      <td>329.000000</td>\n",
       "      <td>329.000000</td>\n",
       "      <td>329.000000</td>\n",
       "      <td>329.000000</td>\n",
       "      <td>329.000000</td>\n",
       "      <td>329.000000</td>\n",
       "      <td>329.000000</td>\n",
       "      <td>321.000000</td>\n",
       "      <td>329.000000</td>\n",
       "      <td>329.000000</td>\n",
       "    </tr>\n",
       "    <tr>\n",
       "      <th>mean</th>\n",
       "      <td>5.645227</td>\n",
       "      <td>-4.270814</td>\n",
       "      <td>2.635319</td>\n",
       "      <td>7.200207</td>\n",
       "      <td>-5.648733</td>\n",
       "      <td>9.810236</td>\n",
       "      <td>-9.408053</td>\n",
       "      <td>5.117328</td>\n",
       "      <td>-1.229432</td>\n",
       "      <td>-2.411215</td>\n",
       "      <td>2.430833</td>\n",
       "      <td>-3.980415</td>\n",
       "    </tr>\n",
       "    <tr>\n",
       "      <th>std</th>\n",
       "      <td>5.105302</td>\n",
       "      <td>3.514350</td>\n",
       "      <td>3.635323</td>\n",
       "      <td>4.310095</td>\n",
       "      <td>4.596180</td>\n",
       "      <td>3.624654</td>\n",
       "      <td>2.484117</td>\n",
       "      <td>2.650608</td>\n",
       "      <td>3.634849</td>\n",
       "      <td>5.027840</td>\n",
       "      <td>3.478467</td>\n",
       "      <td>2.985879</td>\n",
       "    </tr>\n",
       "    <tr>\n",
       "      <th>min</th>\n",
       "      <td>-6.067831</td>\n",
       "      <td>-14.972962</td>\n",
       "      <td>-6.186583</td>\n",
       "      <td>-8.844231</td>\n",
       "      <td>-15.656596</td>\n",
       "      <td>-3.528964</td>\n",
       "      <td>-15.365665</td>\n",
       "      <td>-2.873862</td>\n",
       "      <td>-15.510974</td>\n",
       "      <td>-11.429178</td>\n",
       "      <td>-13.664104</td>\n",
       "      <td>-13.724103</td>\n",
       "    </tr>\n",
       "    <tr>\n",
       "      <th>25%</th>\n",
       "      <td>2.065603</td>\n",
       "      <td>-6.515764</td>\n",
       "      <td>0.137042</td>\n",
       "      <td>4.700874</td>\n",
       "      <td>-8.417684</td>\n",
       "      <td>8.643563</td>\n",
       "      <td>-11.120860</td>\n",
       "      <td>3.482167</td>\n",
       "      <td>-1.749082</td>\n",
       "      <td>-5.090180</td>\n",
       "      <td>1.197789</td>\n",
       "      <td>-5.941409</td>\n",
       "    </tr>\n",
       "    <tr>\n",
       "      <th>50%</th>\n",
       "      <td>4.954206</td>\n",
       "      <td>-4.252512</td>\n",
       "      <td>2.029268</td>\n",
       "      <td>7.804680</td>\n",
       "      <td>-6.786670</td>\n",
       "      <td>10.379330</td>\n",
       "      <td>-9.710399</td>\n",
       "      <td>4.843103</td>\n",
       "      <td>-0.389970</td>\n",
       "      <td>-3.327718</td>\n",
       "      <td>3.169703</td>\n",
       "      <td>-4.374334</td>\n",
       "    </tr>\n",
       "    <tr>\n",
       "      <th>75%</th>\n",
       "      <td>9.793648</td>\n",
       "      <td>-1.560250</td>\n",
       "      <td>4.178026</td>\n",
       "      <td>10.129165</td>\n",
       "      <td>-4.463308</td>\n",
       "      <td>11.784360</td>\n",
       "      <td>-7.989370</td>\n",
       "      <td>6.588931</td>\n",
       "      <td>0.779993</td>\n",
       "      <td>-1.512083</td>\n",
       "      <td>4.673452</td>\n",
       "      <td>-2.191658</td>\n",
       "    </tr>\n",
       "    <tr>\n",
       "      <th>max</th>\n",
       "      <td>17.749851</td>\n",
       "      <td>3.570765</td>\n",
       "      <td>17.066487</td>\n",
       "      <td>16.178942</td>\n",
       "      <td>7.912809</td>\n",
       "      <td>21.445837</td>\n",
       "      <td>-0.424033</td>\n",
       "      <td>13.846083</td>\n",
       "      <td>4.789989</td>\n",
       "      <td>16.326455</td>\n",
       "      <td>9.166066</td>\n",
       "      <td>5.259430</td>\n",
       "    </tr>\n",
       "  </tbody>\n",
       "</table>\n",
       "</div>"
      ],
      "text/plain": [
       "               X1          X2          X3          X4          X5          X6  \\\n",
       "count  329.000000  329.000000  329.000000  329.000000  329.000000  329.000000   \n",
       "mean     5.645227   -4.270814    2.635319    7.200207   -5.648733    9.810236   \n",
       "std      5.105302    3.514350    3.635323    4.310095    4.596180    3.624654   \n",
       "min     -6.067831  -14.972962   -6.186583   -8.844231  -15.656596   -3.528964   \n",
       "25%      2.065603   -6.515764    0.137042    4.700874   -8.417684    8.643563   \n",
       "50%      4.954206   -4.252512    2.029268    7.804680   -6.786670   10.379330   \n",
       "75%      9.793648   -1.560250    4.178026   10.129165   -4.463308   11.784360   \n",
       "max     17.749851    3.570765   17.066487   16.178942    7.912809   21.445837   \n",
       "\n",
       "               X7          X8          X9         X10         X11         X12  \n",
       "count  329.000000  329.000000  329.000000  321.000000  329.000000  329.000000  \n",
       "mean    -9.408053    5.117328   -1.229432   -2.411215    2.430833   -3.980415  \n",
       "std      2.484117    2.650608    3.634849    5.027840    3.478467    2.985879  \n",
       "min    -15.365665   -2.873862  -15.510974  -11.429178  -13.664104  -13.724103  \n",
       "25%    -11.120860    3.482167   -1.749082   -5.090180    1.197789   -5.941409  \n",
       "50%     -9.710399    4.843103   -0.389970   -3.327718    3.169703   -4.374334  \n",
       "75%     -7.989370    6.588931    0.779993   -1.512083    4.673452   -2.191658  \n",
       "max     -0.424033   13.846083    4.789989   16.326455    9.166066    5.259430  "
      ]
     },
     "execution_count": 23,
     "metadata": {},
     "output_type": "execute_result"
    }
   ],
   "source": [
    "#Show the structure of DataFrame\n",
    "df.describe()"
   ]
  },
  {
   "cell_type": "code",
   "execution_count": 24,
   "id": "845a4c0c",
   "metadata": {},
   "outputs": [
    {
     "data": {
      "image/png": "[encoded data removed]",
      "text/plain": [
       "<Figure size 1080x1080 with 12 Axes>"
      ]
     },
     "metadata": {
      "needs_background": "light"
     },
     "output_type": "display_data"
    }
   ],
   "source": [
    "#Show the histogram\n",
    "pd.DataFrame.hist(df, figsize= [15,15]);"
   ]
  },
  {
   "cell_type": "code",
   "execution_count": 25,
   "id": "b95c2d4c",
   "metadata": {},
   "outputs": [
    {
     "data": {
      "image/png": "[encoded data removed]",
      "text/plain": [
       "<Figure size 432x288 with 1 Axes>"
      ]
     },
     "metadata": {
      "needs_background": "light"
     },
     "output_type": "display_data"
    }
   ],
   "source": [
    "#Show the histogram\n",
    "plt.hist(df.language)\n",
    "plt.show()"
   ]
  },
  {
   "cell_type": "markdown",
   "id": "9b909635",
   "metadata": {},
   "source": [
    "### 2. Drop the rows with NaN values, if any, show the shape of the dataset after this cleaning"
   ]
  },
  {
   "cell_type": "code",
   "execution_count": 26,
   "id": "1d37648c",
   "metadata": {},
   "outputs": [
    {
     "name": "stdout",
     "output_type": "stream",
     "text": [
      "The rows after cleaning are: 321\n"
     ]
    }
   ],
   "source": [
    "#Drop rows with null values\n",
    "df = df.dropna()\n",
    "print (\"The rows after cleaning are: {}\".format(df.shape[0]))"
   ]
  },
  {
   "cell_type": "markdown",
   "id": "78cc0a59",
   "metadata": {},
   "source": [
    "### 3. Tune the hyper–parameters of Model1 with Cross Validation on the training set, optimize for recall_macro"
   ]
  },
  {
   "cell_type": "code",
   "execution_count": 27,
   "id": "a93fbc90",
   "metadata": {},
   "outputs": [],
   "source": [
    "#Decide as Model1 DecisionTreeClassifier\n",
    "X = df.drop(columns = [target])\n",
    "y = df[target]"
   ]
  },
  {
   "cell_type": "code",
   "execution_count": 28,
   "id": "ef1d4e03",
   "metadata": {},
   "outputs": [
    {
     "name": "stdout",
     "output_type": "stream",
     "text": [
      "There are 240 samples in the training dataset\n",
      "There are 81 samples in the testing dataset\n",
      "Each samples has 12 features\n"
     ]
    }
   ],
   "source": [
    "#Split X and y in train and test\n",
    "Xtrain, Xtest, ytrain, ytest = train_test_split(X,y,random_state=random_state)\n",
    "print (\"There are {} samples in the training dataset\".format(Xtrain.shape[0]))\n",
    "print (\"There are {} samples in the testing dataset\".format(Xtest.shape[0]))\n",
    "print (\"Each samples has {} features\".format(Xtrain.shape[1]))"
   ]
  },
  {
   "cell_type": "code",
   "execution_count": 29,
   "id": "4e508e0a",
   "metadata": {},
   "outputs": [],
   "source": [
    "#Create the model1\n",
    "model1 = DecisionTreeClassifier(criterion='entropy',random_state = random_state)\n",
    "#Fit the classifier\n",
    "model1.fit(Xtrain, ytrain)\n",
    "param = range(1, model1.tree_.max_depth+1)"
   ]
  },
  {
   "cell_type": "code",
   "execution_count": 40,
   "id": "785df4c2",
   "metadata": {},
   "outputs": [
    {
     "name": "stdout",
     "output_type": "stream",
     "text": [
      "[0.16666666666666666, 0.34074879227053134, 0.43878881987577645, 0.5343650793650794, 0.5680607315389923, 0.5140527950310558, 0.533616287094548, 0.5462750172532781, 0.5514354727398205, 0.5552035886818495]\n"
     ]
    }
   ],
   "source": [
    "scores = []\n",
    "\n",
    "for par in param :\n",
    "    model1 = DecisionTreeClassifier(criterion = 'entropy', max_depth = par, random_state = random_state)\n",
    "    score = cross_val_score(model1, Xtrain, ytrain, scoring = 'recall_macro', cv=5)\n",
    "    scores.append(np.mean(score))\n",
    "    #scores.append(sum(score) / len(score))\n",
    "print (scores)\n"
   ]
  },
  {
   "cell_type": "markdown",
   "id": "d59996c4",
   "metadata": {},
   "source": [
    "### 4. produce a classification report for Model1 on the test set"
   ]
  },
  {
   "cell_type": "code",
   "execution_count": 31,
   "id": "40bbdfc8",
   "metadata": {},
   "outputs": [
    {
     "name": "stdout",
     "output_type": "stream",
     "text": [
      "The accuracy on test set tuned with cross_validation with Model1 is 92.59% with depth 5\n"
     ]
    }
   ],
   "source": [
    "too_par = param[np.argmax(scores)]                          #prende l'indice il risultato migliore , best score\n",
    "model1 = DecisionTreeClassifier(max_depth = too_par, criterion = 'entropy',random_state=random_state)\n",
    "model1.fit(Xtest,ytest)\n",
    "ytest_model = model1.predict(Xtest)\n",
    "#Calculate the accuracy\n",
    "accuracy = accuracy_score(ytest,ytest_model)*100\n",
    "print(\"The accuracy on test set tuned with cross_validation with Model1 is {:.2f}% with depth {}\".format(accuracy,too_par))"
   ]
  },
  {
   "cell_type": "code",
   "execution_count": 32,
   "id": "7b42e08d",
   "metadata": {},
   "outputs": [
    {
     "name": "stdout",
     "output_type": "stream",
     "text": [
      "              precision    recall  f1-score   support\n",
      "\n",
      "          ES       1.00      1.00      1.00         8\n",
      "          FR       0.88      1.00      0.93         7\n",
      "          GE       1.00      1.00      1.00         9\n",
      "          IT       0.73      1.00      0.85        11\n",
      "          UK       0.80      0.67      0.73         6\n",
      "          US       1.00      0.90      0.95        40\n",
      "\n",
      "    accuracy                           0.93        81\n",
      "   macro avg       0.90      0.93      0.91        81\n",
      "weighted avg       0.94      0.93      0.93        81\n",
      "\n"
     ]
    }
   ],
   "source": [
    "print (classification_report(ytest,ytest_model))"
   ]
  },
  {
   "cell_type": "markdown",
   "id": "663f9996",
   "metadata": {},
   "source": [
    "### 5. produce the confusion matrix for Model1 on the test set"
   ]
  },
  {
   "cell_type": "code",
   "execution_count": 33,
   "id": "986ea88c",
   "metadata": {},
   "outputs": [
    {
     "data": {
      "text/plain": [
       "array([[ 8,  0,  0,  0,  0,  0],\n",
       "       [ 0,  7,  0,  0,  0,  0],\n",
       "       [ 0,  0,  9,  0,  0,  0],\n",
       "       [ 0,  0,  0, 11,  0,  0],\n",
       "       [ 0,  0,  0,  2,  4,  0],\n",
       "       [ 0,  1,  0,  2,  1, 36]], dtype=int64)"
      ]
     },
     "execution_count": 33,
     "metadata": {},
     "output_type": "execute_result"
    }
   ],
   "source": [
    "confusion_matrix(ytest,ytest_model)"
   ]
  },
  {
   "cell_type": "markdown",
   "id": "766e15e7",
   "metadata": {},
   "source": [
    "### 6. tune the hyper–parameters of Model2 with Cross Validation on the training set, optimize for recall_macro"
   ]
  },
  {
   "cell_type": "code",
   "execution_count": 34,
   "id": "e4933902",
   "metadata": {},
   "outputs": [],
   "source": [
    "#Decide as Model2\n",
    "model2 = KNeighborsClassifier()\n",
    "param2 = [1, 2, 3, 4, 5, 6, 7, 8, 9, 10]"
   ]
  },
  {
   "cell_type": "code",
   "execution_count": 35,
   "id": "3301e604",
   "metadata": {},
   "outputs": [
    {
     "name": "stdout",
     "output_type": "stream",
     "text": [
      "[0.7903260869565217, 0.7532367149758454, 0.7618926846100759, 0.7510990338164251, 0.7236197377501725, 0.7337405106970324, 0.673719806763285, 0.6430641821946169, 0.6301293995859213, 0.6206452726017944]\n"
     ]
    }
   ],
   "source": [
    "scores2 = []\n",
    "for i in param2 :\n",
    "    model2 = KNeighborsClassifier(n_neighbors = i, metric = 'euclidean')\n",
    "    score2 = cross_val_score(model2, Xtrain, ytrain, scoring = 'recall_macro', cv=5)\n",
    "    scores2.append(np.mean(score2))\n",
    "print (scores2)"
   ]
  },
  {
   "cell_type": "markdown",
   "id": "2df27e09",
   "metadata": {},
   "source": [
    "### 7. produce a classification report for Model2 on the test set"
   ]
  },
  {
   "cell_type": "code",
   "execution_count": 36,
   "id": "f9aa7f73",
   "metadata": {},
   "outputs": [
    {
     "name": "stdout",
     "output_type": "stream",
     "text": [
      "The accuracy on test set tuned with cross_validation with Model2 is 100.00% with depth 1\n"
     ]
    }
   ],
   "source": [
    "too_par = param[np.argmax(scores2)]\n",
    "model2 = KNeighborsClassifier(n_neighbors = too_par, metric = 'euclidean')\n",
    "model2.fit(Xtest,ytest)\n",
    "ytest_model = model2.predict(Xtest)\n",
    "accuracy = accuracy_score(ytest,ytest_model)*100\n",
    "print(\"The accuracy on test set tuned with cross_validation with Model2 is {:.2f}% with depth {}\".format(accuracy,too_par))"
   ]
  },
  {
   "cell_type": "code",
   "execution_count": 37,
   "id": "3b508972",
   "metadata": {},
   "outputs": [
    {
     "name": "stdout",
     "output_type": "stream",
     "text": [
      "              precision    recall  f1-score   support\n",
      "\n",
      "          ES       1.00      1.00      1.00         8\n",
      "          FR       1.00      1.00      1.00         7\n",
      "          GE       1.00      1.00      1.00         9\n",
      "          IT       1.00      1.00      1.00        11\n",
      "          UK       1.00      1.00      1.00         6\n",
      "          US       1.00      1.00      1.00        40\n",
      "\n",
      "    accuracy                           1.00        81\n",
      "   macro avg       1.00      1.00      1.00        81\n",
      "weighted avg       1.00      1.00      1.00        81\n",
      "\n"
     ]
    }
   ],
   "source": [
    "print (classification_report(ytest,ytest_model))"
   ]
  },
  {
   "cell_type": "markdown",
   "id": "313c750e",
   "metadata": {},
   "source": [
    "### 8. produce the confusion matrix for Model2 on the test set"
   ]
  },
  {
   "cell_type": "code",
   "execution_count": 38,
   "id": "53f5701a",
   "metadata": {
    "scrolled": true
   },
   "outputs": [
    {
     "data": {
      "text/plain": [
       "array([[ 8,  0,  0,  0,  0,  0],\n",
       "       [ 0,  7,  0,  0,  0,  0],\n",
       "       [ 0,  0,  9,  0,  0,  0],\n",
       "       [ 0,  0,  0, 11,  0,  0],\n",
       "       [ 0,  0,  0,  0,  6,  0],\n",
       "       [ 0,  0,  0,  0,  0, 40]], dtype=int64)"
      ]
     },
     "execution_count": 38,
     "metadata": {},
     "output_type": "execute_result"
    }
   ],
   "source": [
    "confusion_matrix(ytest,ytest_model)"
   ]
  },
  {
   "cell_type": "code",
   "execution_count": null,
   "id": "fc2936d9",
   "metadata": {},
   "outputs": [],
   "source": []
  }
 ],
 "metadata": {
  "kernelspec": {
   "display_name": "Python 3",
   "language": "python",
   "name": "python3"
  },
  "language_info": {
   "codemirror_mode": {
    "name": "ipython",
    "version": 3
   },
   "file_extension": ".py",
   "mimetype": "text/x-python",
   "name": "python",
   "nbconvert_exporter": "python",
   "pygments_lexer": "ipython3",
   "version": "3.10.0 (tags/v3.10.0:b494f59, Oct  4 2021, 19:00:18) [MSC v.1929 64 bit (AMD64)]"
  },
  "vscode": {
   "interpreter": {
    "hash": "b1708fff10be9fb692d7fda4b87bbb8793f7d6a3cb1c2c80debaadfcc2f4e575"
   }
  }
 },
 "nbformat": 4,
 "nbformat_minor": 5
}
