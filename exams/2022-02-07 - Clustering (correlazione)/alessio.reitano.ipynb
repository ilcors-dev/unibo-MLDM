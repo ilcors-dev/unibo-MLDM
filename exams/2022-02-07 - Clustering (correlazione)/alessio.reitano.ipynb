{
 "cells": [
  {
   "cell_type": "markdown",
   "id": "7a107efa",
   "metadata": {},
   "source": [
    "# Alessio Reitano"
   ]
  },
  {
   "cell_type": "code",
   "execution_count": 1,
   "id": "b8cf3ddf",
   "metadata": {},
   "outputs": [],
   "source": [
    "#Imports\n",
    "import pandas as pd\n",
    "import numpy as np\n",
    "import matplotlib.pyplot as plt\n",
    "from sklearn.cluster import KMeans\n",
    "from sklearn.metrics import silhouette_score, confusion_matrix\n",
    "from sklearn.model_selection import ParameterGrid\n",
    "from sklearn.cluster import DBSCAN\n",
    "\n",
    "#Variables\n",
    "url1 = 'exam_superv.csv'\n",
    "url2 = 'exam_unsuperv.csv'\n",
    "sep = ','\n",
    "random_state=42\n",
    "\n",
    "#Directives\n",
    "%matplotlib inline\n",
    "np.random.seed(random_state)"
   ]
  },
  {
   "cell_type": "markdown",
   "id": "c4706797",
   "metadata": {},
   "source": [
    "### 1. Load the dataset1.csv and explore the data, showing size, structure and histograms of numeric data; show the histogram of the frequencies of the class labels, contained in the “y” column"
   ]
  },
  {
   "cell_type": "code",
   "execution_count": 2,
   "id": "6313fdb3",
   "metadata": {},
   "outputs": [],
   "source": [
    "df1 = pd.read_csv(url1, sep=sep)"
   ]
  },
  {
   "cell_type": "code",
   "execution_count": 3,
   "id": "787eebeb",
   "metadata": {},
   "outputs": [
    {
     "name": "stdout",
     "output_type": "stream",
     "text": [
      "The dataframa are 1200 rows and 4 columns\n"
     ]
    }
   ],
   "source": [
    "print (\"The dataframa are {} rows and {} columns\".format(df1.shape[0],df1.shape[1]))"
   ]
  },
  {
   "cell_type": "code",
   "execution_count": 4,
   "id": "f1cbb9c6",
   "metadata": {},
   "outputs": [
    {
     "data": {
      "text/html": [
       "<div>\n",
       "<style scoped>\n",
       "    .dataframe tbody tr th:only-of-type {\n",
       "        vertical-align: middle;\n",
       "    }\n",
       "\n",
       "    .dataframe tbody tr th {\n",
       "        vertical-align: top;\n",
       "    }\n",
       "\n",
       "    .dataframe thead th {\n",
       "        text-align: right;\n",
       "    }\n",
       "</style>\n",
       "<table border=\"1\" class=\"dataframe\">\n",
       "  <thead>\n",
       "    <tr style=\"text-align: right;\">\n",
       "      <th></th>\n",
       "      <th>0</th>\n",
       "      <th>1</th>\n",
       "      <th>y</th>\n",
       "      <th>2</th>\n",
       "    </tr>\n",
       "  </thead>\n",
       "  <tbody>\n",
       "    <tr>\n",
       "      <th>count</th>\n",
       "      <td>1200.000000</td>\n",
       "      <td>1200.000000</td>\n",
       "      <td>1200.000000</td>\n",
       "      <td>1200.000000</td>\n",
       "    </tr>\n",
       "    <tr>\n",
       "      <th>mean</th>\n",
       "      <td>2.391668</td>\n",
       "      <td>1.996186</td>\n",
       "      <td>0.507500</td>\n",
       "      <td>2.494236</td>\n",
       "    </tr>\n",
       "    <tr>\n",
       "      <th>std</th>\n",
       "      <td>0.804770</td>\n",
       "      <td>0.507227</td>\n",
       "      <td>0.500152</td>\n",
       "      <td>0.589235</td>\n",
       "    </tr>\n",
       "    <tr>\n",
       "      <th>min</th>\n",
       "      <td>0.343023</td>\n",
       "      <td>0.509424</td>\n",
       "      <td>0.000000</td>\n",
       "      <td>1.500260</td>\n",
       "    </tr>\n",
       "    <tr>\n",
       "      <th>25%</th>\n",
       "      <td>1.806657</td>\n",
       "      <td>1.809635</td>\n",
       "      <td>0.000000</td>\n",
       "      <td>1.974389</td>\n",
       "    </tr>\n",
       "    <tr>\n",
       "      <th>50%</th>\n",
       "      <td>2.744439</td>\n",
       "      <td>1.983524</td>\n",
       "      <td>1.000000</td>\n",
       "      <td>2.469778</td>\n",
       "    </tr>\n",
       "    <tr>\n",
       "      <th>75%</th>\n",
       "      <td>3.092275</td>\n",
       "      <td>2.201484</td>\n",
       "      <td>1.000000</td>\n",
       "      <td>2.995198</td>\n",
       "    </tr>\n",
       "    <tr>\n",
       "      <th>max</th>\n",
       "      <td>3.529782</td>\n",
       "      <td>3.647299</td>\n",
       "      <td>1.000000</td>\n",
       "      <td>3.498523</td>\n",
       "    </tr>\n",
       "  </tbody>\n",
       "</table>\n",
       "</div>"
      ],
      "text/plain": [
       "                 0            1            y            2\n",
       "count  1200.000000  1200.000000  1200.000000  1200.000000\n",
       "mean      2.391668     1.996186     0.507500     2.494236\n",
       "std       0.804770     0.507227     0.500152     0.589235\n",
       "min       0.343023     0.509424     0.000000     1.500260\n",
       "25%       1.806657     1.809635     0.000000     1.974389\n",
       "50%       2.744439     1.983524     1.000000     2.469778\n",
       "75%       3.092275     2.201484     1.000000     2.995198\n",
       "max       3.529782     3.647299     1.000000     3.498523"
      ]
     },
     "execution_count": 4,
     "metadata": {},
     "output_type": "execute_result"
    }
   ],
   "source": [
    "df1.describe()"
   ]
  },
  {
   "cell_type": "code",
   "execution_count": 5,
   "id": "3aa8cdcc",
   "metadata": {},
   "outputs": [
    {
     "data": {
      "image/png": "[encoded data removed]",
      "text/plain": [
       "<Figure size 1080x1080 with 4 Axes>"
      ]
     },
     "metadata": {
      "needs_background": "light"
     },
     "output_type": "display_data"
    }
   ],
   "source": [
    "pd.DataFrame.hist(df1, figsize=[15,15]);"
   ]
  },
  {
   "cell_type": "code",
   "execution_count": 6,
   "id": "04c2b6bf",
   "metadata": {},
   "outputs": [
    {
     "data": {
      "image/png": "[encoded data removed]",
      "text/plain": [
       "<Figure size 432x288 with 1 Axes>"
      ]
     },
     "metadata": {
      "needs_background": "light"
     },
     "output_type": "display_data"
    }
   ],
   "source": [
    "plt.hist(df1.y)\n",
    "plt.show()"
   ]
  },
  {
   "cell_type": "markdown",
   "id": "6bc913f9",
   "metadata": {},
   "source": [
    "### 2. Drop the column “y” and find the best clustering scheme and hyper–parameters able to reproduce the y column (hint: before clustering you can consider dropping columns with little correlation to “y”; perhaps you should consider more than one estimator for clustering)"
   ]
  },
  {
   "cell_type": "code",
   "execution_count": 7,
   "id": "11b1b6c7",
   "metadata": {},
   "outputs": [],
   "source": [
    "df = df1.drop(columns = ['y'])"
   ]
  },
  {
   "cell_type": "code",
   "execution_count": 8,
   "id": "e34b036c",
   "metadata": {},
   "outputs": [
    {
     "data": {
      "text/plain": [
       "0    0.874676\n",
       "1   -0.000336\n",
       "y    1.000000\n",
       "2    0.042789\n",
       "Name: y, dtype: float64"
      ]
     },
     "execution_count": 8,
     "metadata": {},
     "output_type": "execute_result"
    }
   ],
   "source": [
    "df1.corr()['y']\n"
   ]
  },
  {
   "cell_type": "code",
   "execution_count": 11,
   "id": "ed161b1e",
   "metadata": {},
   "outputs": [
    {
     "data": {
      "text/html": [
       "<div>\n",
       "<style scoped>\n",
       "    .dataframe tbody tr th:only-of-type {\n",
       "        vertical-align: middle;\n",
       "    }\n",
       "\n",
       "    .dataframe tbody tr th {\n",
       "        vertical-align: top;\n",
       "    }\n",
       "\n",
       "    .dataframe thead th {\n",
       "        text-align: right;\n",
       "    }\n",
       "</style>\n",
       "<table border=\"1\" class=\"dataframe\">\n",
       "  <thead>\n",
       "    <tr style=\"text-align: right;\">\n",
       "      <th></th>\n",
       "      <th>0</th>\n",
       "      <th>y</th>\n",
       "      <th>2</th>\n",
       "    </tr>\n",
       "  </thead>\n",
       "  <tbody>\n",
       "    <tr>\n",
       "      <th>0</th>\n",
       "      <td>1.589942</td>\n",
       "      <td>0</td>\n",
       "      <td>1.953805</td>\n",
       "    </tr>\n",
       "    <tr>\n",
       "      <th>1</th>\n",
       "      <td>2.908437</td>\n",
       "      <td>1</td>\n",
       "      <td>1.510049</td>\n",
       "    </tr>\n",
       "    <tr>\n",
       "      <th>2</th>\n",
       "      <td>3.284091</td>\n",
       "      <td>1</td>\n",
       "      <td>3.307287</td>\n",
       "    </tr>\n",
       "    <tr>\n",
       "      <th>3</th>\n",
       "      <td>3.148717</td>\n",
       "      <td>1</td>\n",
       "      <td>3.452021</td>\n",
       "    </tr>\n",
       "    <tr>\n",
       "      <th>4</th>\n",
       "      <td>2.116881</td>\n",
       "      <td>0</td>\n",
       "      <td>2.157870</td>\n",
       "    </tr>\n",
       "    <tr>\n",
       "      <th>...</th>\n",
       "      <td>...</td>\n",
       "      <td>...</td>\n",
       "      <td>...</td>\n",
       "    </tr>\n",
       "    <tr>\n",
       "      <th>1195</th>\n",
       "      <td>3.044919</td>\n",
       "      <td>1</td>\n",
       "      <td>1.722062</td>\n",
       "    </tr>\n",
       "    <tr>\n",
       "      <th>1196</th>\n",
       "      <td>2.911515</td>\n",
       "      <td>1</td>\n",
       "      <td>2.972860</td>\n",
       "    </tr>\n",
       "    <tr>\n",
       "      <th>1197</th>\n",
       "      <td>1.702582</td>\n",
       "      <td>0</td>\n",
       "      <td>2.522197</td>\n",
       "    </tr>\n",
       "    <tr>\n",
       "      <th>1198</th>\n",
       "      <td>2.695799</td>\n",
       "      <td>0</td>\n",
       "      <td>3.365177</td>\n",
       "    </tr>\n",
       "    <tr>\n",
       "      <th>1199</th>\n",
       "      <td>3.109868</td>\n",
       "      <td>1</td>\n",
       "      <td>3.104471</td>\n",
       "    </tr>\n",
       "  </tbody>\n",
       "</table>\n",
       "<p>1200 rows × 3 columns</p>\n",
       "</div>"
      ],
      "text/plain": [
       "             0  y         2\n",
       "0     1.589942  0  1.953805\n",
       "1     2.908437  1  1.510049\n",
       "2     3.284091  1  3.307287\n",
       "3     3.148717  1  3.452021\n",
       "4     2.116881  0  2.157870\n",
       "...        ... ..       ...\n",
       "1195  3.044919  1  1.722062\n",
       "1196  2.911515  1  2.972860\n",
       "1197  1.702582  0  2.522197\n",
       "1198  2.695799  0  3.365177\n",
       "1199  3.109868  1  3.104471\n",
       "\n",
       "[1200 rows x 3 columns]"
      ]
     },
     "execution_count": 11,
     "metadata": {},
     "output_type": "execute_result"
    }
   ],
   "source": [
    "X = df1.drop(columns = ['1'])\n",
    "X"
   ]
  },
  {
   "cell_type": "code",
   "execution_count": 10,
   "id": "eff759fa",
   "metadata": {},
   "outputs": [
    {
     "ename": "InvalidIndexError",
     "evalue": "(array([ True,  True,  True, ...,  True,  True,  True]), slice(None, None, None))",
     "output_type": "error",
     "traceback": [
      "\u001b[1;31m---------------------------------------------------------------------------\u001b[0m",
      "\u001b[1;31mTypeError\u001b[0m                                 Traceback (most recent call last)",
      "File \u001b[1;32mc:\\Users\\hhitm\\AppData\\Local\\Programs\\Python\\Python310\\lib\\site-packages\\pandas\\core\\indexes\\base.py:3803\u001b[0m, in \u001b[0;36mIndex.get_loc\u001b[1;34m(self, key, method, tolerance)\u001b[0m\n\u001b[0;32m   3802\u001b[0m \u001b[39mtry\u001b[39;00m:\n\u001b[1;32m-> 3803\u001b[0m     \u001b[39mreturn\u001b[39;00m \u001b[39mself\u001b[39;49m\u001b[39m.\u001b[39;49m_engine\u001b[39m.\u001b[39;49mget_loc(casted_key)\n\u001b[0;32m   3804\u001b[0m \u001b[39mexcept\u001b[39;00m \u001b[39mKeyError\u001b[39;00m \u001b[39mas\u001b[39;00m err:\n",
      "File \u001b[1;32mc:\\Users\\hhitm\\AppData\\Local\\Programs\\Python\\Python310\\lib\\site-packages\\pandas\\_libs\\index.pyx:138\u001b[0m, in \u001b[0;36mpandas._libs.index.IndexEngine.get_loc\u001b[1;34m()\u001b[0m\n",
      "File \u001b[1;32mc:\\Users\\hhitm\\AppData\\Local\\Programs\\Python\\Python310\\lib\\site-packages\\pandas\\_libs\\index.pyx:144\u001b[0m, in \u001b[0;36mpandas._libs.index.IndexEngine.get_loc\u001b[1;34m()\u001b[0m\n",
      "\u001b[1;31mTypeError\u001b[0m: '(array([ True,  True,  True, ...,  True,  True,  True]), slice(None, None, None))' is an invalid key",
      "\nDuring handling of the above exception, another exception occurred:\n",
      "\u001b[1;31mInvalidIndexError\u001b[0m                         Traceback (most recent call last)",
      "\u001b[1;32mc:\\Users\\hhitm\\Desktop\\LAB DATA MINING\\ESAMI E SOLUZIONI ML 2021\\2021-07-02 - Clustering (correlazione)\\alessio.reitano.ipynb Cell 13\u001b[0m in \u001b[0;36m<module>\u001b[1;34m\u001b[0m\n\u001b[0;32m     <a href='vscode-notebook-cell:/c%3A/Users/hhitm/Desktop/LAB%20DATA%20MINING/ESAMI%20E%20SOLUZIONI%20ML%202021/2021-07-02%20-%20Clustering%20%28correlazione%29/alessio.reitano.ipynb#X15sZmlsZQ%3D%3D?line=10'>11</a>\u001b[0m n_clusters \u001b[39m=\u001b[39m \u001b[39mlen\u001b[39m(cluster_labels)\n\u001b[0;32m     <a href='vscode-notebook-cell:/c%3A/Users/hhitm/Desktop/LAB%20DATA%20MINING/ESAMI%20E%20SOLUZIONI%20ML%202021/2021-07-02%20-%20Clustering%20%28correlazione%29/alessio.reitano.ipynb#X15sZmlsZQ%3D%3D?line=11'>12</a>\u001b[0m \u001b[39mif\u001b[39;00m n_clusters \u001b[39m>\u001b[39m\u001b[39m1\u001b[39m :\n\u001b[1;32m---> <a href='vscode-notebook-cell:/c%3A/Users/hhitm/Desktop/LAB%20DATA%20MINING/ESAMI%20E%20SOLUZIONI%20ML%202021/2021-07-02%20-%20Clustering%20%28correlazione%29/alessio.reitano.ipynb#X15sZmlsZQ%3D%3D?line=12'>13</a>\u001b[0m     X_cl \u001b[39m=\u001b[39m X[y_db\u001b[39m!=\u001b[39;49m\u001b[39m-\u001b[39;49m\u001b[39m1\u001b[39;49m,:]                                                \u001b[39m#filtra il rumore da X\u001b[39;00m\n\u001b[0;32m     <a href='vscode-notebook-cell:/c%3A/Users/hhitm/Desktop/LAB%20DATA%20MINING/ESAMI%20E%20SOLUZIONI%20ML%202021/2021-07-02%20-%20Clustering%20%28correlazione%29/alessio.reitano.ipynb#X15sZmlsZQ%3D%3D?line=13'>14</a>\u001b[0m     y_db_cl \u001b[39m=\u001b[39m y_db[y_db\u001b[39m!=\u001b[39m\u001b[39m-\u001b[39m\u001b[39m1\u001b[39m]                                            \u001b[39m#filtra il rumore da Y\u001b[39;00m\n\u001b[0;32m     <a href='vscode-notebook-cell:/c%3A/Users/hhitm/Desktop/LAB%20DATA%20MINING/ESAMI%20E%20SOLUZIONI%20ML%202021/2021-07-02%20-%20Clustering%20%28correlazione%29/alessio.reitano.ipynb#X15sZmlsZQ%3D%3D?line=15'>16</a>\u001b[0m     silhouette \u001b[39m=\u001b[39m silhouette_score(X_cl,y_db_cl)\n",
      "File \u001b[1;32mc:\\Users\\hhitm\\AppData\\Local\\Programs\\Python\\Python310\\lib\\site-packages\\pandas\\core\\frame.py:3805\u001b[0m, in \u001b[0;36mDataFrame.__getitem__\u001b[1;34m(self, key)\u001b[0m\n\u001b[0;32m   3803\u001b[0m \u001b[39mif\u001b[39;00m \u001b[39mself\u001b[39m\u001b[39m.\u001b[39mcolumns\u001b[39m.\u001b[39mnlevels \u001b[39m>\u001b[39m \u001b[39m1\u001b[39m:\n\u001b[0;32m   3804\u001b[0m     \u001b[39mreturn\u001b[39;00m \u001b[39mself\u001b[39m\u001b[39m.\u001b[39m_getitem_multilevel(key)\n\u001b[1;32m-> 3805\u001b[0m indexer \u001b[39m=\u001b[39m \u001b[39mself\u001b[39;49m\u001b[39m.\u001b[39;49mcolumns\u001b[39m.\u001b[39;49mget_loc(key)\n\u001b[0;32m   3806\u001b[0m \u001b[39mif\u001b[39;00m is_integer(indexer):\n\u001b[0;32m   3807\u001b[0m     indexer \u001b[39m=\u001b[39m [indexer]\n",
      "File \u001b[1;32mc:\\Users\\hhitm\\AppData\\Local\\Programs\\Python\\Python310\\lib\\site-packages\\pandas\\core\\indexes\\base.py:3810\u001b[0m, in \u001b[0;36mIndex.get_loc\u001b[1;34m(self, key, method, tolerance)\u001b[0m\n\u001b[0;32m   3805\u001b[0m         \u001b[39mraise\u001b[39;00m \u001b[39mKeyError\u001b[39;00m(key) \u001b[39mfrom\u001b[39;00m \u001b[39merr\u001b[39;00m\n\u001b[0;32m   3806\u001b[0m     \u001b[39mexcept\u001b[39;00m \u001b[39mTypeError\u001b[39;00m:\n\u001b[0;32m   3807\u001b[0m         \u001b[39m# If we have a listlike key, _check_indexing_error will raise\u001b[39;00m\n\u001b[0;32m   3808\u001b[0m         \u001b[39m#  InvalidIndexError. Otherwise we fall through and re-raise\u001b[39;00m\n\u001b[0;32m   3809\u001b[0m         \u001b[39m#  the TypeError.\u001b[39;00m\n\u001b[1;32m-> 3810\u001b[0m         \u001b[39mself\u001b[39;49m\u001b[39m.\u001b[39;49m_check_indexing_error(key)\n\u001b[0;32m   3811\u001b[0m         \u001b[39mraise\u001b[39;00m\n\u001b[0;32m   3813\u001b[0m \u001b[39m# GH#42269\u001b[39;00m\n",
      "File \u001b[1;32mc:\\Users\\hhitm\\AppData\\Local\\Programs\\Python\\Python310\\lib\\site-packages\\pandas\\core\\indexes\\base.py:5968\u001b[0m, in \u001b[0;36mIndex._check_indexing_error\u001b[1;34m(self, key)\u001b[0m\n\u001b[0;32m   5964\u001b[0m \u001b[39mdef\u001b[39;00m \u001b[39m_check_indexing_error\u001b[39m(\u001b[39mself\u001b[39m, key):\n\u001b[0;32m   5965\u001b[0m     \u001b[39mif\u001b[39;00m \u001b[39mnot\u001b[39;00m is_scalar(key):\n\u001b[0;32m   5966\u001b[0m         \u001b[39m# if key is not a scalar, directly raise an error (the code below\u001b[39;00m\n\u001b[0;32m   5967\u001b[0m         \u001b[39m# would convert to numpy arrays and raise later any way) - GH29926\u001b[39;00m\n\u001b[1;32m-> 5968\u001b[0m         \u001b[39mraise\u001b[39;00m InvalidIndexError(key)\n",
      "\u001b[1;31mInvalidIndexError\u001b[0m: (array([ True,  True,  True, ...,  True,  True,  True]), slice(None, None, None))"
     ]
    }
   ],
   "source": [
    "param_grid = {'eps': list(np.arange(0.05, 1, 0.05)), 'min_samples': list(range(1,10,1))}\n",
    "params = list(ParameterGrid(param_grid))\n",
    "\n",
    "dbscan_out = pd.DataFrame(columns = ['eps','min_samples','n_clusters', 'size deviation index','silhouette', 'unclust%'])        #0 righe, 5 colonne\n",
    "\n",
    "for i in params:\n",
    "    db = DBSCAN(eps = i['eps'], min_samples = i['min_samples'])\n",
    "    y_db = db.fit_predict(X)\n",
    "    cluster_labels_all = np.unique(y_db)\n",
    "    cluster_labels = cluster_labels_all[cluster_labels_all != -1]\n",
    "    n_clusters = len(cluster_labels)\n",
    "    if n_clusters >1 :\n",
    "        #X_cl = X[y_db!=-1,:]                                                #filtra il rumore da X\n",
    "        #y_db_cl = y_db[y_db!=-1]                                            #filtra il rumore da Y\n",
    "\n",
    "        #silhouette = silhouette_score(X_cl,y_db_cl)\n",
    "\n",
    "        silhouette = silhouette_score(X.to_numpy()[y_db != -1],y_db[y_db != -1])\n",
    "        #deviation = np.sqrt(np.unique(y_db_cl, return_counts = True)[1].var())/i\n",
    "        #uncl_p = (1 - y_db_cl.shape[0]/y_db.shape[0]) * 100                 #% di dati unclustered\n",
    "        #dbscan_out.loc[len(dbscan_out)] = [db.eps, db.min_samples, n_clusters, deviation, silhouette, uncl_p]\n",
    "        print (\"Param EPS = \"+ str(i['eps'])+ \" param MIN_sample =\"+str(i['min_samples']))\n",
    "        print (\"The silhouette score is {:.2f}\".format(silhouette))\n",
    "        print(\"----------------------\")"
   ]
  },
  {
   "cell_type": "markdown",
   "id": "a3a71928",
   "metadata": {},
   "source": [
    "### 3.  show the difference between the original “y” column and the labels generated by the clustering, it can be expressed as “accuracy”, produce also the confusion matrix"
   ]
  },
  {
   "cell_type": "code",
   "execution_count": null,
   "id": "31f94c46",
   "metadata": {
    "scrolled": true
   },
   "outputs": [
    {
     "name": "stdout",
     "output_type": "stream",
     "text": [
      "[[  0   0   0]\n",
      " [ 33 558   0]\n",
      " [  5   0 604]]\n"
     ]
    }
   ],
   "source": [
    "db = DBSCAN(eps = 0.15, min_samples = 7)\n",
    "\n",
    "# Fit and predict\n",
    "db_y = db.fit_predict(X)\n",
    "all_label = np.unique(db_y)\n",
    "print (confusion_matrix(df1.y, db_y))"
   ]
  },
  {
   "attachments": {},
   "cell_type": "markdown",
   "id": "d9a3fcda",
   "metadata": {},
   "source": [
    "### 4. Apply the same transformations, to dataset2.csv, then apply the best clustering scheme and hyper parameters and plot the data with the assigned labels . "
   ]
  }
 ],
 "metadata": {
  "kernelspec": {
   "display_name": "Python 3 (ipykernel)",
   "language": "python",
   "name": "python3"
  },
  "language_info": {
   "codemirror_mode": {
    "name": "ipython",
    "version": 3
   },
   "file_extension": ".py",
   "mimetype": "text/x-python",
   "name": "python",
   "nbconvert_exporter": "python",
   "pygments_lexer": "ipython3",
   "version": "3.13.1"
  },
  "vscode": {
   "interpreter": {
    "hash": "b1708fff10be9fb692d7fda4b87bbb8793f7d6a3cb1c2c80debaadfcc2f4e575"
   }
  }
 },
 "nbformat": 4,
 "nbformat_minor": 5
}
