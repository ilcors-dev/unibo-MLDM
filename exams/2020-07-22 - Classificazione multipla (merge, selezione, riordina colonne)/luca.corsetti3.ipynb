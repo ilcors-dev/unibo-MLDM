{
 "cells": [
  {
   "cell_type": "markdown",
   "id": "e66b06c0-1e1a-4f5b-87e9-5e2ff791f6af",
   "metadata": {},
   "source": [
    "# Luca Corsetti 0001131095"
   ]
  },
  {
   "cell_type": "markdown",
   "id": "88628f9d-0e50-458e-836e-6eb486ce4ef8",
   "metadata": {},
   "source": [
    "Find the best classification scheme for the included dataset.\n",
    "The solution must be produced as a Python Notebook.\n",
    "The notebook must include appropriate comments and must operate\n",
    "as follows:\n",
    "1. The data are split in two files, load the files and merge them\n",
    "according to the first column, which is the index; both the files\n",
    "contain a \"class\" column, keep both the columns in the merged\n",
    "file calling them \"class_x\" and \"class_y\" (you can use the merge\n",
    "function of pandas dataframes) (4pt)\n",
    "2. Delete all the rows where class_x is different from class_y, then\n",
    "drop class_y and rename class_x as class (4pt)\n",
    "3. Reorder the columns in alphabetical order, but placing the class\n",
    "column as the last one; the cleaned dataframe must be named\n",
    "df; show its size and head (4pt)\n",
    "4. Find the best classification scheme using three classification\n",
    "methods\n",
    "5. For each classification method find the best parameter setting\n",
    "with cross validation on the training set (6pt)\n",
    "6. For each classification method compute the accuracy and the\n",
    "confusion matrix on the test set (4pt)\n",
    "7. Produce a plot of the accuracies given by the methods\n",
    "attempted (3pt)"
   ]
  },
  {
   "cell_type": "code",
   "execution_count": 26,
   "id": "e57f3b1b-ac7b-4440-b033-e40b8517110f",
   "metadata": {},
   "outputs": [],
   "source": [
    "# setup & imports\n",
    "\n",
    "import pandas as pd\n",
    "import numpy as np\n",
    "import seaborn as sns\n",
    "import matplotlib.pyplot as plt\n",
    "from sklearn.tree import DecisionTreeClassifier\n",
    "from sklearn.neighbors import KNeighborsClassifier\n",
    "from sklearn.naive_bayes import GaussianNB\n",
    "from sklearn.model_selection import train_test_split, GridSearchCV\n",
    "from sklearn.metrics import accuracy_score, classification_report\n",
    "from sklearn.metrics import ConfusionMatrixDisplay\n",
    "\n",
    "%matplotlib inline\n",
    "\n",
    "random_state=777"
   ]
  },
  {
   "cell_type": "markdown",
   "id": "c0ebd9b7-5a2f-433b-9de9-919d88def1eb",
   "metadata": {},
   "source": [
    "### 1. The data are split in two files, load the files and merge them according to the first column, which is the index; both the files contain a \"class\" column, keep both the columns in the merged file calling them \"class_x\" and \"class_y\" (you can use the merge function of pandas dataframes) (4pt)"
   ]
  },
  {
   "cell_type": "code",
   "execution_count": 2,
   "id": "d2bdaafc-e4f0-412e-887e-b61669a27b8c",
   "metadata": {},
   "outputs": [
    {
     "data": {
      "text/html": [
       "<div>\n",
       "<style scoped>\n",
       "    .dataframe tbody tr th:only-of-type {\n",
       "        vertical-align: middle;\n",
       "    }\n",
       "\n",
       "    .dataframe tbody tr th {\n",
       "        vertical-align: top;\n",
       "    }\n",
       "\n",
       "    .dataframe thead th {\n",
       "        text-align: right;\n",
       "    }\n",
       "</style>\n",
       "<table border=\"1\" class=\"dataframe\">\n",
       "  <thead>\n",
       "    <tr style=\"text-align: right;\">\n",
       "      <th></th>\n",
       "      <th>A</th>\n",
       "      <th>C</th>\n",
       "      <th>E</th>\n",
       "      <th>class_x</th>\n",
       "    </tr>\n",
       "  </thead>\n",
       "  <tbody>\n",
       "    <tr>\n",
       "      <th>0</th>\n",
       "      <td>-0.386248</td>\n",
       "      <td>1.536628</td>\n",
       "      <td>1.232589</td>\n",
       "      <td>1</td>\n",
       "    </tr>\n",
       "    <tr>\n",
       "      <th>1</th>\n",
       "      <td>-2.686649</td>\n",
       "      <td>4.640702</td>\n",
       "      <td>0.823433</td>\n",
       "      <td>1</td>\n",
       "    </tr>\n",
       "    <tr>\n",
       "      <th>2</th>\n",
       "      <td>0.474124</td>\n",
       "      <td>1.576616</td>\n",
       "      <td>-1.256234</td>\n",
       "      <td>0</td>\n",
       "    </tr>\n",
       "    <tr>\n",
       "      <th>3</th>\n",
       "      <td>-1.343790</td>\n",
       "      <td>-0.514008</td>\n",
       "      <td>1.520392</td>\n",
       "      <td>2</td>\n",
       "    </tr>\n",
       "    <tr>\n",
       "      <th>4</th>\n",
       "      <td>-2.187600</td>\n",
       "      <td>0.289041</td>\n",
       "      <td>1.318321</td>\n",
       "      <td>2</td>\n",
       "    </tr>\n",
       "  </tbody>\n",
       "</table>\n",
       "</div>"
      ],
      "text/plain": [
       "          A         C         E  class_x\n",
       "0 -0.386248  1.536628  1.232589        1\n",
       "1 -2.686649  4.640702  0.823433        1\n",
       "2  0.474124  1.576616 -1.256234        0\n",
       "3 -1.343790 -0.514008  1.520392        2\n",
       "4 -2.187600  0.289041  1.318321        2"
      ]
     },
     "execution_count": 2,
     "metadata": {},
     "output_type": "execute_result"
    }
   ],
   "source": [
    "df1 = pd.read_csv('./exam_1.csv', index_col=0)\n",
    "df1 = df1.rename(columns={'class': 'class_x'})\n",
    "\n",
    "df1.head()"
   ]
  },
  {
   "cell_type": "code",
   "execution_count": 3,
   "id": "daaccc20-51c4-4629-8619-b6f961847dfd",
   "metadata": {},
   "outputs": [
    {
     "data": {
      "text/html": [
       "<div>\n",
       "<style scoped>\n",
       "    .dataframe tbody tr th:only-of-type {\n",
       "        vertical-align: middle;\n",
       "    }\n",
       "\n",
       "    .dataframe tbody tr th {\n",
       "        vertical-align: top;\n",
       "    }\n",
       "\n",
       "    .dataframe thead th {\n",
       "        text-align: right;\n",
       "    }\n",
       "</style>\n",
       "<table border=\"1\" class=\"dataframe\">\n",
       "  <thead>\n",
       "    <tr style=\"text-align: right;\">\n",
       "      <th></th>\n",
       "      <th>B</th>\n",
       "      <th>D</th>\n",
       "      <th>F</th>\n",
       "      <th>class_y</th>\n",
       "    </tr>\n",
       "  </thead>\n",
       "  <tbody>\n",
       "    <tr>\n",
       "      <th>0</th>\n",
       "      <td>-1.432057</td>\n",
       "      <td>1.039420</td>\n",
       "      <td>0.280469</td>\n",
       "      <td>1</td>\n",
       "    </tr>\n",
       "    <tr>\n",
       "      <th>1</th>\n",
       "      <td>-4.036329</td>\n",
       "      <td>0.526320</td>\n",
       "      <td>-0.419013</td>\n",
       "      <td>1</td>\n",
       "    </tr>\n",
       "    <tr>\n",
       "      <th>2</th>\n",
       "      <td>0.179770</td>\n",
       "      <td>0.157974</td>\n",
       "      <td>-0.162869</td>\n",
       "      <td>0</td>\n",
       "    </tr>\n",
       "    <tr>\n",
       "      <th>3</th>\n",
       "      <td>-1.299109</td>\n",
       "      <td>-0.152250</td>\n",
       "      <td>0.045123</td>\n",
       "      <td>2</td>\n",
       "    </tr>\n",
       "    <tr>\n",
       "      <th>4</th>\n",
       "      <td>-2.089699</td>\n",
       "      <td>-0.494995</td>\n",
       "      <td>-0.661858</td>\n",
       "      <td>2</td>\n",
       "    </tr>\n",
       "  </tbody>\n",
       "</table>\n",
       "</div>"
      ],
      "text/plain": [
       "          B         D         F  class_y\n",
       "0 -1.432057  1.039420  0.280469        1\n",
       "1 -4.036329  0.526320 -0.419013        1\n",
       "2  0.179770  0.157974 -0.162869        0\n",
       "3 -1.299109 -0.152250  0.045123        2\n",
       "4 -2.089699 -0.494995 -0.661858        2"
      ]
     },
     "execution_count": 3,
     "metadata": {},
     "output_type": "execute_result"
    }
   ],
   "source": [
    "df2 = pd.read_csv('./exam_2.csv', index_col=0)\n",
    "df2 = df2.rename(columns={'class': 'class_y'})\n",
    "\n",
    "df2.head()"
   ]
  },
  {
   "cell_type": "code",
   "execution_count": 4,
   "id": "720b089a-9d93-4318-bd7f-5be6b76c44ca",
   "metadata": {},
   "outputs": [
    {
     "data": {
      "text/html": [
       "<div>\n",
       "<style scoped>\n",
       "    .dataframe tbody tr th:only-of-type {\n",
       "        vertical-align: middle;\n",
       "    }\n",
       "\n",
       "    .dataframe tbody tr th {\n",
       "        vertical-align: top;\n",
       "    }\n",
       "\n",
       "    .dataframe thead th {\n",
       "        text-align: right;\n",
       "    }\n",
       "</style>\n",
       "<table border=\"1\" class=\"dataframe\">\n",
       "  <thead>\n",
       "    <tr style=\"text-align: right;\">\n",
       "      <th></th>\n",
       "      <th>A</th>\n",
       "      <th>C</th>\n",
       "      <th>E</th>\n",
       "      <th>class_x</th>\n",
       "      <th>B</th>\n",
       "      <th>D</th>\n",
       "      <th>F</th>\n",
       "      <th>class_y</th>\n",
       "    </tr>\n",
       "  </thead>\n",
       "  <tbody>\n",
       "    <tr>\n",
       "      <th>0</th>\n",
       "      <td>-0.386248</td>\n",
       "      <td>1.536628</td>\n",
       "      <td>1.232589</td>\n",
       "      <td>1</td>\n",
       "      <td>-1.432057</td>\n",
       "      <td>1.039420</td>\n",
       "      <td>0.280469</td>\n",
       "      <td>1</td>\n",
       "    </tr>\n",
       "    <tr>\n",
       "      <th>1</th>\n",
       "      <td>-2.686649</td>\n",
       "      <td>4.640702</td>\n",
       "      <td>0.823433</td>\n",
       "      <td>1</td>\n",
       "      <td>-4.036329</td>\n",
       "      <td>0.526320</td>\n",
       "      <td>-0.419013</td>\n",
       "      <td>1</td>\n",
       "    </tr>\n",
       "    <tr>\n",
       "      <th>2</th>\n",
       "      <td>0.474124</td>\n",
       "      <td>1.576616</td>\n",
       "      <td>-1.256234</td>\n",
       "      <td>0</td>\n",
       "      <td>0.179770</td>\n",
       "      <td>0.157974</td>\n",
       "      <td>-0.162869</td>\n",
       "      <td>0</td>\n",
       "    </tr>\n",
       "    <tr>\n",
       "      <th>3</th>\n",
       "      <td>-1.343790</td>\n",
       "      <td>-0.514008</td>\n",
       "      <td>1.520392</td>\n",
       "      <td>2</td>\n",
       "      <td>-1.299109</td>\n",
       "      <td>-0.152250</td>\n",
       "      <td>0.045123</td>\n",
       "      <td>2</td>\n",
       "    </tr>\n",
       "    <tr>\n",
       "      <th>4</th>\n",
       "      <td>-2.187600</td>\n",
       "      <td>0.289041</td>\n",
       "      <td>1.318321</td>\n",
       "      <td>2</td>\n",
       "      <td>-2.089699</td>\n",
       "      <td>-0.494995</td>\n",
       "      <td>-0.661858</td>\n",
       "      <td>2</td>\n",
       "    </tr>\n",
       "  </tbody>\n",
       "</table>\n",
       "</div>"
      ],
      "text/plain": [
       "          A         C         E  class_x         B         D         F  \\\n",
       "0 -0.386248  1.536628  1.232589        1 -1.432057  1.039420  0.280469   \n",
       "1 -2.686649  4.640702  0.823433        1 -4.036329  0.526320 -0.419013   \n",
       "2  0.474124  1.576616 -1.256234        0  0.179770  0.157974 -0.162869   \n",
       "3 -1.343790 -0.514008  1.520392        2 -1.299109 -0.152250  0.045123   \n",
       "4 -2.187600  0.289041  1.318321        2 -2.089699 -0.494995 -0.661858   \n",
       "\n",
       "   class_y  \n",
       "0        1  \n",
       "1        1  \n",
       "2        0  \n",
       "3        2  \n",
       "4        2  "
      ]
     },
     "execution_count": 4,
     "metadata": {},
     "output_type": "execute_result"
    }
   ],
   "source": [
    "merged = df1.merge(df2, how='outer', left_index=True, right_index=True)\n",
    "\n",
    "merged.head()"
   ]
  },
  {
   "cell_type": "markdown",
   "id": "ca3dd473-685f-4925-be28-05a246b97f51",
   "metadata": {},
   "source": [
    "### 2. Delete all the rows where class_x is different from class_y, then drop class_y and rename class_x as class (4pt)"
   ]
  },
  {
   "cell_type": "code",
   "execution_count": 5,
   "id": "35f82226-592b-4769-8bb0-0ccc4feb38fb",
   "metadata": {},
   "outputs": [
    {
     "data": {
      "text/html": [
       "<div>\n",
       "<style scoped>\n",
       "    .dataframe tbody tr th:only-of-type {\n",
       "        vertical-align: middle;\n",
       "    }\n",
       "\n",
       "    .dataframe tbody tr th {\n",
       "        vertical-align: top;\n",
       "    }\n",
       "\n",
       "    .dataframe thead th {\n",
       "        text-align: right;\n",
       "    }\n",
       "</style>\n",
       "<table border=\"1\" class=\"dataframe\">\n",
       "  <thead>\n",
       "    <tr style=\"text-align: right;\">\n",
       "      <th></th>\n",
       "      <th>A</th>\n",
       "      <th>C</th>\n",
       "      <th>E</th>\n",
       "      <th>class</th>\n",
       "      <th>B</th>\n",
       "      <th>D</th>\n",
       "      <th>F</th>\n",
       "    </tr>\n",
       "  </thead>\n",
       "  <tbody>\n",
       "    <tr>\n",
       "      <th>0</th>\n",
       "      <td>-0.386248</td>\n",
       "      <td>1.536628</td>\n",
       "      <td>1.232589</td>\n",
       "      <td>1</td>\n",
       "      <td>-1.432057</td>\n",
       "      <td>1.039420</td>\n",
       "      <td>0.280469</td>\n",
       "    </tr>\n",
       "    <tr>\n",
       "      <th>1</th>\n",
       "      <td>-2.686649</td>\n",
       "      <td>4.640702</td>\n",
       "      <td>0.823433</td>\n",
       "      <td>1</td>\n",
       "      <td>-4.036329</td>\n",
       "      <td>0.526320</td>\n",
       "      <td>-0.419013</td>\n",
       "    </tr>\n",
       "    <tr>\n",
       "      <th>2</th>\n",
       "      <td>0.474124</td>\n",
       "      <td>1.576616</td>\n",
       "      <td>-1.256234</td>\n",
       "      <td>0</td>\n",
       "      <td>0.179770</td>\n",
       "      <td>0.157974</td>\n",
       "      <td>-0.162869</td>\n",
       "    </tr>\n",
       "    <tr>\n",
       "      <th>3</th>\n",
       "      <td>-1.343790</td>\n",
       "      <td>-0.514008</td>\n",
       "      <td>1.520392</td>\n",
       "      <td>2</td>\n",
       "      <td>-1.299109</td>\n",
       "      <td>-0.152250</td>\n",
       "      <td>0.045123</td>\n",
       "    </tr>\n",
       "    <tr>\n",
       "      <th>4</th>\n",
       "      <td>-2.187600</td>\n",
       "      <td>0.289041</td>\n",
       "      <td>1.318321</td>\n",
       "      <td>2</td>\n",
       "      <td>-2.089699</td>\n",
       "      <td>-0.494995</td>\n",
       "      <td>-0.661858</td>\n",
       "    </tr>\n",
       "  </tbody>\n",
       "</table>\n",
       "</div>"
      ],
      "text/plain": [
       "          A         C         E  class         B         D         F\n",
       "0 -0.386248  1.536628  1.232589      1 -1.432057  1.039420  0.280469\n",
       "1 -2.686649  4.640702  0.823433      1 -4.036329  0.526320 -0.419013\n",
       "2  0.474124  1.576616 -1.256234      0  0.179770  0.157974 -0.162869\n",
       "3 -1.343790 -0.514008  1.520392      2 -1.299109 -0.152250  0.045123\n",
       "4 -2.187600  0.289041  1.318321      2 -2.089699 -0.494995 -0.661858"
      ]
     },
     "execution_count": 5,
     "metadata": {},
     "output_type": "execute_result"
    }
   ],
   "source": [
    "cleaned = merged[merged['class_x'] == merged['class_y']]\n",
    "\n",
    "cleaned = cleaned.drop(columns=['class_y'])\n",
    "cleaned = cleaned.rename(columns={'class_x': 'class'})\n",
    "\n",
    "cleaned.head()"
   ]
  },
  {
   "cell_type": "markdown",
   "id": "3465944c-47a7-43b8-8844-0ba97813dac6",
   "metadata": {},
   "source": [
    "### 3. Reorder the columns in alphabetical order, but placing the class column as the last one; the cleaned dataframe must be named df; show its size and head (4pt)"
   ]
  },
  {
   "cell_type": "code",
   "execution_count": 6,
   "id": "c8fad0e5-71b4-4df2-872f-bce521312bbb",
   "metadata": {},
   "outputs": [
    {
     "data": {
      "text/html": [
       "<div>\n",
       "<style scoped>\n",
       "    .dataframe tbody tr th:only-of-type {\n",
       "        vertical-align: middle;\n",
       "    }\n",
       "\n",
       "    .dataframe tbody tr th {\n",
       "        vertical-align: top;\n",
       "    }\n",
       "\n",
       "    .dataframe thead th {\n",
       "        text-align: right;\n",
       "    }\n",
       "</style>\n",
       "<table border=\"1\" class=\"dataframe\">\n",
       "  <thead>\n",
       "    <tr style=\"text-align: right;\">\n",
       "      <th></th>\n",
       "      <th>A</th>\n",
       "      <th>B</th>\n",
       "      <th>C</th>\n",
       "      <th>D</th>\n",
       "      <th>E</th>\n",
       "      <th>F</th>\n",
       "      <th>class</th>\n",
       "    </tr>\n",
       "  </thead>\n",
       "  <tbody>\n",
       "    <tr>\n",
       "      <th>0</th>\n",
       "      <td>-0.386248</td>\n",
       "      <td>-1.432057</td>\n",
       "      <td>1.536628</td>\n",
       "      <td>1.039420</td>\n",
       "      <td>1.232589</td>\n",
       "      <td>0.280469</td>\n",
       "      <td>1</td>\n",
       "    </tr>\n",
       "    <tr>\n",
       "      <th>1</th>\n",
       "      <td>-2.686649</td>\n",
       "      <td>-4.036329</td>\n",
       "      <td>4.640702</td>\n",
       "      <td>0.526320</td>\n",
       "      <td>0.823433</td>\n",
       "      <td>-0.419013</td>\n",
       "      <td>1</td>\n",
       "    </tr>\n",
       "    <tr>\n",
       "      <th>2</th>\n",
       "      <td>0.474124</td>\n",
       "      <td>0.179770</td>\n",
       "      <td>1.576616</td>\n",
       "      <td>0.157974</td>\n",
       "      <td>-1.256234</td>\n",
       "      <td>-0.162869</td>\n",
       "      <td>0</td>\n",
       "    </tr>\n",
       "    <tr>\n",
       "      <th>3</th>\n",
       "      <td>-1.343790</td>\n",
       "      <td>-1.299109</td>\n",
       "      <td>-0.514008</td>\n",
       "      <td>-0.152250</td>\n",
       "      <td>1.520392</td>\n",
       "      <td>0.045123</td>\n",
       "      <td>2</td>\n",
       "    </tr>\n",
       "    <tr>\n",
       "      <th>4</th>\n",
       "      <td>-2.187600</td>\n",
       "      <td>-2.089699</td>\n",
       "      <td>0.289041</td>\n",
       "      <td>-0.494995</td>\n",
       "      <td>1.318321</td>\n",
       "      <td>-0.661858</td>\n",
       "      <td>2</td>\n",
       "    </tr>\n",
       "  </tbody>\n",
       "</table>\n",
       "</div>"
      ],
      "text/plain": [
       "          A         B         C         D         E         F  class\n",
       "0 -0.386248 -1.432057  1.536628  1.039420  1.232589  0.280469      1\n",
       "1 -2.686649 -4.036329  4.640702  0.526320  0.823433 -0.419013      1\n",
       "2  0.474124  0.179770  1.576616  0.157974 -1.256234 -0.162869      0\n",
       "3 -1.343790 -1.299109 -0.514008 -0.152250  1.520392  0.045123      2\n",
       "4 -2.187600 -2.089699  0.289041 -0.494995  1.318321 -0.661858      2"
      ]
     },
     "execution_count": 6,
     "metadata": {},
     "output_type": "execute_result"
    }
   ],
   "source": [
    "# df = cleaned.reindex(columns=sorted(cleaned.columns))\n",
    "# df.head()\n",
    "\n",
    "# equivalent naive python\n",
    "sorted_cols = sorted(cleaned.columns)\n",
    "df = pd.DataFrame(columns=sorted_cols)\n",
    "\n",
    "for col in sorted_cols:\n",
    "    df[col] = cleaned[col]\n",
    "\n",
    "df.head()"
   ]
  },
  {
   "cell_type": "code",
   "execution_count": 7,
   "id": "bb5c0551-926b-415e-b466-43db6f23cabe",
   "metadata": {},
   "outputs": [
    {
     "data": {
      "text/plain": [
       "(1984, 7)"
      ]
     },
     "execution_count": 7,
     "metadata": {},
     "output_type": "execute_result"
    }
   ],
   "source": [
    "df.shape"
   ]
  },
  {
   "cell_type": "markdown",
   "id": "e415632e-68e7-4528-9bc1-237139bb88a7",
   "metadata": {},
   "source": [
    "### 4. Find the best classification scheme using three classification methods"
   ]
  },
  {
   "cell_type": "markdown",
   "id": "e5e76226-d927-443f-a678-e77cc1af55dc",
   "metadata": {},
   "source": [
    "Let's divide the dataset into the feature matrix and the class labels. We will these classifiers:\n",
    "- DecisionTree classifier\n",
    "- K Nearest Neighbors classifier\n",
    "- NaiveBayes classifier\n",
    "\n",
    "We won't pay particular attention to the parameters of the classifiers. We will use the default settings provided by sklearn library."
   ]
  },
  {
   "cell_type": "code",
   "execution_count": 8,
   "id": "b443f4a5-38d4-4b5d-b478-d7a6969b5bce",
   "metadata": {},
   "outputs": [],
   "source": [
    "target = 'class'\n",
    "\n",
    "y = df[target]\n",
    "X = df.drop(columns=target)"
   ]
  },
  {
   "cell_type": "markdown",
   "id": "46e1957f-6803-45e1-ae79-e50cfe92cc80",
   "metadata": {},
   "source": [
    "We then split the data into the training & test slices using a ration of **.7** for the training data since we have a decent amount of it to use ~2000 entries"
   ]
  },
  {
   "cell_type": "code",
   "execution_count": 9,
   "id": "dbce875b-38f9-443b-bb73-b291d77210f5",
   "metadata": {},
   "outputs": [
    {
     "name": "stdout",
     "output_type": "stream",
     "text": [
      "there are 1388 training samples\n",
      "there are 596 test samples\n"
     ]
    }
   ],
   "source": [
    "X_train, X_test, y_train, y_test = train_test_split(X, y, train_size=.7, random_state=random_state)\n",
    "\n",
    "print(f\"there are {X_train.shape[0]} training samples\")\n",
    "print(f\"there are {X_test.shape[0]} test samples\")"
   ]
  },
  {
   "cell_type": "markdown",
   "id": "d62347cb-9800-4c53-8e07-baa49bdcf4f0",
   "metadata": {},
   "source": [
    "#### DecisionTree"
   ]
  },
  {
   "cell_type": "code",
   "execution_count": 10,
   "id": "bbc38da1-d427-44ce-b3eb-7c5406128bfe",
   "metadata": {},
   "outputs": [],
   "source": [
    "dt = DecisionTreeClassifier(random_state=random_state)\n",
    "\n",
    "dt.fit(X_train, y_train)\n",
    "\n",
    "y_dt_train_pred = dt.predict(X_train)\n",
    "y_dt_test_pred = dt.predict(X_test)\n",
    "\n",
    "y_dt_train_accuracy = accuracy_score(y_train, y_dt_train_pred) * 100\n",
    "y_dt_test_accuracy = accuracy_score(y_test, y_dt_test_pred) * 100"
   ]
  },
  {
   "cell_type": "markdown",
   "id": "a3556e29-f020-468a-ac62-8328aefd100f",
   "metadata": {},
   "source": [
    "#### K Nearest Neighbors"
   ]
  },
  {
   "cell_type": "code",
   "execution_count": 11,
   "id": "f3475294-a19a-45b2-9fdc-a25dcc469f3b",
   "metadata": {},
   "outputs": [],
   "source": [
    "kn = KNeighborsClassifier()\n",
    "\n",
    "kn.fit(X_train, y_train)\n",
    "\n",
    "y_kn_train_pred = kn.predict(X_train) # we expect 100% accuracy on this one\n",
    "y_kn_test_pred = kn.predict(X_test)\n",
    "\n",
    "y_kn_train_accuracy = accuracy_score(y_train, y_kn_train_pred) * 100\n",
    "y_kn_test_accuracy = accuracy_score(y_test, y_kn_test_pred) * 100"
   ]
  },
  {
   "cell_type": "markdown",
   "id": "d6e765af-deac-4e1e-9e83-d0fc0d98c45b",
   "metadata": {},
   "source": [
    "#### Naive Bayes"
   ]
  },
  {
   "cell_type": "code",
   "execution_count": 12,
   "id": "044e0274-ff42-4e49-a42d-1dfa1849037a",
   "metadata": {},
   "outputs": [],
   "source": [
    "nb = GaussianNB()\n",
    "\n",
    "nb.fit(X_train, y_train)\n",
    "\n",
    "y_nb_train_pred = nb.predict(X_train)\n",
    "y_nb_test_pred = nb.predict(X_test)\n",
    "\n",
    "y_nb_train_accuracy = accuracy_score(y_train, y_nb_train_pred) * 100\n",
    "y_nb_test_accuracy = accuracy_score(y_test, y_nb_test_pred) * 100"
   ]
  },
  {
   "cell_type": "markdown",
   "id": "2c0900da-6491-40aa-8211-4b1a3eeaf0fd",
   "metadata": {},
   "source": [
    "We can now evaluate which classifier performed best on the data by evaluating its accuracy"
   ]
  },
  {
   "cell_type": "code",
   "execution_count": 13,
   "id": "9b310706-b122-48d8-8464-d4443a85a5f6",
   "metadata": {},
   "outputs": [
    {
     "data": {
      "text/html": [
       "<div>\n",
       "<style scoped>\n",
       "    .dataframe tbody tr th:only-of-type {\n",
       "        vertical-align: middle;\n",
       "    }\n",
       "\n",
       "    .dataframe tbody tr th {\n",
       "        vertical-align: top;\n",
       "    }\n",
       "\n",
       "    .dataframe thead th {\n",
       "        text-align: right;\n",
       "    }\n",
       "</style>\n",
       "<table border=\"1\" class=\"dataframe\">\n",
       "  <thead>\n",
       "    <tr style=\"text-align: right;\">\n",
       "      <th></th>\n",
       "      <th>Classifier</th>\n",
       "      <th>Train Accuracy</th>\n",
       "      <th>Test Accuracy</th>\n",
       "    </tr>\n",
       "  </thead>\n",
       "  <tbody>\n",
       "    <tr>\n",
       "      <th>0</th>\n",
       "      <td>Decision Tree</td>\n",
       "      <td>100.000000</td>\n",
       "      <td>81.543624</td>\n",
       "    </tr>\n",
       "    <tr>\n",
       "      <th>1</th>\n",
       "      <td>KNearestNeighbor</td>\n",
       "      <td>90.129683</td>\n",
       "      <td>86.073826</td>\n",
       "    </tr>\n",
       "    <tr>\n",
       "      <th>2</th>\n",
       "      <td>NaiveBayes</td>\n",
       "      <td>80.403458</td>\n",
       "      <td>80.033557</td>\n",
       "    </tr>\n",
       "  </tbody>\n",
       "</table>\n",
       "</div>"
      ],
      "text/plain": [
       "         Classifier  Train Accuracy  Test Accuracy\n",
       "0     Decision Tree      100.000000      81.543624\n",
       "1  KNearestNeighbor       90.129683      86.073826\n",
       "2        NaiveBayes       80.403458      80.033557"
      ]
     },
     "execution_count": 13,
     "metadata": {},
     "output_type": "execute_result"
    }
   ],
   "source": [
    "cols = ('Classifier', 'Train Accuracy', 'Test Accuracy')\n",
    "rows = [\n",
    "    ['Decision Tree', y_dt_train_accuracy, y_dt_test_accuracy],\n",
    "    ['KNearestNeighbor', y_kn_train_accuracy, y_kn_test_accuracy],\n",
    "    ['NaiveBayes', y_nb_train_accuracy, y_nb_test_accuracy]\n",
    "]\n",
    "\n",
    "results = pd.DataFrame(rows, columns=cols)\n",
    "\n",
    "results"
   ]
  },
  {
   "cell_type": "markdown",
   "id": "5b180149-24e9-436f-96da-6174a3580f66",
   "metadata": {},
   "source": [
    "We can see how the KNearestNeighbor perfomed better than the other classifiers having the highest accuracy on the test data"
   ]
  },
  {
   "cell_type": "markdown",
   "id": "affe7236-2603-4dfc-97b8-a2f96e27141b",
   "metadata": {},
   "source": [
    "### 5. For each classification method find the best parameter setting with cross validation on the training set (6pt)"
   ]
  },
  {
   "cell_type": "markdown",
   "id": "e690d896-6ef2-4200-ad5c-8522ff4a50eb",
   "metadata": {},
   "source": [
    "Let's prepare for the cross validation laying down some useful structures for the job. We will tune each classifier to obtain the best possible result from each, ultimately evaluating them by the **accuracy and precision** metrics."
   ]
  },
  {
   "cell_type": "code",
   "execution_count": 22,
   "id": "aada9488-e364-4d4b-b116-657922ac7517",
   "metadata": {},
   "outputs": [
    {
     "data": {
      "text/plain": [
       "{'Decision Tree': {'model': DecisionTreeClassifier(random_state=777),\n",
       "  'params': [{'max_depth': [1,\n",
       "     2,\n",
       "     3,\n",
       "     4,\n",
       "     5,\n",
       "     6,\n",
       "     7,\n",
       "     8,\n",
       "     9,\n",
       "     10,\n",
       "     11,\n",
       "     12,\n",
       "     13,\n",
       "     14,\n",
       "     15,\n",
       "     16],\n",
       "    'class_weight': ['balanced']}]},\n",
       " 'KNearestNeighbor': {'model': KNeighborsClassifier(),\n",
       "  'params': [{'n_neighbors': [1, 2, 3, 4, 5]}]},\n",
       " 'NaiveBayes': {'model': GaussianNB(),\n",
       "  'params': [{'var_smoothing': [0.1,\n",
       "     0.01,\n",
       "     0.001,\n",
       "     0.0001,\n",
       "     1e-05,\n",
       "     1e-06,\n",
       "     1e-07,\n",
       "     1e-08,\n",
       "     1e-09,\n",
       "     1e-10,\n",
       "     1e-11,\n",
       "     1e-12]}]}}"
      ]
     },
     "execution_count": 22,
     "metadata": {},
     "output_type": "execute_result"
    }
   ],
   "source": [
    "scorings = ['accuracy','precision_macro','recall_macro','f1_macro']\n",
    "\n",
    "models = {\n",
    "    \"Decision Tree\": {\n",
    "        \"model\": DecisionTreeClassifier(random_state=random_state),\n",
    "        \"params\": [{\"max_depth\": list(range(1, dt.get_depth() + 1)), 'class_weight': ['balanced']}]\n",
    "    },\n",
    "    \"KNearestNeighbor\": {\n",
    "        \"model\": KNeighborsClassifier(),\n",
    "        \"params\": [{\"n_neighbors\": list(range(1, kn.n_neighbors + 1))}]\n",
    "    },\n",
    "    \"NaiveBayes\": {\n",
    "        \"model\": GaussianNB(),\n",
    "        \"params\": [{\"var_smoothing\": [10**exp for exp in range(-1, -13, -1)]}]\n",
    "    }\n",
    "}\n",
    "\n",
    "models"
   ]
  },
  {
   "cell_type": "markdown",
   "id": "e813b025-0b1c-43a3-93f1-55ebfd6f7c46",
   "metadata": {},
   "source": [
    "let's now cross validate the classifiers using GridSearchCV."
   ]
  },
  {
   "cell_type": "code",
   "execution_count": 36,
   "id": "5fe8d0be-6215-4f85-9d16-efab738d9788",
   "metadata": {},
   "outputs": [
    {
     "name": "stdout",
     "output_type": "stream",
     "text": [
      "evaluating Decision Tree for accuracy\n",
      "evaluating KNearestNeighbor for accuracy\n",
      "evaluating NaiveBayes for accuracy\n",
      "evaluating Decision Tree for precision_macro\n"
     ]
    },
    {
     "name": "stderr",
     "output_type": "stream",
     "text": [
      "/Users/ilcors-dev/src/unibo/unibo-MLDM/.venv/lib/python3.13/site-packages/sklearn/metrics/_classification.py:1565: UndefinedMetricWarning: Precision is ill-defined and being set to 0.0 in labels with no predicted samples. Use `zero_division` parameter to control this behavior.\n",
      "  _warn_prf(average, modifier, f\"{metric.capitalize()} is\", len(result))\n",
      "/Users/ilcors-dev/src/unibo/unibo-MLDM/.venv/lib/python3.13/site-packages/sklearn/metrics/_classification.py:1565: UndefinedMetricWarning: Precision is ill-defined and being set to 0.0 in labels with no predicted samples. Use `zero_division` parameter to control this behavior.\n",
      "  _warn_prf(average, modifier, f\"{metric.capitalize()} is\", len(result))\n",
      "/Users/ilcors-dev/src/unibo/unibo-MLDM/.venv/lib/python3.13/site-packages/sklearn/metrics/_classification.py:1565: UndefinedMetricWarning: Precision is ill-defined and being set to 0.0 in labels with no predicted samples. Use `zero_division` parameter to control this behavior.\n",
      "  _warn_prf(average, modifier, f\"{metric.capitalize()} is\", len(result))\n",
      "/Users/ilcors-dev/src/unibo/unibo-MLDM/.venv/lib/python3.13/site-packages/sklearn/metrics/_classification.py:1565: UndefinedMetricWarning: Precision is ill-defined and being set to 0.0 in labels with no predicted samples. Use `zero_division` parameter to control this behavior.\n",
      "  _warn_prf(average, modifier, f\"{metric.capitalize()} is\", len(result))\n",
      "/Users/ilcors-dev/src/unibo/unibo-MLDM/.venv/lib/python3.13/site-packages/sklearn/metrics/_classification.py:1565: UndefinedMetricWarning: Precision is ill-defined and being set to 0.0 in labels with no predicted samples. Use `zero_division` parameter to control this behavior.\n",
      "  _warn_prf(average, modifier, f\"{metric.capitalize()} is\", len(result))\n"
     ]
    },
    {
     "name": "stdout",
     "output_type": "stream",
     "text": [
      "evaluating KNearestNeighbor for precision_macro\n",
      "evaluating NaiveBayes for precision_macro\n",
      "evaluating Decision Tree for recall_macro\n",
      "evaluating KNearestNeighbor for recall_macro\n",
      "evaluating NaiveBayes for recall_macro\n",
      "evaluating Decision Tree for f1_macro\n",
      "evaluating KNearestNeighbor for f1_macro\n",
      "evaluating NaiveBayes for f1_macro\n"
     ]
    }
   ],
   "source": [
    "results = pd.DataFrame(columns=['scoring', 'model', 'best_params', 'accuracy', 'precision_macro', 'recall_macro', 'f1_macro'])\n",
    "classifiers = []\n",
    "\n",
    "for scoring in scorings:\n",
    "    for name, settings in models.items():\n",
    "        print(f\"evaluating {name} for {scoring}\")\n",
    "    \n",
    "        clf = GridSearchCV(settings['model'], settings['params'], cv=5, scoring=scoring)\n",
    "    \n",
    "        clf.fit(X_train, y_train)\n",
    "        classifiers.append(clf)\n",
    "        \n",
    "        y_true, y_pred = y_test, clf.predict(X_test)\n",
    "        report = classification_report(y_true, y_pred, output_dict=True, zero_division=0)\n",
    "        results.loc[len(results)] = [scoring,\n",
    "                                    name,\n",
    "                                    clf.best_params_,\n",
    "                                    report['accuracy'],\n",
    "                                    report['macro avg']['precision'],\n",
    "                                    report['macro avg']['recall'],\n",
    "                                    report['macro avg']['f1-score']]"
   ]
  },
  {
   "cell_type": "markdown",
   "id": "547ada49-44b6-4dac-8ece-44604e67cb32",
   "metadata": {},
   "source": [
    "let's sort the results by the 'precision' score in descending order to see which model performed better"
   ]
  },
  {
   "cell_type": "code",
   "execution_count": 49,
   "id": "865d55b6-bd72-4617-86c5-67bbdd72a415",
   "metadata": {},
   "outputs": [
    {
     "data": {
      "text/html": [
       "<div>\n",
       "<style scoped>\n",
       "    .dataframe tbody tr th:only-of-type {\n",
       "        vertical-align: middle;\n",
       "    }\n",
       "\n",
       "    .dataframe tbody tr th {\n",
       "        vertical-align: top;\n",
       "    }\n",
       "\n",
       "    .dataframe thead th {\n",
       "        text-align: right;\n",
       "    }\n",
       "</style>\n",
       "<table border=\"1\" class=\"dataframe\">\n",
       "  <thead>\n",
       "    <tr style=\"text-align: right;\">\n",
       "      <th></th>\n",
       "      <th>scoring</th>\n",
       "      <th>model</th>\n",
       "      <th>best_params</th>\n",
       "      <th>accuracy</th>\n",
       "      <th>precision_macro</th>\n",
       "      <th>recall_macro</th>\n",
       "      <th>f1_macro</th>\n",
       "    </tr>\n",
       "  </thead>\n",
       "  <tbody>\n",
       "    <tr>\n",
       "      <th>4</th>\n",
       "      <td>precision_macro</td>\n",
       "      <td>KNearestNeighbor</td>\n",
       "      <td>{'n_neighbors': 3}</td>\n",
       "      <td>0.859060</td>\n",
       "      <td>0.862124</td>\n",
       "      <td>0.859461</td>\n",
       "      <td>0.857984</td>\n",
       "    </tr>\n",
       "    <tr>\n",
       "      <th>3</th>\n",
       "      <td>precision_macro</td>\n",
       "      <td>Decision Tree</td>\n",
       "      <td>{'class_weight': 'balanced', 'max_depth': 9}</td>\n",
       "      <td>0.832215</td>\n",
       "      <td>0.837308</td>\n",
       "      <td>0.832546</td>\n",
       "      <td>0.830306</td>\n",
       "    </tr>\n",
       "    <tr>\n",
       "      <th>5</th>\n",
       "      <td>precision_macro</td>\n",
       "      <td>NaiveBayes</td>\n",
       "      <td>{'var_smoothing': 0.01}</td>\n",
       "      <td>0.800336</td>\n",
       "      <td>0.801586</td>\n",
       "      <td>0.800281</td>\n",
       "      <td>0.799367</td>\n",
       "    </tr>\n",
       "  </tbody>\n",
       "</table>\n",
       "</div>"
      ],
      "text/plain": [
       "           scoring             model  \\\n",
       "4  precision_macro  KNearestNeighbor   \n",
       "3  precision_macro     Decision Tree   \n",
       "5  precision_macro        NaiveBayes   \n",
       "\n",
       "                                    best_params  accuracy  precision_macro  \\\n",
       "4                            {'n_neighbors': 3}  0.859060         0.862124   \n",
       "3  {'class_weight': 'balanced', 'max_depth': 9}  0.832215         0.837308   \n",
       "5                       {'var_smoothing': 0.01}  0.800336         0.801586   \n",
       "\n",
       "   recall_macro  f1_macro  \n",
       "4      0.859461  0.857984  \n",
       "3      0.832546  0.830306  \n",
       "5      0.800281  0.799367  "
      ]
     },
     "execution_count": 49,
     "metadata": {},
     "output_type": "execute_result"
    }
   ],
   "source": [
    "precision_score = results.sort_values(by='precision_macro', ascending=False)\n",
    "\n",
    "precision_score[precision_score['scoring'] == 'precision_macro']"
   ]
  },
  {
   "cell_type": "markdown",
   "id": "e10bf994-9eee-47f6-91bd-c0752e466655",
   "metadata": {},
   "source": [
    "as we can see, once again the KNearestNeighbor clasifier performed better also for the precision score"
   ]
  },
  {
   "cell_type": "markdown",
   "id": "b7e1b2cf-d459-4bb8-b0e0-bbffc7ee74ea",
   "metadata": {},
   "source": [
    "### 6. For each classification method compute the accuracy and the confusion matrix on the test set (4pt)"
   ]
  },
  {
   "cell_type": "markdown",
   "id": "2e9b3355-2da7-40e4-9c42-3c9402831eef",
   "metadata": {},
   "source": [
    "since we already computed the accuracy, we can proceed to plot the confusion matrix right away"
   ]
  },
  {
   "cell_type": "code",
   "execution_count": 54,
   "id": "7c15cbcd-5e69-46a6-9ad9-41ff60b5967b",
   "metadata": {},
   "outputs": [
    {
     "data": {
      "image/png": "[encoded data removed]",
      "text/plain": [
       "<Figure size 640x480 with 2 Axes>"
      ]
     },
     "metadata": {},
     "output_type": "display_data"
    },
    {
     "data": {
      "image/png": "[encoded data removed]",
      "text/plain": [
       "<Figure size 640x480 with 2 Axes>"
      ]
     },
     "metadata": {},
     "output_type": "display_data"
    },
    {
     "data": {
      "image/png": "[encoded data removed]",
      "text/plain": [
       "<Figure size 640x480 with 2 Axes>"
      ]
     },
     "metadata": {},
     "output_type": "display_data"
    }
   ],
   "source": [
    "for name in models:\n",
    "    models_results = results[results['model'] == name]\n",
    "    best_accuracy_for_model = models_results.loc[results.scoring == 'accuracy', 'accuracy'].idxmax(axis=0)\n",
    "    fig = ConfusionMatrixDisplay.from_estimator(classifiers[best_accuracy_for_model], X_test, y_test)\n",
    "    fig.ax_.set_title(f\"accuracy confusion matrix for {name}\")"
   ]
  },
  {
   "cell_type": "markdown",
   "id": "d07b6ade-12d5-441d-880d-153cfa6a4969",
   "metadata": {},
   "source": [
    "### 7. Produce a plot of the accuracies given by the methods attempted (3pt)"
   ]
  },
  {
   "cell_type": "code",
   "execution_count": 58,
   "id": "2ff256d7-1176-42fa-8246-0cab620e5bfd",
   "metadata": {},
   "outputs": [
    {
     "data": {
      "text/plain": [
       "<BarContainer object of 3 artists>"
      ]
     },
     "execution_count": 58,
     "metadata": {},
     "output_type": "execute_result"
    },
    {
     "data": {
      "image/png": "[encoded data removed]",
      "text/plain": [
       "<Figure size 640x480 with 1 Axes>"
      ]
     },
     "metadata": {},
     "output_type": "display_data"
    }
   ],
   "source": [
    "classifiers_list = [name for name in models.keys()]\n",
    "accuracies = []\n",
    "\n",
    "for name in models:\n",
    "    models_results = results[results['model'] == name]\n",
    "    best_accuracy_for_model = models_results.loc[results.scoring == 'accuracy', 'accuracy'].max(axis=0)\n",
    "    accuracies.append(best_accuracy_for_model)\n",
    "\n",
    "plt.title('accuracy for each classifier')\n",
    "plt.bar(classifiers_list, accuracies)"
   ]
  }
 ],
 "metadata": {
  "kernelspec": {
   "display_name": "Python 3 (ipykernel)",
   "language": "python",
   "name": "python3"
  },
  "language_info": {
   "codemirror_mode": {
    "name": "ipython",
    "version": 3
   },
   "file_extension": ".py",
   "mimetype": "text/x-python",
   "name": "python",
   "nbconvert_exporter": "python",
   "pygments_lexer": "ipython3",
   "version": "3.13.1"
  }
 },
 "nbformat": 4,
 "nbformat_minor": 5
}
