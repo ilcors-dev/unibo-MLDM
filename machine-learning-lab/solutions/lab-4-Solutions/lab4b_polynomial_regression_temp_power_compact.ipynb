{
 "cells": [
  {
   "cell_type": "markdown",
   "metadata": {
    "id": "MRIiBP_AZSsg"
   },
   "source": [
    "# Polynomial regression\n",
    "\n",
    "The example below uses a temperature-energy dataset in order to illustrate how to perform a non linear regression.\n",
    "\n",
    "Workflow:\n",
    "1. Preparation\n",
    "    - Extract the dataset from the _power_demand_vs_temperature.csv_\n",
    "    - Explore the dataset and check for missing values\n",
    "    - Plot the distribution\n",
    "    - Divide the dataset into train and test\n",
    "    - Create an evaluation function\n",
    "2. Second experiment\n",
    "    - Repeat with `degree` varying from 2 to 4: \n",
    "        - Use the sklearn function _PolynomialFeature_ to create a new array of features with degree `degree`. Set _include_bias=False_\n",
    "        - Train a Linear regression model with the new features on the training dataset\n",
    "        - Evaluate the model on the test dataset\n",
    "        - Visualize the predicted values of the model\n",
    "        - Collect the predictions for the final graphic figure\n",
    "    - Show a figure with data and all the predictions\n",
    "6. Compare the evaluation of each model\n"
   ]
  },
  {
   "cell_type": "code",
   "execution_count": 7,
   "metadata": {
    "id": "xF-K-vmWZSsj"
   },
   "outputs": [],
   "source": [
    "# Code source: Filippo Orazi\n",
    "# License: BSD 3 clause\n",
    "\n",
    "import matplotlib.pyplot as plt\n",
    "import numpy as np\n",
    "import scipy.stats\n",
    "from sklearn import datasets, linear_model\n",
    "from sklearn.metrics import mean_squared_error, r2_score\n",
    "import pandas as pd\n",
    "from sklearn.preprocessing import PolynomialFeatures\n",
    "from sklearn.linear_model import LinearRegression\n",
    "\n",
    "random_state = 42 # this will be used to guarantee the repeatability of the experiment"
   ]
  },
  {
   "cell_type": "markdown",
   "metadata": {
    "id": "cmgaxECXZSsm"
   },
   "source": [
    "## Dataset preparation"
   ]
  },
  {
   "cell_type": "markdown",
   "metadata": {
    "id": "J2gzB2TJZSsm"
   },
   "source": [
    "### Load the dataset from a `.csv` file\n",
    "This cell allows full compatibility between execution in Google Colab and in local\n"
   ]
  },
  {
   "cell_type": "code",
   "execution_count": 8,
   "metadata": {
    "colab": {
     "base_uri": "https://localhost:8080/",
     "height": 73
    },
    "id": "1tgU-OVBZSsn",
    "outputId": "28929848-6b49-43c0-b844-b13510280a3e"
   },
   "outputs": [],
   "source": [
    "try:\n",
    "  from google.colab import files\n",
    "  IN_COLAB = True\n",
    "except:\n",
    "  IN_COLAB = False\n",
    "if IN_COLAB:\n",
    "    uploaded = files.upload()\n"
   ]
  },
  {
   "cell_type": "markdown",
   "metadata": {
    "id": "AvDFDb8_ZSsn"
   },
   "source": [
    "The file must be available in the same directory, or uploaded in the Colab environment in the execution of the previous cell\n"
   ]
  },
  {
   "cell_type": "markdown",
   "metadata": {
    "id": "Zuybcmb4ZSsn"
   },
   "source": [
    "Set the date column as index"
   ]
  },
  {
   "cell_type": "code",
   "execution_count": 11,
   "metadata": {
    "colab": {
     "base_uri": "https://localhost:8080/",
     "height": 237
    },
    "id": "X15A4cq1ZSsn",
    "outputId": "cc073e01-d031-4728-8f22-bd9b4fc70044"
   },
   "outputs": [
    {
     "data": {
      "text/html": [
       "<div>\n",
       "<style scoped>\n",
       "    .dataframe tbody tr th:only-of-type {\n",
       "        vertical-align: middle;\n",
       "    }\n",
       "\n",
       "    .dataframe tbody tr th {\n",
       "        vertical-align: top;\n",
       "    }\n",
       "\n",
       "    .dataframe thead th {\n",
       "        text-align: right;\n",
       "    }\n",
       "</style>\n",
       "<table border=\"1\" class=\"dataframe\">\n",
       "  <thead>\n",
       "    <tr style=\"text-align: right;\">\n",
       "      <th></th>\n",
       "      <th>demand</th>\n",
       "      <th>temp</th>\n",
       "    </tr>\n",
       "    <tr>\n",
       "      <th>date</th>\n",
       "      <th></th>\n",
       "      <th></th>\n",
       "    </tr>\n",
       "  </thead>\n",
       "  <tbody>\n",
       "    <tr>\n",
       "      <th>2015-01-01</th>\n",
       "      <td>1.736065</td>\n",
       "      <td>1.7</td>\n",
       "    </tr>\n",
       "    <tr>\n",
       "      <th>2015-01-02</th>\n",
       "      <td>1.831672</td>\n",
       "      <td>2.2</td>\n",
       "    </tr>\n",
       "    <tr>\n",
       "      <th>2015-01-03</th>\n",
       "      <td>1.714934</td>\n",
       "      <td>14.4</td>\n",
       "    </tr>\n",
       "    <tr>\n",
       "      <th>2015-01-04</th>\n",
       "      <td>1.628577</td>\n",
       "      <td>15.6</td>\n",
       "    </tr>\n",
       "    <tr>\n",
       "      <th>2015-01-05</th>\n",
       "      <td>2.045394</td>\n",
       "      <td>0.0</td>\n",
       "    </tr>\n",
       "  </tbody>\n",
       "</table>\n",
       "</div>"
      ],
      "text/plain": [
       "              demand  temp\n",
       "date                      \n",
       "2015-01-01  1.736065   1.7\n",
       "2015-01-02  1.831672   2.2\n",
       "2015-01-03  1.714934  14.4\n",
       "2015-01-04  1.628577  15.6\n",
       "2015-01-05  2.045394   0.0"
      ]
     },
     "execution_count": 11,
     "metadata": {},
     "output_type": "execute_result"
    }
   ],
   "source": [
    "data_fn = '../../exercises/Lab-topic-4-regression/power_demand_vs_temperature.csv'\n",
    "df0 = pd.read_csv(data_fn, index_col=0)\n",
    "df0.head()"
   ]
  },
  {
   "cell_type": "markdown",
   "metadata": {
    "id": "lxC8JL4KZSso"
   },
   "source": [
    "### Explore the dataset and check for missing values\n"
   ]
  },
  {
   "cell_type": "code",
   "execution_count": 12,
   "metadata": {
    "colab": {
     "base_uri": "https://localhost:8080/",
     "height": 300
    },
    "id": "cfoUqV7pZSso",
    "outputId": "ff6284b7-300a-4a7c-80f1-22f16634f2c7"
   },
   "outputs": [
    {
     "data": {
      "text/html": [
       "<div>\n",
       "<style scoped>\n",
       "    .dataframe tbody tr th:only-of-type {\n",
       "        vertical-align: middle;\n",
       "    }\n",
       "\n",
       "    .dataframe tbody tr th {\n",
       "        vertical-align: top;\n",
       "    }\n",
       "\n",
       "    .dataframe thead th {\n",
       "        text-align: right;\n",
       "    }\n",
       "</style>\n",
       "<table border=\"1\" class=\"dataframe\">\n",
       "  <thead>\n",
       "    <tr style=\"text-align: right;\">\n",
       "      <th></th>\n",
       "      <th>demand</th>\n",
       "      <th>temp</th>\n",
       "    </tr>\n",
       "  </thead>\n",
       "  <tbody>\n",
       "    <tr>\n",
       "      <th>count</th>\n",
       "      <td>1096.000000</td>\n",
       "      <td>1096.000000</td>\n",
       "    </tr>\n",
       "    <tr>\n",
       "      <th>mean</th>\n",
       "      <td>1.831796</td>\n",
       "      <td>16.927737</td>\n",
       "    </tr>\n",
       "    <tr>\n",
       "      <th>std</th>\n",
       "      <td>0.329434</td>\n",
       "      <td>10.791581</td>\n",
       "    </tr>\n",
       "    <tr>\n",
       "      <th>min</th>\n",
       "      <td>1.316033</td>\n",
       "      <td>-15.000000</td>\n",
       "    </tr>\n",
       "    <tr>\n",
       "      <th>25%</th>\n",
       "      <td>1.581654</td>\n",
       "      <td>8.900000</td>\n",
       "    </tr>\n",
       "    <tr>\n",
       "      <th>50%</th>\n",
       "      <td>1.731479</td>\n",
       "      <td>18.900000</td>\n",
       "    </tr>\n",
       "    <tr>\n",
       "      <th>75%</th>\n",
       "      <td>2.024869</td>\n",
       "      <td>26.100000</td>\n",
       "    </tr>\n",
       "    <tr>\n",
       "      <th>max</th>\n",
       "      <td>2.804025</td>\n",
       "      <td>33.900000</td>\n",
       "    </tr>\n",
       "  </tbody>\n",
       "</table>\n",
       "</div>"
      ],
      "text/plain": [
       "            demand         temp\n",
       "count  1096.000000  1096.000000\n",
       "mean      1.831796    16.927737\n",
       "std       0.329434    10.791581\n",
       "min       1.316033   -15.000000\n",
       "25%       1.581654     8.900000\n",
       "50%       1.731479    18.900000\n",
       "75%       2.024869    26.100000\n",
       "max       2.804025    33.900000"
      ]
     },
     "execution_count": 12,
     "metadata": {},
     "output_type": "execute_result"
    }
   ],
   "source": [
    "df0.describe(include='all')"
   ]
  },
  {
   "cell_type": "code",
   "execution_count": 13,
   "metadata": {
    "colab": {
     "base_uri": "https://localhost:8080/"
    },
    "id": "ucpxiRrAZSso",
    "outputId": "58a2f6dd-bd8e-4898-c538-e9b9bbec46ad"
   },
   "outputs": [
    {
     "name": "stdout",
     "output_type": "stream",
     "text": [
      "The dataframe has 0 invalid rows\n"
     ]
    }
   ],
   "source": [
    "print(f\"The dataframe has {df0.shape[0]-df0.dropna().shape[0]} invalid rows\")"
   ]
  },
  {
   "cell_type": "markdown",
   "metadata": {
    "id": "bSplqX8iZSsp"
   },
   "source": [
    "### Create X and y"
   ]
  },
  {
   "cell_type": "code",
   "execution_count": 14,
   "metadata": {
    "colab": {
     "base_uri": "https://localhost:8080/"
    },
    "id": "30bObxxIZSsp",
    "outputId": "23638648-84c8-45bf-e7a7-49fa2c11828d"
   },
   "outputs": [
    {
     "name": "stdout",
     "output_type": "stream",
     "text": [
      "X has shape(1096, 1)\n",
      "Y has shape(1096,)\n"
     ]
    }
   ],
   "source": [
    "X = df0.drop(\"demand\", axis=1)\n",
    "y = df0[\"demand\"]\n",
    "print(f\"X has shape{X.shape}\")\n",
    "print(f\"Y has shape{y.shape}\")"
   ]
  },
  {
   "cell_type": "markdown",
   "metadata": {
    "id": "iH_tvLdQZSsp"
   },
   "source": [
    "### Plot the distribution\n",
    "\n"
   ]
  },
  {
   "cell_type": "code",
   "execution_count": 15,
   "metadata": {
    "id": "6d18fzM2ZSsp"
   },
   "outputs": [],
   "source": [
    "import warnings\n",
    "warnings.filterwarnings(\"ignore\")"
   ]
  },
  {
   "cell_type": "code",
   "execution_count": 16,
   "metadata": {
    "colab": {
     "base_uri": "https://localhost:8080/",
     "height": 449
    },
    "id": "00xEqXtLZSsq",
    "outputId": "68f329a0-3146-444a-b206-68211c3c5ab1"
   },
   "outputs": [
    {
     "data": {
      "image/png": "[encoded data removed]",
      "text/plain": [
       "<Figure size 640x480 with 1 Axes>"
      ]
     },
     "metadata": {},
     "output_type": "display_data"
    }
   ],
   "source": [
    "plt.scatter(X,y)\n",
    "plt.xlabel(\"Temperature\");\n",
    "plt.ylabel(\"Demand\");\n",
    "plt.show()"
   ]
  },
  {
   "cell_type": "markdown",
   "metadata": {
    "id": "t58xDlwJZSsq"
   },
   "source": [
    "### Divide the dataset in train test split"
   ]
  },
  {
   "cell_type": "code",
   "execution_count": 17,
   "metadata": {
    "colab": {
     "base_uri": "https://localhost:8080/"
    },
    "id": "2PNrGd9TZSsq",
    "outputId": "601ab37b-ffd7-41f0-9c99-4a4d65e8262e"
   },
   "outputs": [
    {
     "name": "stdout",
     "output_type": "stream",
     "text": [
      "Training set and test set have 767 and 329 elements respectively\n"
     ]
    }
   ],
   "source": [
    "from sklearn.model_selection import train_test_split\n",
    "X_train, X_test, y_train, y_test = train_test_split(X,y,random_state=random_state, train_size=0.7)\n",
    "print('Training set and test set have {} and {} elements respectively'.format(X_train.shape[0],X_test.shape[0]))"
   ]
  },
  {
   "cell_type": "markdown",
   "metadata": {
    "id": "ykm0n3RaZSsr"
   },
   "source": [
    "### Create an evaluation function to compute, print and return the metrics: rmse r2 f-statistic and p-value"
   ]
  },
  {
   "cell_type": "code",
   "execution_count": 18,
   "metadata": {
    "id": "tyKVa_SbZSsr"
   },
   "outputs": [],
   "source": [
    "def f_test(y_true, y_pred, n_var, n_obs):\n",
    "    \"\"\" Computation of F-statistic and p-value for the regression\n",
    "    http://facweb.cs.depaul.edu/sjost/csc423/documents/f-test-reg.htm\n",
    "    Requires: np (numpy) and scipy.stats\n",
    "\n",
    "    Arguments:\n",
    "    y_true: ground truth\n",
    "    y_pred: predictions\n",
    "    n_var: number of predicting variables\n",
    "    n_obs: number of observations (the length of y_true and y_pred)\n",
    "\n",
    "    Returns:\n",
    "    F: F statistics\n",
    "    p: p-value\n",
    "    \"\"\"\n",
    "    y_true = np.array(y_true)\n",
    "    y_pred = np.array(y_pred)\n",
    "    n = n_obs\n",
    "    p = n_var+1 # number of regression parameters (coefficients + intercept)\n",
    "    y_true_m = np.mean(y_true)\n",
    "    SSM = np.sum((y_pred-y_true_m)**2)\n",
    "    SST = np.sum((y_true-y_true_m)**2)\n",
    "    SSE = np.sum((y_true-y_pred)**2)\n",
    "    DFT = n - 1\n",
    "    DFM = p - 1 # degrees of freedom for model - numerator\n",
    "    DFE = n - p # degrees of freedom for error - denominator\n",
    "    DFT = n - 1\n",
    "    MSM = SSM / DFM\n",
    "    MSE = SSE / DFE\n",
    "    MST = SST / DFT\n",
    "    F = MSM / MSE\n",
    "    # f = np.var(x, ddof=1)/np.var(y, ddof=1) #calculate F test statistic\n",
    "    p = 1-scipy.stats.f.cdf(F, DFM, DFE) #find p-value of F test statistic\n",
    "    return F, p\n",
    "\n",
    "def print_eval(X, y, model):\n",
    "    \"\"\" Predicts for X given a fitted model and\n",
    "        prints prediction quality with respect to y\n",
    "    Requires f_test (returning F and p-value), mean_squared_error, r2_score\n",
    "\n",
    "    Arguments:\n",
    "    X : array-like predicting data\n",
    "    y : ground truth\n",
    "    model: predictor fitted model\n",
    "\n",
    "    Return: MSE, r2_score, F, p-value\n",
    "    \"\"\"\n",
    "    pred = model.predict(X)\n",
    "    F, p = f_test(y, pred, X.shape[1], X.shape[0])\n",
    "    print(\" Mean squared error: \\t{:.5}\".format(mean_squared_error(y,pred)))\n",
    "    print(\" r2 score: \\t\\t{:.5}\".format(r2_score(y,pred)))\n",
    "    print(\" f-statistic: \\t\\t{:.5}\".format(F))\n",
    "    print(\" p-value: \\t\\t{:.5}\".format(p))\n",
    "    return mean_squared_error(pred, y), r2_score(y,pred), F, p\n"
   ]
  },
  {
   "cell_type": "markdown",
   "metadata": {
    "id": "QHaXAeQEZSss"
   },
   "source": [
    "## First experiment\n",
    "Create a linear model\n",
    "\n",
    "Train the model on X_train and y_train\n",
    "\n",
    "Evaluate the model on X_test and y_test\n"
   ]
  },
  {
   "cell_type": "code",
   "execution_count": 19,
   "metadata": {
    "id": "jYlvgBkAYDZ9"
   },
   "outputs": [],
   "source": [
    "results = {} # prepare a dictionary that will contain the results of the experiments"
   ]
  },
  {
   "cell_type": "code",
   "execution_count": 20,
   "metadata": {
    "colab": {
     "base_uri": "https://localhost:8080/"
    },
    "id": "gc-RAb6GZSss",
    "outputId": "65a10d48-d973-4ece-9cb3-52a03ae2b08c"
   },
   "outputs": [
    {
     "name": "stdout",
     "output_type": "stream",
     "text": [
      " Mean squared error: \t0.10165\n",
      " r2 score: \t\t0.16809\n",
      " f-statistic: \t\t44.576\n",
      " p-value: \t\t1.0503e-10\n"
     ]
    }
   ],
   "source": [
    "lmodel = LinearRegression()\n",
    "lmodel.fit(X_train, y_train)\n",
    "results['linear'] = print_eval(X_test, y_test, lmodel)"
   ]
  },
  {
   "cell_type": "markdown",
   "metadata": {
    "id": "yTQfnXkyZSst"
   },
   "source": [
    "#### Visualize the prediction of the model"
   ]
  },
  {
   "cell_type": "code",
   "execution_count": 13,
   "metadata": {
    "colab": {
     "base_uri": "https://localhost:8080/",
     "height": 430
    },
    "id": "DkMDwjcrZSst",
    "outputId": "c1dd2c80-43b4-4345-ba66-c9469dae1a5f"
   },
   "outputs": [
    {
     "data": {
      "image/png": "[encoded data removed]",
      "text/plain": [
       "<Figure size 640x480 with 1 Axes>"
      ]
     },
     "metadata": {},
     "output_type": "display_data"
    }
   ],
   "source": [
    "lpred = lmodel.predict(np.arange(min(X.temp), max(X.temp)).reshape(-1,1))\n",
    "plt.plot(np.arange(min(X.temp), max(X.temp)),lpred, label = \"lin\", color = \"red\")\n",
    "plt.legend()\n",
    "plt.scatter(X,y)\n",
    "plt.show();"
   ]
  },
  {
   "cell_type": "markdown",
   "metadata": {
    "id": "4slqOtSCZSst"
   },
   "source": [
    "## Second experiment - Polynomial regression\n",
    "We can clearly see that the linear regression model cannot really approximate the data distribution.\n",
    "\n",
    "We can now try with a polynomial regression model with varying degree.\n",
    "\n",
    "- Repeat with `degree` varying from 2 to 4: \n",
    "    - Use the sklearn function _PolynomialFeature_ to create a new array of features with degree `degree`. Set _include_bias=False_\n",
    "    - Train a Linear regression model with the new features on the training dataset\n",
    "    - Evaluate the model on the test dataset\n",
    "    - Visualize the predicted values of the model\n",
    "    - Collect the predictions for the final graphic figure\n",
    "- Show the figure with data and all the predictions\n"
   ]
  },
  {
   "cell_type": "code",
   "execution_count": 21,
   "metadata": {
    "colab": {
     "base_uri": "https://localhost:8080/",
     "height": 690
    },
    "id": "BXYOboKCboVe",
    "outputId": "34145301-2d78-4f96-dfa8-e23a75ea55b3"
   },
   "outputs": [
    {
     "name": "stdout",
     "output_type": "stream",
     "text": [
      "Polynomial with degree 2\n",
      " Mean squared error: \t0.033456\n",
      " r2 score: \t\t0.72619\n",
      " f-statistic: \t\t384.89\n",
      " p-value: \t\t1.1102e-16\n",
      "Polynomial with degree 3\n",
      " Mean squared error: \t0.021749\n",
      " r2 score: \t\t0.822\n",
      " f-statistic: \t\t502.32\n",
      " p-value: \t\t1.1102e-16\n",
      "Polynomial with degree 4\n",
      " Mean squared error: \t0.021334\n",
      " r2 score: \t\t0.8254\n",
      " f-statistic: \t\t390.05\n",
      " p-value: \t\t1.1102e-16\n"
     ]
    },
    {
     "data": {
      "image/png": "[encoded data removed]",
      "text/plain": [
       "<Figure size 640x480 with 1 Axes>"
      ]
     },
     "metadata": {},
     "output_type": "display_data"
    }
   ],
   "source": [
    "degrees = list(range(2,5))\n",
    "for degree in degrees:\n",
    "  polFea = PolynomialFeatures(degree,include_bias=False)\n",
    "  X_poly = polFea.fit_transform(X_train.values)#.reshape(-1,1))\n",
    "  model = LinearRegression()\n",
    "  model.fit(X_poly, y_train);\n",
    "  print(\"Polynomial with degree {}\".format(degree))\n",
    "  results['polynomial'+str(degree)] = print_eval(polFea.transform(X_test), y_test, model)\n",
    "  pred = model.predict(polFea.transform((np.arange(min(X.temp), max(X.temp))).reshape(-1,1)))\n",
    "  plt.plot(np.arange(min(X.temp), max(X.temp)),pred, label = \"poly\"+str(degree))\n",
    "  plt.legend()\n",
    "plt.scatter(X,y)\n",
    "plt.show();"
   ]
  },
  {
   "cell_type": "markdown",
   "metadata": {
    "id": "2eBdo1DsZSsy"
   },
   "source": [
    "## Compare the performance of the four models"
   ]
  },
  {
   "cell_type": "code",
   "execution_count": 15,
   "metadata": {
    "colab": {
     "base_uri": "https://localhost:8080/",
     "height": 174
    },
    "id": "0IfkYa2-ZSsz",
    "outputId": "c70b8f44-4164-4e87-de00-3654bb414014"
   },
   "outputs": [
    {
     "data": {
      "text/html": [
       "<div>\n",
       "<style scoped>\n",
       "    .dataframe tbody tr th:only-of-type {\n",
       "        vertical-align: middle;\n",
       "    }\n",
       "\n",
       "    .dataframe tbody tr th {\n",
       "        vertical-align: top;\n",
       "    }\n",
       "\n",
       "    .dataframe thead th {\n",
       "        text-align: right;\n",
       "    }\n",
       "</style>\n",
       "<table border=\"1\" class=\"dataframe\">\n",
       "  <thead>\n",
       "    <tr style=\"text-align: right;\">\n",
       "      <th></th>\n",
       "      <th>linear</th>\n",
       "      <th>polynomial2</th>\n",
       "      <th>polynomial3</th>\n",
       "      <th>polynomial4</th>\n",
       "    </tr>\n",
       "  </thead>\n",
       "  <tbody>\n",
       "    <tr>\n",
       "      <th>rmse</th>\n",
       "      <td>0.10165</td>\n",
       "      <td>0.03346</td>\n",
       "      <td>0.02175</td>\n",
       "      <td>0.02133</td>\n",
       "    </tr>\n",
       "    <tr>\n",
       "      <th>r2</th>\n",
       "      <td>0.16809</td>\n",
       "      <td>0.72619</td>\n",
       "      <td>0.82200</td>\n",
       "      <td>0.82540</td>\n",
       "    </tr>\n",
       "    <tr>\n",
       "      <th>f-statistic</th>\n",
       "      <td>44.57638</td>\n",
       "      <td>384.88651</td>\n",
       "      <td>502.31829</td>\n",
       "      <td>390.04543</td>\n",
       "    </tr>\n",
       "    <tr>\n",
       "      <th>p-value</th>\n",
       "      <td>0.00000</td>\n",
       "      <td>0.00000</td>\n",
       "      <td>0.00000</td>\n",
       "      <td>0.00000</td>\n",
       "    </tr>\n",
       "  </tbody>\n",
       "</table>\n",
       "</div>"
      ],
      "text/plain": [
       "              linear  polynomial2  polynomial3  polynomial4\n",
       "rmse         0.10165      0.03346      0.02175      0.02133\n",
       "r2           0.16809      0.72619      0.82200      0.82540\n",
       "f-statistic 44.57638    384.88651    502.31829    390.04543\n",
       "p-value      0.00000      0.00000      0.00000      0.00000"
      ]
     },
     "execution_count": 15,
     "metadata": {},
     "output_type": "execute_result"
    }
   ],
   "source": [
    "pd.options.display.float_format = '{:,.5f}'.format\n",
    "res = pd.DataFrame(results, index = ['rmse'\n",
    "                     , 'r2'\n",
    "                     , 'f-statistic'\n",
    "                     , 'p-value'])\n",
    "res"
   ]
  },
  {
   "cell_type": "markdown",
   "metadata": {},
   "source": [
    "## Comments\n",
    "- **rmse** is much smaller in the polynomial experiments than in the linear one, therefore the polynomial regressions are better\n",
    "- the values of R<sup>2</sup> confirm the previous observation\n",
    "- the values of the **f-statistics** confirm the previous observation\n",
    "- the **p-values** are extremely low in all the experiments, therefore all the models are *statistically significant*"
   ]
  },
  {
   "cell_type": "markdown",
   "metadata": {
    "id": "7fVaioqgZSsz"
   },
   "source": [
    "# Appendix: interpretation of the measures\n",
    "\n",
    "## **RMSE** \n",
    "The **Root Mean Squared Error** is a measure of the average magnitude of the errors between predicted and observed values in a regression model. It provides an indication of how well the model is performing in terms of predicting the dependent variable. Here's how you can interpret RMSE in a regression model:\n",
    "\n",
    "1. **Scale of the RMSE:**\n",
    "   - RMSE is expressed in the same units as the dependent variable. For example, if your dependent variable is in dollars, the RMSE will also be in dollars.\n",
    "\n",
    "2. **Magnitude of the RMSE:**\n",
    "   - A lower RMSE indicates better model performance. It means that, on average, the model's predictions are closer to the actual values.\n",
    "\n",
    "3. **Comparison with the Range of the Dependent Variable:**\n",
    "   - You can compare the RMSE with the range of the dependent variable to get a sense of the relative performance. If the RMSE is small compared to the range of the dependent variable, it suggests good predictive performance.\n",
    "\n",
    "4. **Relative Comparison:**\n",
    "   - If you have multiple models, compare their RMSE values. The model with the lower RMSE is generally considered better at predicting the dependent variable.\n",
    "\n",
    "5. **Practical Significance:**\n",
    "   - Consider the practical significance of the RMSE. Sometimes, a model may have a statistically significant improvement in RMSE but the improvement might not be practically significant or meaningful in the real-world context. Always interpret the RMSE in the context of your specific application.\n",
    "\n",
    "6. **Outliers:**\n",
    "   - Be aware that RMSE is sensitive to outliers. If your data has outliers, they can disproportionately influence the RMSE. In such cases, consider using other evaluation metrics or addressing outliers in your data.\n",
    "\n",
    "In summary, a lower RMSE generally indicates better model performance, but the interpretation should be context-specific. Always consider the nature of your data and the goals of your analysis when assessing the significance of the RMSE in a regression model. Additionally, it's often helpful to use multiple evaluation metrics and consider other factors like the model's interpretability and practical utility.\n",
    "\n",
    "## **R2**\n",
    "The **coefficient of determination**, often denoted as R-squared (R²), is a statistical measure in regression analysis that represents the proportion of the variance in the dependent variable that is explained by the independent variables in the model. Here's how you can interpret R² in a regression model:\n",
    "\n",
    "1. **Percentage of Variance Explained:**\n",
    "   - R² is expressed as a percentage and ranges from 0% to 100%. A higher R² indicates that a larger proportion of the variance in the dependent variable is explained by the independent variables in the model.\n",
    "\n",
    "2. **Interpretation of R² Values:**\n",
    "   - R² values can be interpreted as follows:\n",
    "      - 0%: The model does not explain any of the variability in the dependent variable.\n",
    "      - 100%: The model explains all of the variability in the dependent variable.\n",
    "      - Values in between: The model explains a certain percentage of the variability, with higher values indicating better explanatory power.\n",
    "\n",
    "3. **Comparison with a Null Model:**\n",
    "   - You can compare the R² of your model with the R² of a null model. The null model typically predicts the mean or a constant value for the dependent variable. If your model's R² is significantly higher than that of the null model, it suggests that your model provides a better fit than a simple mean-based model.\n",
    "\n",
    "4. **Limitations of R²:**\n",
    "   - R² does not indicate the goodness of fit in an absolute sense. A high R² does not necessarily mean that the model is good or that the predictions are accurate; it only reflects the proportion of variance explained.\n",
    "   - R² does not reveal whether the coefficient estimates are unbiased or whether the model meets other assumptions of regression analysis.\n",
    "\n",
    "5. **Contextual Interpretation:**\n",
    "   - Always interpret R² in the context of your specific application. Depending on the nature of your data and the goals of your analysis, a particular level of R² may be considered acceptable or inadequate.\n",
    "\n",
    "It's important to note that while R² is a useful metric, it should be complemented with other evaluation measures, and the interpretation should consider the specific context of the regression analysis. Additionally, R² is sensitive to the number of predictors, and adjusted R² (which penalizes the inclusion of unnecessary predictors) may be considered in situations with multiple independent variables.\n",
    "\n",
    "## **p-value**\n",
    "In regression analysis, the p-value is a measure that helps you assess the statistical significance of the coefficients of the independent variables in your model. It is associated with hypothesis testing and provides information about whether a particular variable has a significant effect on the dependent variable.\n",
    "\n",
    "Here's a general guideline on interpreting the p-value in a regression model:\n",
    "\n",
    "**Null Hypothesis (H₀)**: <br>\n",
    "The null hypothesis for each independent variable is that there is no relationship between that variable and the dependent variable.\n",
    "Alternate Hypothesis (H₁): The alternate hypothesis is that there is a significant relationship between the independent variable and the dependent variable.\n",
    "\n",
    "**P-value Interpretation**: <br>\n",
    "A low p-value (typically ≤ 0.05) suggests that you can reject the null hypothesis. In other words, there is enough evidence to conclude that there is a statistically significant relationship between the independent variable and the dependent variable.\n",
    "A high p-value (> 0.05) suggests that you fail to reject the null hypothesis. This indicates that there is not enough evidence to conclude that the independent variable has a significant effect on the dependent variable.\n",
    "\n",
    "**Decision Rule**: <br>\n",
    "If p-value ≤ α (usually 0.05), reject the null hypothesis.\n",
    "If p-value > α, fail to reject the null hypothesis.\n",
    "\n",
    "**Implications**: <br>\n",
    "If you reject the null hypothesis, it implies that the variable is likely to have a significant impact on the dependent variable.\n",
    "If you fail to reject the null hypothesis, it suggests that there is not enough evidence to support a significant relationship between the independent variable and the dependent variable.\n",
    "It's important to note that a significant p-value does not imply the strength or practical significance of the relationship; it only indicates the statistical significance. Additionally, a non-significant p-value does not prove the absence of a relationship; it simply means that the evidence is not strong enough to claim significance.\n",
    "\n",
    "Always consider the context of your study and the specific assumptions and limitations associated with your regression model when interpreting p-values.\n",
    "\n",
    "## **F statistics**\n",
    "The F-statistic in a regression model is used to test the overall significance of the model. It assesses whether the regression model, as a whole, provides a better fit to the data than a model with no independent variables (i.e., a model that predicts the dependent variable using only a constant term).\n",
    "\n",
    "Here's how you can interpret the F-statistic in a regression model:\n",
    "\n",
    "1. **Null Hypothesis (H₀):**\n",
    "   - The null hypothesis is that all the coefficients of the independent variables in the model are equal to zero, meaning that these variables do not have a significant impact on predicting the dependent variable.\n",
    "\n",
    "2. **Alternate Hypothesis (H₁):**\n",
    "   - The alternate hypothesis is that at least one of the coefficients of the independent variables is not equal to zero, indicating that the model as a whole is significant.\n",
    "\n",
    "3. **F-Statistic and Significance Level (α):**\n",
    "   - The F-statistic is calculated as the ratio of the variance explained by the model to the variance not explained. The larger the F-statistic, the more evidence there is against the null hypothesis.\n",
    "   - To assess the statistical significance, compare the calculated F-statistic to a critical value from an F-distribution table at a chosen significance level (α), typically 0.05.\n",
    "\n",
    "4. **Decision Rule:**\n",
    "   - If the calculated F-statistic is greater than the critical value, you reject the null hypothesis. This suggests that the regression model is statistically significant, and at least one independent variable has a significant impact on the dependent variable.\n",
    "   - If the calculated F-statistic is not greater than the critical value, you fail to reject the null hypothesis. This implies that the model, as a whole, is not statistically significant.\n",
    "\n",
    "5. **Interpretation:**\n",
    "   - A significant F-statistic indicates that the overall model provides a better fit to the data than a model with no predictors. It doesn't identify which specific predictors are significant, but it suggests that there is evidence that at least one predictor has a non-zero coefficient.\n",
    "\n",
    "It's important to note that a significant F-statistic does not guarantee that each individual coefficient is significant. After establishing the overall significance of the model, you may want to examine the significance of individual coefficients using t-tests.\n",
    "\n",
    "In summary, the F-statistic is a global test of the significance of the regression model, providing insight into whether the inclusion of independent variables collectively improves the model's ability to explain the variability in the dependent variable.\n",
    "\n",
    "## Observing F statistics and p-value together\n",
    "The F-statistic and p-value are related statistical measures used in hypothesis testing, specifically in the context of regression analysis. However, they serve different purposes and convey distinct information:\n",
    "\n",
    "1. **F-Statistic:**\n",
    "   - The F-statistic is a measure of the overall significance of the regression model. It tests whether the model, which includes one or more independent variables, is statistically different from a model with no predictors (i.e., a model that predicts the dependent variable using only a constant term).\n",
    "   - The formula for the F-statistic involves the ratio of the variance explained by the model to the variance not explained.\n",
    "   - A large F-statistic indicates that the regression model is statistically significant, suggesting that at least one independent variable has a significant impact on the dependent variable.\n",
    "\n",
    "2. **P-Value:**\n",
    "   - The p-value associated with the F-statistic is a measure of the probability of obtaining the observed F-statistic (or a more extreme value) if the null hypothesis is true. In the context of regression, the null hypothesis is typically that all coefficients of the independent variables are equal to zero.\n",
    "   - A small p-value (usually ≤ 0.05) indicates that there is enough evidence to reject the null hypothesis. This implies that the regression model is statistically significant, and at least one independent variable has a significant impact on the dependent variable.\n",
    "   - A large p-value suggests that there is not enough evidence to reject the null hypothesis, indicating that the model, as a whole, is not statistically significant.\n",
    "\n",
    "In summary, the F-statistic assesses the overall significance of the regression model, while the p-value associated with the F-statistic indicates the level of significance. Both are crucial in hypothesis testing, and they work together to help you make decisions about the significance of the regression model. If the F-statistic is large and the associated p-value is small, it suggests that the model is statistically significant. If the p-value is large, it implies that the model might not be statistically significant.\n",
    "\n",
    "(Source: ChatGPT answers to several questions)"
   ]
  }
 ],
 "metadata": {
  "colab": {
   "provenance": []
  },
  "kernelspec": {
   "display_name": "Python 3 (ipykernel)",
   "language": "python",
   "name": "python3"
  },
  "language_info": {
   "codemirror_mode": {
    "name": "ipython",
    "version": 3
   },
   "file_extension": ".py",
   "mimetype": "text/x-python",
   "name": "python",
   "nbconvert_exporter": "python",
   "pygments_lexer": "ipython3",
   "version": "3.13.1"
  },
  "vscode": {
   "interpreter": {
    "hash": "7650257707f3238d5df88771c66da47b78c5077cb779498608c81dcf9deec5b5"
   }
  }
 },
 "nbformat": 4,
 "nbformat_minor": 4
}
