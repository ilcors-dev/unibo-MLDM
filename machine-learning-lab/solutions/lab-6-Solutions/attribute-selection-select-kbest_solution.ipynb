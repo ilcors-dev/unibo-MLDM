{
 "cells": [
  {
   "cell_type": "code",
   "execution_count": 1,
   "id": "804a1e82",
   "metadata": {
    "id": "804a1e82"
   },
   "outputs": [],
   "source": [
    "#Tabular Playground Series - Jun 2021\n",
    "#Link Below\n",
    "#https://www.kaggle.com/competitions/tabular-playground-series-jun-2021\n",
    "\n",
    "#Lundquist Griffin griffin.lundquist@studio.unibo.it,\n",
    "#McCallan Oliver, oliver.mccallan@studio.unibo.it\n",
    "#Mendoza Alberto, alberto.mendozaperea@studio.unibo.it\n",
    "#Simon Christopher, ronald.simon@studio.unibo.it\n",
    "#Lanccetti Valerico, valerico.laccetti@studio.unibo.it\n",
    "\n",
    "\n",
    "\n",
    "\n",
    "import warnings\n",
    "warnings.filterwarnings('ignore') # uncomment this line to suppress warnings\n",
    "\n",
    "import pandas as pd\n",
    "import numpy as np\n",
    "import matplotlib.pyplot as plt\n",
    "from sklearn import datasets\n",
    "from sklearn.model_selection import train_test_split, GridSearchCV, StratifiedKFold\n",
    "from sklearn.metrics import classification_report, ConfusionMatrixDisplay\n",
    "from sklearn.svm import SVC\n",
    "from sklearn.linear_model import Perceptron\n",
    "from sklearn.neural_network import MLPClassifier\n",
    "from sklearn.tree import DecisionTreeClassifier\n",
    "from sklearn.naive_bayes import GaussianNB\n",
    "from sklearn.neighbors import KNeighborsClassifier\n",
    "from sklearn.ensemble import AdaBoostClassifier, RandomForestClassifier\n",
    "from sklearn.decomposition import PCA\n",
    "from sklearn.preprocessing import LabelEncoder"
   ]
  },
  {
   "cell_type": "code",
   "execution_count": 2,
   "id": "KMfku5eXOQcW",
   "metadata": {
    "colab": {
     "base_uri": "https://localhost:8080/"
    },
    "id": "KMfku5eXOQcW",
    "outputId": "45f87f82-8d59-44c9-cb52-89776f7a6e49"
   },
   "outputs": [
    {
     "ename": "ModuleNotFoundError",
     "evalue": "No module named 'google'",
     "output_type": "error",
     "traceback": [
      "\u001b[0;31m---------------------------------------------------------------------------\u001b[0m",
      "\u001b[0;31mModuleNotFoundError\u001b[0m                       Traceback (most recent call last)",
      "Cell \u001b[0;32mIn[2], line 1\u001b[0m\n\u001b[0;32m----> 1\u001b[0m \u001b[38;5;28;01mfrom\u001b[39;00m \u001b[38;5;21;01mgoogle\u001b[39;00m\u001b[38;5;21;01m.\u001b[39;00m\u001b[38;5;21;01mcolab\u001b[39;00m \u001b[38;5;28;01mimport\u001b[39;00m drive\n\u001b[1;32m      2\u001b[0m drive\u001b[38;5;241m.\u001b[39mmount(\u001b[38;5;124m'\u001b[39m\u001b[38;5;124m/content/drive\u001b[39m\u001b[38;5;124m'\u001b[39m)\n",
      "\u001b[0;31mModuleNotFoundError\u001b[0m: No module named 'google'"
     ]
    }
   ],
   "source": [
    "from google.colab import drive\n",
    "drive.mount('/content/drive')"
   ]
  },
  {
   "cell_type": "code",
   "execution_count": null,
   "id": "P2BVtJnLOl1m",
   "metadata": {
    "id": "P2BVtJnLOl1m"
   },
   "outputs": [],
   "source": [
    "google_drive_path = '/content/drive/MyDrive/Colab Notebooks/'"
   ]
  },
  {
   "cell_type": "code",
   "execution_count": null,
   "id": "okMNG7t2OYlB",
   "metadata": {
    "id": "okMNG7t2OYlB"
   },
   "outputs": [],
   "source": [
    "# !ls /content/drive/MyDrive/Colab\\ Notebooks"
   ]
  },
  {
   "cell_type": "code",
   "execution_count": null,
   "id": "17a4a64d",
   "metadata": {
    "colab": {
     "base_uri": "https://localhost:8080/"
    },
    "id": "17a4a64d",
    "outputId": "b975d77f-40e5-40ca-e61a-d775e821783d"
   },
   "outputs": [],
   "source": [
    "\n",
    "train_size = 0.01 # train size chosen to have a few tousands of elements\n",
    "cutoff_variance = .9 # the total amount of variance explained by the selected transformed features\n",
    "cv = 5\n",
    "random_state = 42\n",
    "np.random.seed(random_state) # this sets the random sequence. Setting only this the repeatability is guaranteed\n",
    "                             # only if we re-execute the entire notebook\n",
    "\n",
    "train_ds = pd.read_csv(google_drive_path+'train.csv')\n",
    "test_ds = pd.read_csv(google_drive_path+'test.csv')\n",
    "\n",
    "print(\"Shape of the training data {}\".format(train_ds.shape))\n",
    "print(\"Shape of the test data {}\".format(test_ds.shape))"
   ]
  },
  {
   "cell_type": "code",
   "execution_count": null,
   "id": "9a69fcdf",
   "metadata": {
    "colab": {
     "base_uri": "https://localhost:8080/",
     "height": 412
    },
    "id": "9a69fcdf",
    "outputId": "34b2dcd5-ff0c-44e9-cafc-503d8ae50f64"
   },
   "outputs": [],
   "source": [
    "# show 10 random records\n",
    "train_ds.sample(n=10, axis=0, replace=False, random_state = random_state)"
   ]
  },
  {
   "cell_type": "code",
   "execution_count": null,
   "id": "0050d8f1",
   "metadata": {
    "id": "0050d8f1"
   },
   "outputs": [],
   "source": [
    "# test_ds.head()\n",
    "# test_ds.sample(n=10, axis=0, replace=False, random_state = random_state)"
   ]
  },
  {
   "cell_type": "code",
   "execution_count": null,
   "id": "c6679ce5",
   "metadata": {
    "colab": {
     "base_uri": "https://localhost:8080/"
    },
    "id": "c6679ce5",
    "outputId": "c40b4fda-1a83-470d-cd69-bc03eb65254e"
   },
   "outputs": [],
   "source": [
    "train_ds.nunique().sort_values(ascending=False)[:30]"
   ]
  },
  {
   "cell_type": "code",
   "execution_count": null,
   "id": "8b5892fd",
   "metadata": {
    "id": "8b5892fd"
   },
   "outputs": [],
   "source": [
    "# train_ds['feature_15'].sort_values(ascending=False)[:20]"
   ]
  },
  {
   "cell_type": "code",
   "execution_count": null,
   "id": "8f669a80",
   "metadata": {
    "colab": {
     "base_uri": "https://localhost:8080/"
    },
    "id": "8f669a80",
    "outputId": "abe04f56-694a-4839-f2d7-91c08d8608ac"
   },
   "outputs": [],
   "source": [
    "target = 'target'\n",
    "classes = train_ds[target].unique()\n",
    "classes.sort()\n",
    "print(classes)"
   ]
  },
  {
   "cell_type": "code",
   "execution_count": null,
   "id": "398f513e",
   "metadata": {
    "id": "398f513e"
   },
   "outputs": [],
   "source": [
    "le = LabelEncoder()\n",
    "y = le.fit_transform(train_ds[target])\n",
    "X = train_ds.drop(['id', target], axis=1)\n"
   ]
  },
  {
   "cell_type": "code",
   "execution_count": null,
   "id": "33013a1f",
   "metadata": {
    "colab": {
     "base_uri": "https://localhost:8080/",
     "height": 255
    },
    "id": "33013a1f",
    "outputId": "a4013424-322c-4f26-b868-eaab4a052ac3"
   },
   "outputs": [],
   "source": [
    "X.head()"
   ]
  },
  {
   "cell_type": "code",
   "execution_count": null,
   "id": "0fbd4ae2",
   "metadata": {
    "id": "0fbd4ae2"
   },
   "outputs": [],
   "source": [
    "model_lbls = ['dt' # decision tree\n",
    "             #,'nb' # gaussian naive bayes\n",
    "             ,'rf'   # random forest\n",
    "             #,'lp'   # linear perceptron\n",
    "             #,'svc'  # support vector\n",
    "             #,'knn'  # k nearest neighbours\n",
    "             #,'adb'  # adaboost\n",
    "            ]\n",
    "\n",
    "models = {\n",
    "    'dt': {'name': 'Decision Tree       ',\n",
    "           'estimator': DecisionTreeClassifier(random_state=random_state),\n",
    "           'param': [{'max_depth': [*range(1,20)],'class_weight':[None,'balanced']}],\n",
    "          },\n",
    "    'nb': {'name': 'Gaussian Naive Bayes',\n",
    "           'estimator': GaussianNB(),\n",
    "           'param': [{'var_smoothing': [10**exp for exp in range(-3,-12,-1)]}]\n",
    "          },\n",
    "    'lp': {'name': 'Linear Perceptron   ',\n",
    "           'estimator': Perceptron(random_state=random_state),\n",
    "           'param': [{'early_stopping': [True,False],'class_weight':[None,'balanced']}],\n",
    "          },\n",
    "    'svc':{'name': 'Support Vector      ',\n",
    "           'estimator': SVC(random_state=random_state),\n",
    "           'param': [{'kernel': ['rbf'],\n",
    "                    'gamma': [1e-3, 1e-4],\n",
    "                    'C': [1, 10, 100],\n",
    "                    },\n",
    "                    {'kernel': ['linear'],\n",
    "                     'C': [1, 10, 100],\n",
    "                    },\n",
    "                   ]\n",
    "          },\n",
    "    'knn':{'name': 'K Nearest Neighbor ',\n",
    "           'estimator': KNeighborsClassifier(),\n",
    "           'param': [{'n_neighbors': list(range(1,7))}]\n",
    "       },\n",
    "    'adb':{'name': 'AdaBoost           ',\n",
    "           'estimator': AdaBoostClassifier(random_state=random_state),\n",
    "           'param': [{'n_estimators':[20,30,40,50]\n",
    "                     ,'learning_rate':[0.5,0.75,1,1.25,1.5]}]\n",
    "          },\n",
    "    'rf': {'name': 'Random forest       ',\n",
    "           'estimator': RandomForestClassifier(random_state=random_state),\n",
    "           'param': [{\n",
    "                      # 'max_depth': [*range(4,30)]\n",
    "                      'max_depth': [*range(4,30,4)]\n",
    "                    #  ,'n_estimators':[*range(20,80,5)]\n",
    "                     ,'n_estimators':[*range(10,30,5)]\n",
    "                     ,'class_weight': [None,'balanced']\n",
    "                      }]\n",
    "          }\n",
    "\n",
    "}\n"
   ]
  },
  {
   "cell_type": "code",
   "execution_count": null,
   "id": "6bd36e73",
   "metadata": {
    "colab": {
     "base_uri": "https://localhost:8080/"
    },
    "id": "6bd36e73",
    "outputId": "a6e7a58c-b628-43b9-fcb3-228c5d3b845a"
   },
   "outputs": [],
   "source": [
    "from sklearn.model_selection import train_test_split\n",
    "X_train_full, X_test_full, y_train, y_test = train_test_split(X, y\n",
    "                                                    , train_size = train_size\n",
    "                                                    , random_state = random_state) # default Train 0.75- Test 0.25\n",
    "print(\"There are {} samples in the training dataset\".format(X_train_full.shape[0]))\n",
    "print(\"There are {} samples in the testing dataset\".format(X_test_full.shape[0]))\n",
    "print(\"Each sample has {} features\".format(X.shape[1]))"
   ]
  },
  {
   "cell_type": "code",
   "execution_count": null,
   "id": "6f39a29c",
   "metadata": {
    "colab": {
     "base_uri": "https://localhost:8080/",
     "height": 262
    },
    "id": "6f39a29c",
    "outputId": "ac3a5c3e-1ba5-47b9-9a50-660557088f38"
   },
   "outputs": [],
   "source": [
    "fig, (ax1,ax2) = plt.subplots(nrows=1, ncols=2)\n",
    "ax1.pie(np.unique(y_train, return_counts=True)[1], labels=np.unique(y_train, return_counts=True)[0]);\n",
    "ax2.pie(np.unique(y_test, return_counts=True)[1], labels=np.unique(y_test, return_counts=True)[0]);\n",
    "plt.show()\n"
   ]
  },
  {
   "cell_type": "code",
   "execution_count": null,
   "id": "f95b0428",
   "metadata": {
    "id": "f95b0428"
   },
   "outputs": [],
   "source": [
    "from sklearn.feature_selection import mutual_info_classif, SelectKBest\n",
    "# # mic = mutual_info_classif(random_state = random_state)\n",
    "\n",
    "# # mic.fit(X_full, y)\n",
    "\n",
    "\n",
    "k_best = 30  # Number of top features to select\n",
    "selector = SelectKBest(mutual_info_classif, k=k_best)\n",
    "X_train = selector.fit_transform(X_train_full, y_train)\n",
    "X_test = selector.transform(X_test_full)\n",
    "\n",
    "# # Train a classifier using the selected features\n",
    "# clf = RandomForestClassifier(random_state=42)\n",
    "# clf.fit(X_train_selected, y_train)\n",
    "\n",
    "# # Make predictions on the test set\n",
    "# y_pred = clf.predict(X_test_selected)\n",
    "\n",
    "# # Evaluate the accuracy of the model\n",
    "# from sklearn.metrics import accuracy_score\n",
    "# accuracy = accuracy_score(y_test, y_pred)\n",
    "# print(f\"Accuracy: {accuracy}\")"
   ]
  },
  {
   "cell_type": "code",
   "execution_count": null,
   "id": "9b750982",
   "metadata": {
    "id": "9b750982"
   },
   "outputs": [],
   "source": [
    "scorings = ['accuracy'\n",
    "            # ,'precision_macro'\n",
    "            # ,'recall_macro'\n",
    "            ,'f1_macro'\n",
    "            ]"
   ]
  },
  {
   "cell_type": "code",
   "execution_count": null,
   "id": "ca8c6f24",
   "metadata": {
    "colab": {
     "base_uri": "https://localhost:8080/"
    },
    "id": "ca8c6f24",
    "outputId": "8af47cbf-72f2-4b7e-cdd5-a835d1aa9f68"
   },
   "outputs": [],
   "source": [
    "from sklearn.model_selection import ParameterGrid\n",
    "trials = {lbl: len(list(ParameterGrid(models[lbl]['param']))) for lbl in model_lbls}\n",
    "trials"
   ]
  },
  {
   "cell_type": "code",
   "execution_count": null,
   "id": "1f4cbfff",
   "metadata": {
    "id": "1f4cbfff"
   },
   "outputs": [],
   "source": [
    "clfs = []\n",
    "results = pd.DataFrame(columns=['scoring','model','best_params','accuracy','precision_macro','recall_macro','f1_macro'])\n",
    "\n"
   ]
  },
  {
   "cell_type": "code",
   "execution_count": null,
   "id": "c1457a0e",
   "metadata": {
    "id": "c1457a0e"
   },
   "outputs": [],
   "source": [
    "for scoring in scorings:\n",
    "    for m in model_lbls:\n",
    "        clf = GridSearchCV(models[m]['estimator'], models[m]['param'], cv=cv,\n",
    "                           scoring = scoring,\n",
    "\n",
    "                           )\n",
    "\n",
    "        clf.fit(X_train, y_train)\n",
    "        clfs.append(clf)\n",
    "        y_true, y_pred = y_test, clf.predict(X_test)\n",
    "        # y_preds.append(y_pred)\n",
    "        cr = classification_report(y_true,y_pred, output_dict=True\n",
    "                                   , zero_division=1\n",
    "                                   )\n",
    "        results.loc[len(results)] = [scoring,models[m]['name'],clf.best_params_\n",
    "                                    # ,(clf.cv_results_['mean_fit_time'].sum()+clf.cv_results_['mean_score_time'].sum())*n_splits\n",
    "                                    ,cr['accuracy']\n",
    "                                    ,cr['macro avg']['precision']\n",
    "                                    ,cr['macro avg']['recall']\n",
    "                                    ,cr['macro avg']['f1-score']]\n",
    "\n",
    "\n",
    "\n"
   ]
  },
  {
   "cell_type": "code",
   "execution_count": null,
   "id": "0e72be9b",
   "metadata": {
    "colab": {
     "base_uri": "https://localhost:8080/",
     "height": 241
    },
    "id": "0e72be9b",
    "outputId": "c0d1fd21-c876-4659-f0ca-b667a4359d81"
   },
   "outputs": [],
   "source": [
    "for score in scorings:\n",
    "    scoring_filter = score\n",
    "    display(results[results.scoring==scoring_filter]\\\n",
    "                .sort_values(by=scoring_filter,ascending=False)\\\n",
    "                .drop('scoring',axis=1)\\\n",
    "                .style.format(precision=3)\\\n",
    "                .set_caption('Results for scoring \"{}\"'.format(scoring_filter)))"
   ]
  },
  {
   "cell_type": "code",
   "execution_count": null,
   "id": "914e8772",
   "metadata": {
    "colab": {
     "base_uri": "https://localhost:8080/",
     "height": 927
    },
    "id": "914e8772",
    "outputId": "ad35fa0a-0701-4f9f-ed96-f824a7492468"
   },
   "outputs": [],
   "source": [
    "for score in scorings:\n",
    "    scoring_filter = score\n",
    "    # bests[score] = results.loc[results.scoring==scoring_filter,scoring_filter].idxmax(axis=0)\n",
    "    best_row = results.loc[results.scoring==scoring_filter,scoring_filter].idxmax(axis=0)\n",
    "    disp = ConfusionMatrixDisplay.from_estimator(X=X_test, y=y_test, estimator = clfs[best_row], normalize='true')\n",
    "    # disp.ax_.set_title(\"Best Model for {}: {}\".format(score,results.at[bests[score],'model']))\n",
    "    disp.ax_.set_title(\"Best Model for {}: {}\".format(score,results.at[best_row,'model']))\n",
    "plt.show()"
   ]
  },
  {
   "cell_type": "code",
   "execution_count": null,
   "id": "7e795569",
   "metadata": {
    "id": "7e795569"
   },
   "outputs": [],
   "source": [
    "# fare final test allenando il best model con tutti i dati di training"
   ]
  },
  {
   "cell_type": "code",
   "execution_count": null,
   "id": "95756fec",
   "metadata": {
    "id": "95756fec"
   },
   "outputs": [],
   "source": []
  },
  {
   "cell_type": "code",
   "execution_count": null,
   "id": "588c735f",
   "metadata": {
    "id": "588c735f"
   },
   "outputs": [],
   "source": []
  }
 ],
 "metadata": {
  "colab": {
   "provenance": []
  },
  "kernelspec": {
   "display_name": "Python 3 (ipykernel)",
   "language": "python",
   "name": "python3"
  },
  "language_info": {
   "codemirror_mode": {
    "name": "ipython",
    "version": 3
   },
   "file_extension": ".py",
   "mimetype": "text/x-python",
   "name": "python",
   "nbconvert_exporter": "python",
   "pygments_lexer": "ipython3",
   "version": "3.13.1"
  }
 },
 "nbformat": 4,
 "nbformat_minor": 5
}
